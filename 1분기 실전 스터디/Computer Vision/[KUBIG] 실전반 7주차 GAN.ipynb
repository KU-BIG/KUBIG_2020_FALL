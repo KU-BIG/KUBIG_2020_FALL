{
  "nbformat": 4,
  "nbformat_minor": 0,
  "metadata": {
    "colab": {
      "name": "GAN.ipynb",
      "provenance": [],
      "collapsed_sections": []
    },
    "kernelspec": {
      "name": "python3",
      "display_name": "Python 3"
    },
    "widgets": {
      "application/vnd.jupyter.widget-state+json": {
        "45b52da557f94d41a9a380e1591a7284": {
          "model_module": "@jupyter-widgets/controls",
          "model_name": "HBoxModel",
          "state": {
            "_view_name": "HBoxView",
            "_dom_classes": [],
            "_model_name": "HBoxModel",
            "_view_module": "@jupyter-widgets/controls",
            "_model_module_version": "1.5.0",
            "_view_count": null,
            "_view_module_version": "1.5.0",
            "box_style": "",
            "layout": "IPY_MODEL_1109b2f05ba44c0fa6fdc2f15d4a4353",
            "_model_module": "@jupyter-widgets/controls",
            "children": [
              "IPY_MODEL_34136cb0a0b8490cb4c2b27d56b7ff85",
              "IPY_MODEL_b95ed92c85ec4c86b8af11aa33fc8887"
            ]
          }
        },
        "1109b2f05ba44c0fa6fdc2f15d4a4353": {
          "model_module": "@jupyter-widgets/base",
          "model_name": "LayoutModel",
          "state": {
            "_view_name": "LayoutView",
            "grid_template_rows": null,
            "right": null,
            "justify_content": null,
            "_view_module": "@jupyter-widgets/base",
            "overflow": null,
            "_model_module_version": "1.2.0",
            "_view_count": null,
            "flex_flow": null,
            "width": null,
            "min_width": null,
            "border": null,
            "align_items": null,
            "bottom": null,
            "_model_module": "@jupyter-widgets/base",
            "top": null,
            "grid_column": null,
            "overflow_y": null,
            "overflow_x": null,
            "grid_auto_flow": null,
            "grid_area": null,
            "grid_template_columns": null,
            "flex": null,
            "_model_name": "LayoutModel",
            "justify_items": null,
            "grid_row": null,
            "max_height": null,
            "align_content": null,
            "visibility": null,
            "align_self": null,
            "height": null,
            "min_height": null,
            "padding": null,
            "grid_auto_rows": null,
            "grid_gap": null,
            "max_width": null,
            "order": null,
            "_view_module_version": "1.2.0",
            "grid_template_areas": null,
            "object_position": null,
            "object_fit": null,
            "grid_auto_columns": null,
            "margin": null,
            "display": null,
            "left": null
          }
        },
        "34136cb0a0b8490cb4c2b27d56b7ff85": {
          "model_module": "@jupyter-widgets/controls",
          "model_name": "FloatProgressModel",
          "state": {
            "_view_name": "ProgressView",
            "style": "IPY_MODEL_87863812636e4d26a5e46cfb96970fa6",
            "_dom_classes": [],
            "description": "",
            "_model_name": "FloatProgressModel",
            "bar_style": "info",
            "max": 1,
            "_view_module": "@jupyter-widgets/controls",
            "_model_module_version": "1.5.0",
            "value": 1,
            "_view_count": null,
            "_view_module_version": "1.5.0",
            "orientation": "horizontal",
            "min": 0,
            "description_tooltip": null,
            "_model_module": "@jupyter-widgets/controls",
            "layout": "IPY_MODEL_63e213e59586407b96581ef562709f17"
          }
        },
        "b95ed92c85ec4c86b8af11aa33fc8887": {
          "model_module": "@jupyter-widgets/controls",
          "model_name": "HTMLModel",
          "state": {
            "_view_name": "HTMLView",
            "style": "IPY_MODEL_241b5cd927e343a69109c43f80304928",
            "_dom_classes": [],
            "description": "",
            "_model_name": "HTMLModel",
            "placeholder": "​",
            "_view_module": "@jupyter-widgets/controls",
            "_model_module_version": "1.5.0",
            "value": " 9920512/? [00:20&lt;00:00, 13332127.71it/s]",
            "_view_count": null,
            "_view_module_version": "1.5.0",
            "description_tooltip": null,
            "_model_module": "@jupyter-widgets/controls",
            "layout": "IPY_MODEL_7b1cbc8e6a4642c6a02c7880c55c9653"
          }
        },
        "87863812636e4d26a5e46cfb96970fa6": {
          "model_module": "@jupyter-widgets/controls",
          "model_name": "ProgressStyleModel",
          "state": {
            "_view_name": "StyleView",
            "_model_name": "ProgressStyleModel",
            "description_width": "initial",
            "_view_module": "@jupyter-widgets/base",
            "_model_module_version": "1.5.0",
            "_view_count": null,
            "_view_module_version": "1.2.0",
            "bar_color": null,
            "_model_module": "@jupyter-widgets/controls"
          }
        },
        "63e213e59586407b96581ef562709f17": {
          "model_module": "@jupyter-widgets/base",
          "model_name": "LayoutModel",
          "state": {
            "_view_name": "LayoutView",
            "grid_template_rows": null,
            "right": null,
            "justify_content": null,
            "_view_module": "@jupyter-widgets/base",
            "overflow": null,
            "_model_module_version": "1.2.0",
            "_view_count": null,
            "flex_flow": null,
            "width": null,
            "min_width": null,
            "border": null,
            "align_items": null,
            "bottom": null,
            "_model_module": "@jupyter-widgets/base",
            "top": null,
            "grid_column": null,
            "overflow_y": null,
            "overflow_x": null,
            "grid_auto_flow": null,
            "grid_area": null,
            "grid_template_columns": null,
            "flex": null,
            "_model_name": "LayoutModel",
            "justify_items": null,
            "grid_row": null,
            "max_height": null,
            "align_content": null,
            "visibility": null,
            "align_self": null,
            "height": null,
            "min_height": null,
            "padding": null,
            "grid_auto_rows": null,
            "grid_gap": null,
            "max_width": null,
            "order": null,
            "_view_module_version": "1.2.0",
            "grid_template_areas": null,
            "object_position": null,
            "object_fit": null,
            "grid_auto_columns": null,
            "margin": null,
            "display": null,
            "left": null
          }
        },
        "241b5cd927e343a69109c43f80304928": {
          "model_module": "@jupyter-widgets/controls",
          "model_name": "DescriptionStyleModel",
          "state": {
            "_view_name": "StyleView",
            "_model_name": "DescriptionStyleModel",
            "description_width": "",
            "_view_module": "@jupyter-widgets/base",
            "_model_module_version": "1.5.0",
            "_view_count": null,
            "_view_module_version": "1.2.0",
            "_model_module": "@jupyter-widgets/controls"
          }
        },
        "7b1cbc8e6a4642c6a02c7880c55c9653": {
          "model_module": "@jupyter-widgets/base",
          "model_name": "LayoutModel",
          "state": {
            "_view_name": "LayoutView",
            "grid_template_rows": null,
            "right": null,
            "justify_content": null,
            "_view_module": "@jupyter-widgets/base",
            "overflow": null,
            "_model_module_version": "1.2.0",
            "_view_count": null,
            "flex_flow": null,
            "width": null,
            "min_width": null,
            "border": null,
            "align_items": null,
            "bottom": null,
            "_model_module": "@jupyter-widgets/base",
            "top": null,
            "grid_column": null,
            "overflow_y": null,
            "overflow_x": null,
            "grid_auto_flow": null,
            "grid_area": null,
            "grid_template_columns": null,
            "flex": null,
            "_model_name": "LayoutModel",
            "justify_items": null,
            "grid_row": null,
            "max_height": null,
            "align_content": null,
            "visibility": null,
            "align_self": null,
            "height": null,
            "min_height": null,
            "padding": null,
            "grid_auto_rows": null,
            "grid_gap": null,
            "max_width": null,
            "order": null,
            "_view_module_version": "1.2.0",
            "grid_template_areas": null,
            "object_position": null,
            "object_fit": null,
            "grid_auto_columns": null,
            "margin": null,
            "display": null,
            "left": null
          }
        },
        "95a123586e5b4275917f4c3779964f2b": {
          "model_module": "@jupyter-widgets/controls",
          "model_name": "HBoxModel",
          "state": {
            "_view_name": "HBoxView",
            "_dom_classes": [],
            "_model_name": "HBoxModel",
            "_view_module": "@jupyter-widgets/controls",
            "_model_module_version": "1.5.0",
            "_view_count": null,
            "_view_module_version": "1.5.0",
            "box_style": "",
            "layout": "IPY_MODEL_7725f194559d4c99a9b99e1a86100f2e",
            "_model_module": "@jupyter-widgets/controls",
            "children": [
              "IPY_MODEL_f44d6085bc924018a7bdb73c8befe012",
              "IPY_MODEL_39adf9e2f503415b971f82ff4342468f"
            ]
          }
        },
        "7725f194559d4c99a9b99e1a86100f2e": {
          "model_module": "@jupyter-widgets/base",
          "model_name": "LayoutModel",
          "state": {
            "_view_name": "LayoutView",
            "grid_template_rows": null,
            "right": null,
            "justify_content": null,
            "_view_module": "@jupyter-widgets/base",
            "overflow": null,
            "_model_module_version": "1.2.0",
            "_view_count": null,
            "flex_flow": null,
            "width": null,
            "min_width": null,
            "border": null,
            "align_items": null,
            "bottom": null,
            "_model_module": "@jupyter-widgets/base",
            "top": null,
            "grid_column": null,
            "overflow_y": null,
            "overflow_x": null,
            "grid_auto_flow": null,
            "grid_area": null,
            "grid_template_columns": null,
            "flex": null,
            "_model_name": "LayoutModel",
            "justify_items": null,
            "grid_row": null,
            "max_height": null,
            "align_content": null,
            "visibility": null,
            "align_self": null,
            "height": null,
            "min_height": null,
            "padding": null,
            "grid_auto_rows": null,
            "grid_gap": null,
            "max_width": null,
            "order": null,
            "_view_module_version": "1.2.0",
            "grid_template_areas": null,
            "object_position": null,
            "object_fit": null,
            "grid_auto_columns": null,
            "margin": null,
            "display": null,
            "left": null
          }
        },
        "f44d6085bc924018a7bdb73c8befe012": {
          "model_module": "@jupyter-widgets/controls",
          "model_name": "FloatProgressModel",
          "state": {
            "_view_name": "ProgressView",
            "style": "IPY_MODEL_e4491b46493546e5b4c6e5edb258ecc6",
            "_dom_classes": [],
            "description": "",
            "_model_name": "FloatProgressModel",
            "bar_style": "success",
            "max": 1,
            "_view_module": "@jupyter-widgets/controls",
            "_model_module_version": "1.5.0",
            "value": 1,
            "_view_count": null,
            "_view_module_version": "1.5.0",
            "orientation": "horizontal",
            "min": 0,
            "description_tooltip": null,
            "_model_module": "@jupyter-widgets/controls",
            "layout": "IPY_MODEL_2df5669584d643cb85146ac0f0daa068"
          }
        },
        "39adf9e2f503415b971f82ff4342468f": {
          "model_module": "@jupyter-widgets/controls",
          "model_name": "HTMLModel",
          "state": {
            "_view_name": "HTMLView",
            "style": "IPY_MODEL_f5b20cb9aef648cd8f42b329e8cc18b3",
            "_dom_classes": [],
            "description": "",
            "_model_name": "HTMLModel",
            "placeholder": "​",
            "_view_module": "@jupyter-widgets/controls",
            "_model_module_version": "1.5.0",
            "value": " 32768/? [00:00&lt;00:00, 233041.39it/s]",
            "_view_count": null,
            "_view_module_version": "1.5.0",
            "description_tooltip": null,
            "_model_module": "@jupyter-widgets/controls",
            "layout": "IPY_MODEL_7f0be7f358c946619cde16e6f26bb644"
          }
        },
        "e4491b46493546e5b4c6e5edb258ecc6": {
          "model_module": "@jupyter-widgets/controls",
          "model_name": "ProgressStyleModel",
          "state": {
            "_view_name": "StyleView",
            "_model_name": "ProgressStyleModel",
            "description_width": "initial",
            "_view_module": "@jupyter-widgets/base",
            "_model_module_version": "1.5.0",
            "_view_count": null,
            "_view_module_version": "1.2.0",
            "bar_color": null,
            "_model_module": "@jupyter-widgets/controls"
          }
        },
        "2df5669584d643cb85146ac0f0daa068": {
          "model_module": "@jupyter-widgets/base",
          "model_name": "LayoutModel",
          "state": {
            "_view_name": "LayoutView",
            "grid_template_rows": null,
            "right": null,
            "justify_content": null,
            "_view_module": "@jupyter-widgets/base",
            "overflow": null,
            "_model_module_version": "1.2.0",
            "_view_count": null,
            "flex_flow": null,
            "width": null,
            "min_width": null,
            "border": null,
            "align_items": null,
            "bottom": null,
            "_model_module": "@jupyter-widgets/base",
            "top": null,
            "grid_column": null,
            "overflow_y": null,
            "overflow_x": null,
            "grid_auto_flow": null,
            "grid_area": null,
            "grid_template_columns": null,
            "flex": null,
            "_model_name": "LayoutModel",
            "justify_items": null,
            "grid_row": null,
            "max_height": null,
            "align_content": null,
            "visibility": null,
            "align_self": null,
            "height": null,
            "min_height": null,
            "padding": null,
            "grid_auto_rows": null,
            "grid_gap": null,
            "max_width": null,
            "order": null,
            "_view_module_version": "1.2.0",
            "grid_template_areas": null,
            "object_position": null,
            "object_fit": null,
            "grid_auto_columns": null,
            "margin": null,
            "display": null,
            "left": null
          }
        },
        "f5b20cb9aef648cd8f42b329e8cc18b3": {
          "model_module": "@jupyter-widgets/controls",
          "model_name": "DescriptionStyleModel",
          "state": {
            "_view_name": "StyleView",
            "_model_name": "DescriptionStyleModel",
            "description_width": "",
            "_view_module": "@jupyter-widgets/base",
            "_model_module_version": "1.5.0",
            "_view_count": null,
            "_view_module_version": "1.2.0",
            "_model_module": "@jupyter-widgets/controls"
          }
        },
        "7f0be7f358c946619cde16e6f26bb644": {
          "model_module": "@jupyter-widgets/base",
          "model_name": "LayoutModel",
          "state": {
            "_view_name": "LayoutView",
            "grid_template_rows": null,
            "right": null,
            "justify_content": null,
            "_view_module": "@jupyter-widgets/base",
            "overflow": null,
            "_model_module_version": "1.2.0",
            "_view_count": null,
            "flex_flow": null,
            "width": null,
            "min_width": null,
            "border": null,
            "align_items": null,
            "bottom": null,
            "_model_module": "@jupyter-widgets/base",
            "top": null,
            "grid_column": null,
            "overflow_y": null,
            "overflow_x": null,
            "grid_auto_flow": null,
            "grid_area": null,
            "grid_template_columns": null,
            "flex": null,
            "_model_name": "LayoutModel",
            "justify_items": null,
            "grid_row": null,
            "max_height": null,
            "align_content": null,
            "visibility": null,
            "align_self": null,
            "height": null,
            "min_height": null,
            "padding": null,
            "grid_auto_rows": null,
            "grid_gap": null,
            "max_width": null,
            "order": null,
            "_view_module_version": "1.2.0",
            "grid_template_areas": null,
            "object_position": null,
            "object_fit": null,
            "grid_auto_columns": null,
            "margin": null,
            "display": null,
            "left": null
          }
        },
        "c1d8b2d5e94d47ab8c20d726cee3e87f": {
          "model_module": "@jupyter-widgets/controls",
          "model_name": "HBoxModel",
          "state": {
            "_view_name": "HBoxView",
            "_dom_classes": [],
            "_model_name": "HBoxModel",
            "_view_module": "@jupyter-widgets/controls",
            "_model_module_version": "1.5.0",
            "_view_count": null,
            "_view_module_version": "1.5.0",
            "box_style": "",
            "layout": "IPY_MODEL_bb18eddfbfef4e0f8d1cb81874f2d725",
            "_model_module": "@jupyter-widgets/controls",
            "children": [
              "IPY_MODEL_dec28f5e8877446ca9562b502c8a0071",
              "IPY_MODEL_88a8ca93eca14916b5667341e8aa118c"
            ]
          }
        },
        "bb18eddfbfef4e0f8d1cb81874f2d725": {
          "model_module": "@jupyter-widgets/base",
          "model_name": "LayoutModel",
          "state": {
            "_view_name": "LayoutView",
            "grid_template_rows": null,
            "right": null,
            "justify_content": null,
            "_view_module": "@jupyter-widgets/base",
            "overflow": null,
            "_model_module_version": "1.2.0",
            "_view_count": null,
            "flex_flow": null,
            "width": null,
            "min_width": null,
            "border": null,
            "align_items": null,
            "bottom": null,
            "_model_module": "@jupyter-widgets/base",
            "top": null,
            "grid_column": null,
            "overflow_y": null,
            "overflow_x": null,
            "grid_auto_flow": null,
            "grid_area": null,
            "grid_template_columns": null,
            "flex": null,
            "_model_name": "LayoutModel",
            "justify_items": null,
            "grid_row": null,
            "max_height": null,
            "align_content": null,
            "visibility": null,
            "align_self": null,
            "height": null,
            "min_height": null,
            "padding": null,
            "grid_auto_rows": null,
            "grid_gap": null,
            "max_width": null,
            "order": null,
            "_view_module_version": "1.2.0",
            "grid_template_areas": null,
            "object_position": null,
            "object_fit": null,
            "grid_auto_columns": null,
            "margin": null,
            "display": null,
            "left": null
          }
        },
        "dec28f5e8877446ca9562b502c8a0071": {
          "model_module": "@jupyter-widgets/controls",
          "model_name": "FloatProgressModel",
          "state": {
            "_view_name": "ProgressView",
            "style": "IPY_MODEL_2db95f8150b9436f8adb72fd39648d05",
            "_dom_classes": [],
            "description": "",
            "_model_name": "FloatProgressModel",
            "bar_style": "info",
            "max": 1,
            "_view_module": "@jupyter-widgets/controls",
            "_model_module_version": "1.5.0",
            "value": 1,
            "_view_count": null,
            "_view_module_version": "1.5.0",
            "orientation": "horizontal",
            "min": 0,
            "description_tooltip": null,
            "_model_module": "@jupyter-widgets/controls",
            "layout": "IPY_MODEL_53a578afe0b44ef69848b7f23cfda3be"
          }
        },
        "88a8ca93eca14916b5667341e8aa118c": {
          "model_module": "@jupyter-widgets/controls",
          "model_name": "HTMLModel",
          "state": {
            "_view_name": "HTMLView",
            "style": "IPY_MODEL_0f2a9882dfb14805815fe4f1f0a7396f",
            "_dom_classes": [],
            "description": "",
            "_model_name": "HTMLModel",
            "placeholder": "​",
            "_view_module": "@jupyter-widgets/controls",
            "_model_module_version": "1.5.0",
            "value": " 1654784/? [00:19&lt;00:00, 11656902.26it/s]",
            "_view_count": null,
            "_view_module_version": "1.5.0",
            "description_tooltip": null,
            "_model_module": "@jupyter-widgets/controls",
            "layout": "IPY_MODEL_e3160376d9764ef68eac4fe4acdb4953"
          }
        },
        "2db95f8150b9436f8adb72fd39648d05": {
          "model_module": "@jupyter-widgets/controls",
          "model_name": "ProgressStyleModel",
          "state": {
            "_view_name": "StyleView",
            "_model_name": "ProgressStyleModel",
            "description_width": "initial",
            "_view_module": "@jupyter-widgets/base",
            "_model_module_version": "1.5.0",
            "_view_count": null,
            "_view_module_version": "1.2.0",
            "bar_color": null,
            "_model_module": "@jupyter-widgets/controls"
          }
        },
        "53a578afe0b44ef69848b7f23cfda3be": {
          "model_module": "@jupyter-widgets/base",
          "model_name": "LayoutModel",
          "state": {
            "_view_name": "LayoutView",
            "grid_template_rows": null,
            "right": null,
            "justify_content": null,
            "_view_module": "@jupyter-widgets/base",
            "overflow": null,
            "_model_module_version": "1.2.0",
            "_view_count": null,
            "flex_flow": null,
            "width": null,
            "min_width": null,
            "border": null,
            "align_items": null,
            "bottom": null,
            "_model_module": "@jupyter-widgets/base",
            "top": null,
            "grid_column": null,
            "overflow_y": null,
            "overflow_x": null,
            "grid_auto_flow": null,
            "grid_area": null,
            "grid_template_columns": null,
            "flex": null,
            "_model_name": "LayoutModel",
            "justify_items": null,
            "grid_row": null,
            "max_height": null,
            "align_content": null,
            "visibility": null,
            "align_self": null,
            "height": null,
            "min_height": null,
            "padding": null,
            "grid_auto_rows": null,
            "grid_gap": null,
            "max_width": null,
            "order": null,
            "_view_module_version": "1.2.0",
            "grid_template_areas": null,
            "object_position": null,
            "object_fit": null,
            "grid_auto_columns": null,
            "margin": null,
            "display": null,
            "left": null
          }
        },
        "0f2a9882dfb14805815fe4f1f0a7396f": {
          "model_module": "@jupyter-widgets/controls",
          "model_name": "DescriptionStyleModel",
          "state": {
            "_view_name": "StyleView",
            "_model_name": "DescriptionStyleModel",
            "description_width": "",
            "_view_module": "@jupyter-widgets/base",
            "_model_module_version": "1.5.0",
            "_view_count": null,
            "_view_module_version": "1.2.0",
            "_model_module": "@jupyter-widgets/controls"
          }
        },
        "e3160376d9764ef68eac4fe4acdb4953": {
          "model_module": "@jupyter-widgets/base",
          "model_name": "LayoutModel",
          "state": {
            "_view_name": "LayoutView",
            "grid_template_rows": null,
            "right": null,
            "justify_content": null,
            "_view_module": "@jupyter-widgets/base",
            "overflow": null,
            "_model_module_version": "1.2.0",
            "_view_count": null,
            "flex_flow": null,
            "width": null,
            "min_width": null,
            "border": null,
            "align_items": null,
            "bottom": null,
            "_model_module": "@jupyter-widgets/base",
            "top": null,
            "grid_column": null,
            "overflow_y": null,
            "overflow_x": null,
            "grid_auto_flow": null,
            "grid_area": null,
            "grid_template_columns": null,
            "flex": null,
            "_model_name": "LayoutModel",
            "justify_items": null,
            "grid_row": null,
            "max_height": null,
            "align_content": null,
            "visibility": null,
            "align_self": null,
            "height": null,
            "min_height": null,
            "padding": null,
            "grid_auto_rows": null,
            "grid_gap": null,
            "max_width": null,
            "order": null,
            "_view_module_version": "1.2.0",
            "grid_template_areas": null,
            "object_position": null,
            "object_fit": null,
            "grid_auto_columns": null,
            "margin": null,
            "display": null,
            "left": null
          }
        },
        "6772485639b04e8a854dad5c5f920d90": {
          "model_module": "@jupyter-widgets/controls",
          "model_name": "HBoxModel",
          "state": {
            "_view_name": "HBoxView",
            "_dom_classes": [],
            "_model_name": "HBoxModel",
            "_view_module": "@jupyter-widgets/controls",
            "_model_module_version": "1.5.0",
            "_view_count": null,
            "_view_module_version": "1.5.0",
            "box_style": "",
            "layout": "IPY_MODEL_56aa20cb917a4ae9923ef73dfae16e28",
            "_model_module": "@jupyter-widgets/controls",
            "children": [
              "IPY_MODEL_ec00f6db381d4fa5b23cdc2864fdc0b2",
              "IPY_MODEL_89729ea70b3542a7974cd5abeb976514"
            ]
          }
        },
        "56aa20cb917a4ae9923ef73dfae16e28": {
          "model_module": "@jupyter-widgets/base",
          "model_name": "LayoutModel",
          "state": {
            "_view_name": "LayoutView",
            "grid_template_rows": null,
            "right": null,
            "justify_content": null,
            "_view_module": "@jupyter-widgets/base",
            "overflow": null,
            "_model_module_version": "1.2.0",
            "_view_count": null,
            "flex_flow": null,
            "width": null,
            "min_width": null,
            "border": null,
            "align_items": null,
            "bottom": null,
            "_model_module": "@jupyter-widgets/base",
            "top": null,
            "grid_column": null,
            "overflow_y": null,
            "overflow_x": null,
            "grid_auto_flow": null,
            "grid_area": null,
            "grid_template_columns": null,
            "flex": null,
            "_model_name": "LayoutModel",
            "justify_items": null,
            "grid_row": null,
            "max_height": null,
            "align_content": null,
            "visibility": null,
            "align_self": null,
            "height": null,
            "min_height": null,
            "padding": null,
            "grid_auto_rows": null,
            "grid_gap": null,
            "max_width": null,
            "order": null,
            "_view_module_version": "1.2.0",
            "grid_template_areas": null,
            "object_position": null,
            "object_fit": null,
            "grid_auto_columns": null,
            "margin": null,
            "display": null,
            "left": null
          }
        },
        "ec00f6db381d4fa5b23cdc2864fdc0b2": {
          "model_module": "@jupyter-widgets/controls",
          "model_name": "FloatProgressModel",
          "state": {
            "_view_name": "ProgressView",
            "style": "IPY_MODEL_340bbeb43ab04189a6d20a8b1c1f92a1",
            "_dom_classes": [],
            "description": "",
            "_model_name": "FloatProgressModel",
            "bar_style": "info",
            "max": 1,
            "_view_module": "@jupyter-widgets/controls",
            "_model_module_version": "1.5.0",
            "value": 0,
            "_view_count": null,
            "_view_module_version": "1.5.0",
            "orientation": "horizontal",
            "min": 0,
            "description_tooltip": null,
            "_model_module": "@jupyter-widgets/controls",
            "layout": "IPY_MODEL_c4edb0e0e42a4ff7981cc7797879ab32"
          }
        },
        "89729ea70b3542a7974cd5abeb976514": {
          "model_module": "@jupyter-widgets/controls",
          "model_name": "HTMLModel",
          "state": {
            "_view_name": "HTMLView",
            "style": "IPY_MODEL_2e6bf11b86694baf88623794361762f3",
            "_dom_classes": [],
            "description": "",
            "_model_name": "HTMLModel",
            "placeholder": "​",
            "_view_module": "@jupyter-widgets/controls",
            "_model_module_version": "1.5.0",
            "value": " 0/? [00:00&lt;?, ?it/s]",
            "_view_count": null,
            "_view_module_version": "1.5.0",
            "description_tooltip": null,
            "_model_module": "@jupyter-widgets/controls",
            "layout": "IPY_MODEL_e99b9e7f693542a3af3f3698184382a4"
          }
        },
        "340bbeb43ab04189a6d20a8b1c1f92a1": {
          "model_module": "@jupyter-widgets/controls",
          "model_name": "ProgressStyleModel",
          "state": {
            "_view_name": "StyleView",
            "_model_name": "ProgressStyleModel",
            "description_width": "initial",
            "_view_module": "@jupyter-widgets/base",
            "_model_module_version": "1.5.0",
            "_view_count": null,
            "_view_module_version": "1.2.0",
            "bar_color": null,
            "_model_module": "@jupyter-widgets/controls"
          }
        },
        "c4edb0e0e42a4ff7981cc7797879ab32": {
          "model_module": "@jupyter-widgets/base",
          "model_name": "LayoutModel",
          "state": {
            "_view_name": "LayoutView",
            "grid_template_rows": null,
            "right": null,
            "justify_content": null,
            "_view_module": "@jupyter-widgets/base",
            "overflow": null,
            "_model_module_version": "1.2.0",
            "_view_count": null,
            "flex_flow": null,
            "width": null,
            "min_width": null,
            "border": null,
            "align_items": null,
            "bottom": null,
            "_model_module": "@jupyter-widgets/base",
            "top": null,
            "grid_column": null,
            "overflow_y": null,
            "overflow_x": null,
            "grid_auto_flow": null,
            "grid_area": null,
            "grid_template_columns": null,
            "flex": null,
            "_model_name": "LayoutModel",
            "justify_items": null,
            "grid_row": null,
            "max_height": null,
            "align_content": null,
            "visibility": null,
            "align_self": null,
            "height": null,
            "min_height": null,
            "padding": null,
            "grid_auto_rows": null,
            "grid_gap": null,
            "max_width": null,
            "order": null,
            "_view_module_version": "1.2.0",
            "grid_template_areas": null,
            "object_position": null,
            "object_fit": null,
            "grid_auto_columns": null,
            "margin": null,
            "display": null,
            "left": null
          }
        },
        "2e6bf11b86694baf88623794361762f3": {
          "model_module": "@jupyter-widgets/controls",
          "model_name": "DescriptionStyleModel",
          "state": {
            "_view_name": "StyleView",
            "_model_name": "DescriptionStyleModel",
            "description_width": "",
            "_view_module": "@jupyter-widgets/base",
            "_model_module_version": "1.5.0",
            "_view_count": null,
            "_view_module_version": "1.2.0",
            "_model_module": "@jupyter-widgets/controls"
          }
        },
        "e99b9e7f693542a3af3f3698184382a4": {
          "model_module": "@jupyter-widgets/base",
          "model_name": "LayoutModel",
          "state": {
            "_view_name": "LayoutView",
            "grid_template_rows": null,
            "right": null,
            "justify_content": null,
            "_view_module": "@jupyter-widgets/base",
            "overflow": null,
            "_model_module_version": "1.2.0",
            "_view_count": null,
            "flex_flow": null,
            "width": null,
            "min_width": null,
            "border": null,
            "align_items": null,
            "bottom": null,
            "_model_module": "@jupyter-widgets/base",
            "top": null,
            "grid_column": null,
            "overflow_y": null,
            "overflow_x": null,
            "grid_auto_flow": null,
            "grid_area": null,
            "grid_template_columns": null,
            "flex": null,
            "_model_name": "LayoutModel",
            "justify_items": null,
            "grid_row": null,
            "max_height": null,
            "align_content": null,
            "visibility": null,
            "align_self": null,
            "height": null,
            "min_height": null,
            "padding": null,
            "grid_auto_rows": null,
            "grid_gap": null,
            "max_width": null,
            "order": null,
            "_view_module_version": "1.2.0",
            "grid_template_areas": null,
            "object_position": null,
            "object_fit": null,
            "grid_auto_columns": null,
            "margin": null,
            "display": null,
            "left": null
          }
        },
        "7459014e83ba483eb92d4f17903f2778": {
          "model_module": "@jupyter-widgets/controls",
          "model_name": "HBoxModel",
          "state": {
            "_view_name": "HBoxView",
            "_dom_classes": [],
            "_model_name": "HBoxModel",
            "_view_module": "@jupyter-widgets/controls",
            "_model_module_version": "1.5.0",
            "_view_count": null,
            "_view_module_version": "1.5.0",
            "box_style": "",
            "layout": "IPY_MODEL_ec88f33b9d3f40fe91b970739f16b186",
            "_model_module": "@jupyter-widgets/controls",
            "children": [
              "IPY_MODEL_7d6a474279e749759585ffe457a8f39a",
              "IPY_MODEL_f9f66f277d2746b0a2acdf2f82aa4d4e"
            ]
          }
        },
        "ec88f33b9d3f40fe91b970739f16b186": {
          "model_module": "@jupyter-widgets/base",
          "model_name": "LayoutModel",
          "state": {
            "_view_name": "LayoutView",
            "grid_template_rows": null,
            "right": null,
            "justify_content": null,
            "_view_module": "@jupyter-widgets/base",
            "overflow": null,
            "_model_module_version": "1.2.0",
            "_view_count": null,
            "flex_flow": null,
            "width": null,
            "min_width": null,
            "border": null,
            "align_items": null,
            "bottom": null,
            "_model_module": "@jupyter-widgets/base",
            "top": null,
            "grid_column": null,
            "overflow_y": null,
            "overflow_x": null,
            "grid_auto_flow": null,
            "grid_area": null,
            "grid_template_columns": null,
            "flex": null,
            "_model_name": "LayoutModel",
            "justify_items": null,
            "grid_row": null,
            "max_height": null,
            "align_content": null,
            "visibility": null,
            "align_self": null,
            "height": null,
            "min_height": null,
            "padding": null,
            "grid_auto_rows": null,
            "grid_gap": null,
            "max_width": null,
            "order": null,
            "_view_module_version": "1.2.0",
            "grid_template_areas": null,
            "object_position": null,
            "object_fit": null,
            "grid_auto_columns": null,
            "margin": null,
            "display": null,
            "left": null
          }
        },
        "7d6a474279e749759585ffe457a8f39a": {
          "model_module": "@jupyter-widgets/controls",
          "model_name": "FloatProgressModel",
          "state": {
            "_view_name": "ProgressView",
            "style": "IPY_MODEL_58d2862f33b44f669726a5033896a6c9",
            "_dom_classes": [],
            "description": "",
            "_model_name": "FloatProgressModel",
            "bar_style": "info",
            "max": 1,
            "_view_module": "@jupyter-widgets/controls",
            "_model_module_version": "1.5.0",
            "value": 1,
            "_view_count": null,
            "_view_module_version": "1.5.0",
            "orientation": "horizontal",
            "min": 0,
            "description_tooltip": null,
            "_model_module": "@jupyter-widgets/controls",
            "layout": "IPY_MODEL_1205543155354fa0badd2a97adb446a8"
          }
        },
        "f9f66f277d2746b0a2acdf2f82aa4d4e": {
          "model_module": "@jupyter-widgets/controls",
          "model_name": "HTMLModel",
          "state": {
            "_view_name": "HTMLView",
            "style": "IPY_MODEL_b5dfaa08b6254ac8adaa01dfa41c84d9",
            "_dom_classes": [],
            "description": "",
            "_model_name": "HTMLModel",
            "placeholder": "​",
            "_view_module": "@jupyter-widgets/controls",
            "_model_module_version": "1.5.0",
            "value": " 170500096/? [00:20&lt;00:00, 84502887.35it/s]",
            "_view_count": null,
            "_view_module_version": "1.5.0",
            "description_tooltip": null,
            "_model_module": "@jupyter-widgets/controls",
            "layout": "IPY_MODEL_8ee6863462c843ca9e504f19b7247d4d"
          }
        },
        "58d2862f33b44f669726a5033896a6c9": {
          "model_module": "@jupyter-widgets/controls",
          "model_name": "ProgressStyleModel",
          "state": {
            "_view_name": "StyleView",
            "_model_name": "ProgressStyleModel",
            "description_width": "initial",
            "_view_module": "@jupyter-widgets/base",
            "_model_module_version": "1.5.0",
            "_view_count": null,
            "_view_module_version": "1.2.0",
            "bar_color": null,
            "_model_module": "@jupyter-widgets/controls"
          }
        },
        "1205543155354fa0badd2a97adb446a8": {
          "model_module": "@jupyter-widgets/base",
          "model_name": "LayoutModel",
          "state": {
            "_view_name": "LayoutView",
            "grid_template_rows": null,
            "right": null,
            "justify_content": null,
            "_view_module": "@jupyter-widgets/base",
            "overflow": null,
            "_model_module_version": "1.2.0",
            "_view_count": null,
            "flex_flow": null,
            "width": null,
            "min_width": null,
            "border": null,
            "align_items": null,
            "bottom": null,
            "_model_module": "@jupyter-widgets/base",
            "top": null,
            "grid_column": null,
            "overflow_y": null,
            "overflow_x": null,
            "grid_auto_flow": null,
            "grid_area": null,
            "grid_template_columns": null,
            "flex": null,
            "_model_name": "LayoutModel",
            "justify_items": null,
            "grid_row": null,
            "max_height": null,
            "align_content": null,
            "visibility": null,
            "align_self": null,
            "height": null,
            "min_height": null,
            "padding": null,
            "grid_auto_rows": null,
            "grid_gap": null,
            "max_width": null,
            "order": null,
            "_view_module_version": "1.2.0",
            "grid_template_areas": null,
            "object_position": null,
            "object_fit": null,
            "grid_auto_columns": null,
            "margin": null,
            "display": null,
            "left": null
          }
        },
        "b5dfaa08b6254ac8adaa01dfa41c84d9": {
          "model_module": "@jupyter-widgets/controls",
          "model_name": "DescriptionStyleModel",
          "state": {
            "_view_name": "StyleView",
            "_model_name": "DescriptionStyleModel",
            "description_width": "",
            "_view_module": "@jupyter-widgets/base",
            "_model_module_version": "1.5.0",
            "_view_count": null,
            "_view_module_version": "1.2.0",
            "_model_module": "@jupyter-widgets/controls"
          }
        },
        "8ee6863462c843ca9e504f19b7247d4d": {
          "model_module": "@jupyter-widgets/base",
          "model_name": "LayoutModel",
          "state": {
            "_view_name": "LayoutView",
            "grid_template_rows": null,
            "right": null,
            "justify_content": null,
            "_view_module": "@jupyter-widgets/base",
            "overflow": null,
            "_model_module_version": "1.2.0",
            "_view_count": null,
            "flex_flow": null,
            "width": null,
            "min_width": null,
            "border": null,
            "align_items": null,
            "bottom": null,
            "_model_module": "@jupyter-widgets/base",
            "top": null,
            "grid_column": null,
            "overflow_y": null,
            "overflow_x": null,
            "grid_auto_flow": null,
            "grid_area": null,
            "grid_template_columns": null,
            "flex": null,
            "_model_name": "LayoutModel",
            "justify_items": null,
            "grid_row": null,
            "max_height": null,
            "align_content": null,
            "visibility": null,
            "align_self": null,
            "height": null,
            "min_height": null,
            "padding": null,
            "grid_auto_rows": null,
            "grid_gap": null,
            "max_width": null,
            "order": null,
            "_view_module_version": "1.2.0",
            "grid_template_areas": null,
            "object_position": null,
            "object_fit": null,
            "grid_auto_columns": null,
            "margin": null,
            "display": null,
            "left": null
          }
        }
      }
    }
  },
  "cells": [
    {
      "cell_type": "markdown",
      "metadata": {
        "id": "7_G9x1TEaUhf",
        "colab_type": "text"
      },
      "source": [
        "GAN 자료 출처:  https://youtu.be/odpjk7_tGY0 / \n",
        "https://www.samsungsds.com/global/ko/support/insights/Generative-adversarial-network-AI.html\n",
        "\n",
        "DCGAN 자료 출처: http://jaejunyoo.blogspot.com/2017/02/deep-convolutional-gan-dcgan-1.html"
      ]
    },
    {
      "cell_type": "markdown",
      "metadata": {
        "id": "y2OCFz3yeVW7",
        "colab_type": "text"
      },
      "source": [
        "## Discriminative model, Generative model"
      ]
    },
    {
      "cell_type": "markdown",
      "metadata": {
        "id": "Hi7mN4htZ_9f",
        "colab_type": "text"
      },
      "source": [
        "- 2014년 NIPS에 발표된 논문, Ian Goodfellow가 제안 \n",
        "-  분류를 담당하는 모델(판별자 Discirimiator)과 회귀생성을 담당하는 두 개의 모델(생성자 Generator)로 구성\n",
        "- Generator와 Discirimiator, 두 네트워크를 적대적으로 학습시키는 비지도 학습 기반의 생성모델(Unsupervised Generative model)\n"
      ]
    },
    {
      "cell_type": "markdown",
      "metadata": {
        "id": "4YqyTmqZaIXi",
        "colab_type": "text"
      },
      "source": [
        "<img src = \"https://image.slidesharecdn.com/gan-170828035730/95/1-gangenerative-adversarial-network-6-638.jpg?cb=1504578141\">"
      ]
    },
    {
      "cell_type": "markdown",
      "metadata": {
        "id": "4bTuVLO7azVB",
        "colab_type": "text"
      },
      "source": [
        "<img src = \"https://image.slidesharecdn.com/gan-170828035730/95/1-gangenerative-adversarial-network-7-638.jpg?cb=1504578141\">"
      ]
    },
    {
      "cell_type": "markdown",
      "metadata": {
        "id": "auM6Bzgba6JI",
        "colab_type": "text"
      },
      "source": [
        "-\tDiscriminative model (Supervised model): Input이 들어왔을 때, input에 해당하는 class를 맞추는 것\n",
        "-\tGenerative model (Unsupervised model): training data의 분포를 학습\n"
      ]
    },
    {
      "cell_type": "markdown",
      "metadata": {
        "id": "36kCfyFqbIBE",
        "colab_type": "text"
      },
      "source": [
        "<img src = \"https://kjhov195.github.io/post_img/200309/image1.png\">"
      ]
    },
    {
      "cell_type": "markdown",
      "metadata": {
        "id": "5Yoxt72FA21d",
        "colab_type": "text"
      },
      "source": [
        "<img src = \"https://image.samsungsds.com/global/ko/support/insights/gan4.jpg?queryString=20200911030818\">"
      ]
    },
    {
      "cell_type": "markdown",
      "metadata": {
        "id": "MrF4bszWbMi0",
        "colab_type": "text"
      },
      "source": [
        "최종적인 목적은 Training data과 비교하였을 때 구분할 수 없을 정도로 유사한 가짜 데이터를 생성해낼 수 있도록 Training data의 분포 Pdata(x)를 추정하는 가짜 데이터의 분포 Pmodel(x)를 찾는 것"
      ]
    },
    {
      "cell_type": "markdown",
      "metadata": {
        "id": "IPHbz7Xqbin1",
        "colab_type": "text"
      },
      "source": [
        "## GAN의 구조"
      ]
    },
    {
      "cell_type": "markdown",
      "metadata": {
        "id": "8shtJqu0b5f-",
        "colab_type": "text"
      },
      "source": [
        "<img src = \"https://kjhov195.github.io/post_img/200309/image2.png\">"
      ]
    },
    {
      "cell_type": "markdown",
      "metadata": {
        "id": "wRK6DNdVcVi2",
        "colab_type": "text"
      },
      "source": [
        "- Discrimator: 진짜 이미지를 가지고 학습, 이미지(고차원 벡터)가 들어오면 진짜 / 가짜인지 구별 (0~1)\n",
        "- Generator: 가짜 이미지를 가지고 학습, 랜덤한 코드를 받아 가짜 이미지를 생성하여 Discriminator를 속이고자 함 (Discriminator에서 1이 나오도록 학습)\n",
        "\n",
        "-> 학습을 하면 할수록 진짜 이미지같은 가짜 이미지를 만들게 됨"
      ]
    },
    {
      "cell_type": "markdown",
      "metadata": {
        "id": "7t7t4eBBdtMs",
        "colab_type": "text"
      },
      "source": [
        "<img src = \"https://image.slidesharecdn.com/gan-170828035730/95/1-gangenerative-adversarial-network-18-638.jpg?cb=1504578141\">"
      ]
    },
    {
      "cell_type": "markdown",
      "metadata": {
        "id": "Ciay8rvhdvyV",
        "colab_type": "text"
      },
      "source": [
        "<img src = \"https://image.slidesharecdn.com/gan-170828035730/95/1-gangenerative-adversarial-network-19-638.jpg?cb=1504578141\">"
      ]
    },
    {
      "cell_type": "markdown",
      "metadata": {
        "id": "C0kJmjiYd0nr",
        "colab_type": "text"
      },
      "source": [
        "<img src = \"https://image.slidesharecdn.com/gan-170828035730/95/1-gangenerative-adversarial-network-20-638.jpg?cb=1504578141\">"
      ]
    },
    {
      "cell_type": "markdown",
      "metadata": {
        "id": "r-s2uSjFdRGx",
        "colab_type": "text"
      },
      "source": [
        "## GAN의 목적함수"
      ]
    },
    {
      "cell_type": "markdown",
      "metadata": {
        "id": "IEWgdOqueNts",
        "colab_type": "text"
      },
      "source": [
        "<img src = \"https://image.slidesharecdn.com/gan-170828035730/95/1-gangenerative-adversarial-network-21-638.jpg?cb=1504578141\">"
      ]
    },
    {
      "cell_type": "markdown",
      "metadata": {
        "id": "P5GSQka48COf",
        "colab_type": "text"
      },
      "source": [
        "두 가지 optimization maxDV (D,G)와 minGV (D,G)가 순차적으로 이루어진다."
      ]
    },
    {
      "cell_type": "markdown",
      "metadata": {
        "id": "iPTx5ohAhA1L",
        "colab_type": "text"
      },
      "source": [
        "### - Discriminator"
      ]
    },
    {
      "cell_type": "markdown",
      "metadata": {
        "id": "lOCruztUfg4U",
        "colab_type": "text"
      },
      "source": [
        "이상적인 D는 진짜 데이터가 input으로 들어왔을 때 1에 가까운 값을 return해야 한다. D(x real)의 값은 1에 가까워야 하며, 바꿔 말하면 logD(x real)의 값이 0에 가까워야 한다.\n",
        "\n",
        "D(x)의 경우 x가 진짜 데이터일 확률이므로, 0에서 1 사이의 값을 가진다. 즉, logD(x real)의 값은 −∞에서 0사이의 값을 가지므로, logD(x real)의 값이 0에 가깝게 만든다는 것은 logD(x real)의 값을 Maximize시키는 것과 같은 의미임을 알 수 있다."
      ]
    },
    {
      "cell_type": "markdown",
      "metadata": {
        "id": "o6eQDPUTgfU7",
        "colab_type": "text"
      },
      "source": [
        "반면, random vector z가 주어지고,(z∼pz(z)) 이로부터 가짜 데이터 G(z)가 생성되었다고 하자. \n",
        "\n",
        "이 가짜 데이터 G(z)를 D의 input으로 준다면, D(G(z))의 값은 0에 가까워야 하며, 이는 곧 1−D(G(z))는 1에 가까워야 한다는 것을 의미한다. 즉, 이상적인 G의 경우 log(1−D(G(z)))가 0에 가까워야 한다.\n",
        "\n",
        "이는 1−D(G(z))의 값을 Maximize하는 것과 같고, 바꿔말하면 log(1−D(G(z)))를 Maximize하는 것과도 같다.\n",
        "\n",
        "즉, 위 두가지를 종합하여 진짜를 진짜로, 가짜를 가짜로 잘 구분하는 D를 만들기 위해서는 V(D,G)를 D에 대하여 Maximize해야 한다."
      ]
    },
    {
      "cell_type": "markdown",
      "metadata": {
        "id": "MnI_8ZRPniGy",
        "colab_type": "text"
      },
      "source": [
        "<img src = \"https://image.slidesharecdn.com/gan-170828035730/95/1-gangenerative-adversarial-network-22-638.jpg?cb=1504578141\">"
      ]
    },
    {
      "cell_type": "markdown",
      "metadata": {
        "id": "sBK9dt9dhHV1",
        "colab_type": "text"
      },
      "source": [
        "### - Generator"
      ]
    },
    {
      "cell_type": "markdown",
      "metadata": {
        "id": "qKg6vaTPhVRu",
        "colab_type": "text"
      },
      "source": [
        "G의 입장에서는 이 가짜 데이터 G(z)를 D의 input으로 주었을 때, D가 진짜 데이터로 착각할 만큼 진짜같아야 하므로, D(G(z))의 값은 1에 가깝도록 G(z)를 생성해야 한다.\n",
        "\n",
        "이는 1−D(G(z))의 값을 Minimize하는 것과 같고, 바꿔말하면 log(1−D(G(z)))를 Minimize하는 것과도 같다."
      ]
    },
    {
      "cell_type": "markdown",
      "metadata": {
        "id": "GUWi09XLnmg8",
        "colab_type": "text"
      },
      "source": [
        "## 코드"
      ]
    },
    {
      "cell_type": "code",
      "metadata": {
        "id": "dHOZLie1k0I3",
        "colab_type": "code",
        "colab": {}
      },
      "source": [
        "import os\n",
        "import torch\n",
        "import torchvision\n",
        "import torch.nn as nn\n",
        "from torchvision import transforms\n",
        "from torchvision.utils import save_image\n",
        "\n",
        "\n",
        "# Device configuration\n",
        "device = torch.device('cuda' if torch.cuda.is_available() else 'cpu')\n",
        "\n",
        "# Hyper-parameters\n",
        "latent_size = 64\n",
        "hidden_size = 256\n",
        "image_size = 784\n",
        "num_epochs = 200\n",
        "batch_size = 100\n",
        "sample_dir = 'samples'\n",
        "\n",
        "# Create a directory if not exists\n",
        "if not os.path.exists(sample_dir):\n",
        "    os.makedirs(sample_dir)"
      ],
      "execution_count": null,
      "outputs": []
    },
    {
      "cell_type": "code",
      "metadata": {
        "id": "-VP7BRM_k5Pw",
        "colab_type": "code",
        "colab": {}
      },
      "source": [
        "# Image processing\n",
        "# transform = transforms.Compose([\n",
        "#                 transforms.ToTensor(),\n",
        "#                 transforms.Normalize(mean=(0.5, 0.5, 0.5),   # 3 for RGB channels\n",
        "#                                      std=(0.5, 0.5, 0.5))])\n",
        "transform = transforms.Compose([\n",
        "                transforms.ToTensor(),\n",
        "                transforms.Normalize(mean=[0.5],   # 1 for greyscale channels\n",
        "                                     std=[0.5])])"
      ],
      "execution_count": null,
      "outputs": []
    },
    {
      "cell_type": "code",
      "metadata": {
        "id": "9UBpIQubk1t2",
        "colab_type": "code",
        "colab": {
          "base_uri": "https://localhost:8080/",
          "height": 399,
          "referenced_widgets": [
            "45b52da557f94d41a9a380e1591a7284",
            "1109b2f05ba44c0fa6fdc2f15d4a4353",
            "34136cb0a0b8490cb4c2b27d56b7ff85",
            "b95ed92c85ec4c86b8af11aa33fc8887",
            "87863812636e4d26a5e46cfb96970fa6",
            "63e213e59586407b96581ef562709f17",
            "241b5cd927e343a69109c43f80304928",
            "7b1cbc8e6a4642c6a02c7880c55c9653",
            "95a123586e5b4275917f4c3779964f2b",
            "7725f194559d4c99a9b99e1a86100f2e",
            "f44d6085bc924018a7bdb73c8befe012",
            "39adf9e2f503415b971f82ff4342468f",
            "e4491b46493546e5b4c6e5edb258ecc6",
            "2df5669584d643cb85146ac0f0daa068",
            "f5b20cb9aef648cd8f42b329e8cc18b3",
            "7f0be7f358c946619cde16e6f26bb644",
            "c1d8b2d5e94d47ab8c20d726cee3e87f",
            "bb18eddfbfef4e0f8d1cb81874f2d725",
            "dec28f5e8877446ca9562b502c8a0071",
            "88a8ca93eca14916b5667341e8aa118c",
            "2db95f8150b9436f8adb72fd39648d05",
            "53a578afe0b44ef69848b7f23cfda3be",
            "0f2a9882dfb14805815fe4f1f0a7396f",
            "e3160376d9764ef68eac4fe4acdb4953",
            "6772485639b04e8a854dad5c5f920d90",
            "56aa20cb917a4ae9923ef73dfae16e28",
            "ec00f6db381d4fa5b23cdc2864fdc0b2",
            "89729ea70b3542a7974cd5abeb976514",
            "340bbeb43ab04189a6d20a8b1c1f92a1",
            "c4edb0e0e42a4ff7981cc7797879ab32",
            "2e6bf11b86694baf88623794361762f3",
            "e99b9e7f693542a3af3f3698184382a4"
          ]
        },
        "outputId": "f2bc06d2-1a43-43c7-d3da-6aefba11af96"
      },
      "source": [
        "# MNIST dataset\n",
        "mnist = torchvision.datasets.MNIST(root='../../data/',\n",
        "                                   train=True,\n",
        "                                   transform=transform,\n",
        "                                   download=True)\n",
        "\n",
        "# Data loader\n",
        "data_loader = torch.utils.data.DataLoader(dataset=mnist,\n",
        "                                          batch_size=batch_size, \n",
        "                                          shuffle=True)"
      ],
      "execution_count": null,
      "outputs": [
        {
          "output_type": "stream",
          "text": [
            "Downloading http://yann.lecun.com/exdb/mnist/train-images-idx3-ubyte.gz to ../../data/MNIST/raw/train-images-idx3-ubyte.gz\n"
          ],
          "name": "stdout"
        },
        {
          "output_type": "display_data",
          "data": {
            "application/vnd.jupyter.widget-view+json": {
              "model_id": "45b52da557f94d41a9a380e1591a7284",
              "version_minor": 0,
              "version_major": 2
            },
            "text/plain": [
              "HBox(children=(FloatProgress(value=1.0, bar_style='info', max=1.0), HTML(value='')))"
            ]
          },
          "metadata": {
            "tags": []
          }
        },
        {
          "output_type": "stream",
          "text": [
            "Extracting ../../data/MNIST/raw/train-images-idx3-ubyte.gz to ../../data/MNIST/raw\n",
            "Downloading http://yann.lecun.com/exdb/mnist/train-labels-idx1-ubyte.gz to ../../data/MNIST/raw/train-labels-idx1-ubyte.gz\n"
          ],
          "name": "stdout"
        },
        {
          "output_type": "display_data",
          "data": {
            "application/vnd.jupyter.widget-view+json": {
              "model_id": "95a123586e5b4275917f4c3779964f2b",
              "version_minor": 0,
              "version_major": 2
            },
            "text/plain": [
              "HBox(children=(FloatProgress(value=1.0, bar_style='info', max=1.0), HTML(value='')))"
            ]
          },
          "metadata": {
            "tags": []
          }
        },
        {
          "output_type": "stream",
          "text": [
            "Extracting ../../data/MNIST/raw/train-labels-idx1-ubyte.gz to ../../data/MNIST/raw\n",
            "Downloading http://yann.lecun.com/exdb/mnist/t10k-images-idx3-ubyte.gz to ../../data/MNIST/raw/t10k-images-idx3-ubyte.gz\n",
            "\n"
          ],
          "name": "stdout"
        },
        {
          "output_type": "display_data",
          "data": {
            "application/vnd.jupyter.widget-view+json": {
              "model_id": "c1d8b2d5e94d47ab8c20d726cee3e87f",
              "version_minor": 0,
              "version_major": 2
            },
            "text/plain": [
              "HBox(children=(FloatProgress(value=1.0, bar_style='info', max=1.0), HTML(value='')))"
            ]
          },
          "metadata": {
            "tags": []
          }
        },
        {
          "output_type": "stream",
          "text": [
            "Extracting ../../data/MNIST/raw/t10k-images-idx3-ubyte.gz to ../../data/MNIST/raw\n",
            "Downloading http://yann.lecun.com/exdb/mnist/t10k-labels-idx1-ubyte.gz to ../../data/MNIST/raw/t10k-labels-idx1-ubyte.gz\n"
          ],
          "name": "stdout"
        },
        {
          "output_type": "display_data",
          "data": {
            "application/vnd.jupyter.widget-view+json": {
              "model_id": "6772485639b04e8a854dad5c5f920d90",
              "version_minor": 0,
              "version_major": 2
            },
            "text/plain": [
              "HBox(children=(FloatProgress(value=1.0, bar_style='info', max=1.0), HTML(value='')))"
            ]
          },
          "metadata": {
            "tags": []
          }
        },
        {
          "output_type": "stream",
          "text": [
            "Extracting ../../data/MNIST/raw/t10k-labels-idx1-ubyte.gz to ../../data/MNIST/raw\n",
            "Processing...\n",
            "Done!\n"
          ],
          "name": "stdout"
        },
        {
          "output_type": "stream",
          "text": [
            "/usr/local/lib/python3.6/dist-packages/torchvision/datasets/mnist.py:469: UserWarning: The given NumPy array is not writeable, and PyTorch does not support non-writeable tensors. This means you can write to the underlying (supposedly non-writeable) NumPy array using the tensor. You may want to copy the array to protect its data or make it writeable before converting it to a tensor. This type of warning will be suppressed for the rest of this program. (Triggered internally at  /pytorch/torch/csrc/utils/tensor_numpy.cpp:141.)\n",
            "  return torch.from_numpy(parsed.astype(m[2], copy=False)).view(*s)\n"
          ],
          "name": "stderr"
        }
      ]
    },
    {
      "cell_type": "code",
      "metadata": {
        "id": "43agSu0KlGb2",
        "colab_type": "code",
        "colab": {}
      },
      "source": [
        "# Discriminator\n",
        "D = nn.Sequential(\n",
        "    nn.Linear(image_size, hidden_size),\n",
        "    nn.LeakyReLU(0.2),\n",
        "    nn.Linear(hidden_size, hidden_size),\n",
        "    nn.LeakyReLU(0.2),\n",
        "    nn.Linear(hidden_size, 1),\n",
        "    nn.Sigmoid())"
      ],
      "execution_count": null,
      "outputs": []
    },
    {
      "cell_type": "markdown",
      "metadata": {
        "id": "3nB267FY1TA0",
        "colab_type": "text"
      },
      "source": [
        "MNIST 데이터는 28 x 28\n",
        "\n",
        "input이 1차원으로 펼친 784가 되어야 함\n",
        "\n",
        "hidden dimension은 256으로 가정\n",
        "\n",
        "output dimension은 진짜인지 가짜인지 binary classification을 하는 것이므로 1\n",
        "\n",
        "sigmoid 함수를 통해 0~1 사이의 값을 뱉음\n"
      ]
    },
    {
      "cell_type": "code",
      "metadata": {
        "id": "S6ncd1K_lJrH",
        "colab_type": "code",
        "colab": {}
      },
      "source": [
        "# Generator \n",
        "G = nn.Sequential(\n",
        "    nn.Linear(latent_size, hidden_size),\n",
        "    nn.ReLU(),\n",
        "    nn.Linear(hidden_size, hidden_size),\n",
        "    nn.ReLU(),\n",
        "    nn.Linear(hidden_size, image_size),\n",
        "    nn.Tanh())"
      ],
      "execution_count": null,
      "outputs": []
    },
    {
      "cell_type": "markdown",
      "metadata": {
        "id": "GWLLKw2v2E16",
        "colab_type": "text"
      },
      "source": [
        "입력값은 latent code로 받고, 거기로부터 이미지를 생성\n",
        "\n",
        "이미지를 다시 discriminator에게 넣어줘야 함\n",
        "\n",
        "output dimension은 이미지를 만들어야 하기 때문에 784\n",
        "\n",
        "input 데이터의 범위를 -1 ~ 1로 조정하기 위해 tanh 함수를 거친다."
      ]
    },
    {
      "cell_type": "code",
      "metadata": {
        "id": "bFkZ1nc_aA6G",
        "colab_type": "code",
        "colab": {}
      },
      "source": [
        "# Device setting\n",
        "D = D.to(device)\n",
        "G = G.to(device)\n",
        "\n",
        "# Binary cross entropy loss \n",
        "criterion = nn.BCELoss()"
      ],
      "execution_count": null,
      "outputs": []
    },
    {
      "cell_type": "markdown",
      "metadata": {
        "id": "Xu64BflZ3S0Q",
        "colab_type": "text"
      },
      "source": [
        "<img src = \"https://cdn-images-1.medium.com/max/800/1*EJPT0utTkQ2qrHfjDID5RA.png\">"
      ]
    },
    {
      "cell_type": "markdown",
      "metadata": {
        "id": "stT5T2xe2gb9",
        "colab_type": "text"
      },
      "source": [
        "loss 함수는 binary crossentropy 함수를 사용\n",
        "\n",
        "- y = 1이면 - y log (Y pred)만 남게 된다. Y pred를 D라고 생각하면 Discriminator의 목적 함수에서 log D(X)와 같다. \n",
        "\n",
        "    gradient descent를 하면서 minimize하면 y log (Y pred)를 maximize하는 것과 같아진다.\n",
        "\n",
        "- 반면, y = 0이면 왼쪽이 지워지고, - log(1 - Y pred)만 남게 된다. Y pred를 D라고 생각하면 Discriminator의 목적 함수에서 log (1 - D(X))와 같다.\n"
      ]
    },
    {
      "cell_type": "code",
      "metadata": {
        "id": "XEf9wg2666d-",
        "colab_type": "code",
        "colab": {}
      },
      "source": [
        "# Optimizer\n",
        "d_optimizer = torch.optim.Adam(D.parameters(), lr=0.0002)\n",
        "g_optimizer = torch.optim.Adam(G.parameters(), lr=0.0002)\n",
        "\n",
        "def denorm(x):\n",
        "    out = (x + 1) / 2\n",
        "    return out.clamp(0, 1)\n",
        "\n",
        "def reset_grad():\n",
        "    d_optimizer.zero_grad()\n",
        "    g_optimizer.zero_grad()"
      ],
      "execution_count": null,
      "outputs": []
    },
    {
      "cell_type": "markdown",
      "metadata": {
        "id": "YVMHg5o47DdW",
        "colab_type": "text"
      },
      "source": [
        "Discriminator와 Generator는 서로 충돌되는 학습을 하기 때문에, optimizer 함수를 따로 구현해야 한다. "
      ]
    },
    {
      "cell_type": "code",
      "metadata": {
        "id": "wzbgSQxalIer",
        "colab_type": "code",
        "colab": {
          "base_uri": "https://localhost:8080/",
          "height": 1000
        },
        "outputId": "66ddb3a1-7c91-4e1c-d74e-cc2f5af5121a"
      },
      "source": [
        "# Start training\n",
        "total_step = len(data_loader)\n",
        "for epoch in range(num_epochs):\n",
        "    for i, (images, _) in enumerate(data_loader):\n",
        "        images = images.reshape(batch_size, -1).to(device)\n",
        "        \n",
        "        # Create the labels which are later used as input for the BCE loss\n",
        "        real_labels = torch.ones(batch_size, 1).to(device)\n",
        "        fake_labels = torch.zeros(batch_size, 1).to(device)\n",
        "\n",
        "        # ================================================================== #\n",
        "        #                      Train the discriminator                       #\n",
        "        # ================================================================== #\n",
        "\n",
        "        # Compute BCE_Loss using real images where BCE_Loss(x, y): - y * log(D(x)) - (1-y) * log(1 - D(x))\n",
        "        # Second term of the loss is always zero since real_labels == 1\n",
        "        outputs = D(images)\n",
        "        d_loss_real = criterion(outputs, real_labels)\n",
        "        real_score = outputs\n",
        "        \n",
        "        # Compute BCELoss using fake images\n",
        "        # First term of the loss is always zero since fake_labels == 0\n",
        "        z = torch.randn(batch_size, latent_size).to(device)\n",
        "        fake_images = G(z)\n",
        "        outputs = D(fake_images)\n",
        "        d_loss_fake = criterion(outputs, fake_labels)\n",
        "        fake_score = outputs\n",
        "        \n",
        "        # Backprop and optimize\n",
        "        d_loss = d_loss_real + d_loss_fake\n",
        "        reset_grad()\n",
        "        d_loss.backward()    # 모든 weight에 대해 gradient 값을 계산\n",
        "        d_optimizer.step()   # 정의한 optimizer를 가지고 gradient descent (loss를 최소화) 학습\n",
        "        \n",
        "        # ================================================================== #\n",
        "        #                        Train the generator                         #\n",
        "        # ================================================================== #\n",
        "\n",
        "        # Compute loss with fake images\n",
        "        z = torch.randn(batch_size, latent_size).to(device)  # 가짜 이미지\n",
        "        fake_images = G(z)\n",
        "        outputs = D(fake_images)\n",
        "        \n",
        "        # We train G to maximize log(D(G(z)) instead of minimizing log(1-D(G(z)))\n",
        "        # For the reason, see the last paragraph of section 3. https://arxiv.org/pdf/1406.2661.pdf\n",
        "        g_loss = criterion(outputs, real_labels)   # discriminator에 넣었을 때 1에 가까운 값이 나오도록 학습\n",
        "        \n",
        "        # Backprop and optimize\n",
        "        # 이 때 discriminator를 고정시켜야 함\n",
        "        # discriminator의 weight과 bias는 학습하지 않고, generator 부분에서만 학습\n",
        "        reset_grad()\n",
        "        g_loss.backward()\n",
        "        g_optimizer.step()\n",
        "    \n",
        "    \n",
        "        if (i+1) % 200 == 0:\n",
        "            print('Epoch [{}/{}], Step [{}/{}], d_loss: {:.4f}, g_loss: {:.4f}, D(x): {:.2f}, D(G(z)): {:.2f}' \n",
        "                  .format(epoch, num_epochs, i+1, total_step, d_loss.item(), g_loss.item(), \n",
        "                          real_score.mean().item(), fake_score.mean().item()))\n",
        "    \n",
        "    # Save real images\n",
        "    if (epoch+1) == 1:\n",
        "        images = images.reshape(images.size(0), 1, 28, 28)\n",
        "        save_image(denorm(images), os.path.join(sample_dir, 'real_images.png'))\n",
        "    \n",
        "    # Save sampled images\n",
        "    fake_images = fake_images.reshape(fake_images.size(0), 1, 28, 28)\n",
        "    save_image(denorm(fake_images), os.path.join(sample_dir, 'fake_images-{}.png'.format(epoch+1)))\n",
        "\n",
        "\n",
        "# Save the model checkpoints \n",
        "torch.save(G.state_dict(), 'G.ckpt')\n",
        "torch.save(D.state_dict(), 'D.ckpt')"
      ],
      "execution_count": null,
      "outputs": [
        {
          "output_type": "stream",
          "text": [
            "Epoch [0/200], Step [200/600], d_loss: 0.1946, g_loss: 3.4042, D(x): 0.94, D(G(z)): 0.08\n",
            "Epoch [0/200], Step [400/600], d_loss: 0.1365, g_loss: 4.5895, D(x): 0.95, D(G(z)): 0.03\n",
            "Epoch [0/200], Step [600/600], d_loss: 0.1802, g_loss: 4.6540, D(x): 0.93, D(G(z)): 0.03\n",
            "Epoch [1/200], Step [200/600], d_loss: 0.1319, g_loss: 3.9925, D(x): 0.98, D(G(z)): 0.07\n",
            "Epoch [1/200], Step [400/600], d_loss: 0.0934, g_loss: 5.8808, D(x): 0.96, D(G(z)): 0.03\n",
            "Epoch [1/200], Step [600/600], d_loss: 0.0352, g_loss: 5.7423, D(x): 0.99, D(G(z)): 0.02\n",
            "Epoch [2/200], Step [200/600], d_loss: 0.1545, g_loss: 6.1497, D(x): 0.94, D(G(z)): 0.02\n",
            "Epoch [2/200], Step [400/600], d_loss: 0.1020, g_loss: 5.8258, D(x): 0.96, D(G(z)): 0.03\n",
            "Epoch [2/200], Step [600/600], d_loss: 0.0752, g_loss: 5.3569, D(x): 0.98, D(G(z)): 0.02\n",
            "Epoch [3/200], Step [200/600], d_loss: 0.1473, g_loss: 6.0725, D(x): 0.95, D(G(z)): 0.03\n",
            "Epoch [3/200], Step [400/600], d_loss: 0.0658, g_loss: 6.1928, D(x): 0.98, D(G(z)): 0.04\n",
            "Epoch [3/200], Step [600/600], d_loss: 0.1213, g_loss: 5.7817, D(x): 0.98, D(G(z)): 0.07\n",
            "Epoch [4/200], Step [200/600], d_loss: 0.2902, g_loss: 6.0978, D(x): 0.88, D(G(z)): 0.01\n",
            "Epoch [4/200], Step [400/600], d_loss: 0.2003, g_loss: 3.5548, D(x): 0.94, D(G(z)): 0.06\n",
            "Epoch [4/200], Step [600/600], d_loss: 0.0580, g_loss: 6.0639, D(x): 0.97, D(G(z)): 0.02\n",
            "Epoch [5/200], Step [200/600], d_loss: 0.4143, g_loss: 4.7437, D(x): 0.93, D(G(z)): 0.16\n",
            "Epoch [5/200], Step [400/600], d_loss: 0.3245, g_loss: 5.7143, D(x): 0.90, D(G(z)): 0.01\n",
            "Epoch [5/200], Step [600/600], d_loss: 0.3589, g_loss: 4.5315, D(x): 0.91, D(G(z)): 0.05\n",
            "Epoch [6/200], Step [200/600], d_loss: 0.1339, g_loss: 5.5929, D(x): 0.97, D(G(z)): 0.05\n",
            "Epoch [6/200], Step [400/600], d_loss: 0.0992, g_loss: 6.6019, D(x): 0.97, D(G(z)): 0.03\n",
            "Epoch [6/200], Step [600/600], d_loss: 0.1476, g_loss: 5.0457, D(x): 0.96, D(G(z)): 0.03\n",
            "Epoch [7/200], Step [200/600], d_loss: 0.1478, g_loss: 3.8418, D(x): 0.98, D(G(z)): 0.07\n",
            "Epoch [7/200], Step [400/600], d_loss: 0.1533, g_loss: 4.0448, D(x): 0.97, D(G(z)): 0.08\n",
            "Epoch [7/200], Step [600/600], d_loss: 0.0987, g_loss: 3.5625, D(x): 0.98, D(G(z)): 0.06\n",
            "Epoch [8/200], Step [200/600], d_loss: 0.1502, g_loss: 5.4956, D(x): 0.95, D(G(z)): 0.03\n",
            "Epoch [8/200], Step [400/600], d_loss: 0.1260, g_loss: 4.5838, D(x): 0.98, D(G(z)): 0.08\n",
            "Epoch [8/200], Step [600/600], d_loss: 0.1916, g_loss: 4.8566, D(x): 0.97, D(G(z)): 0.11\n",
            "Epoch [9/200], Step [200/600], d_loss: 0.5119, g_loss: 5.7001, D(x): 0.83, D(G(z)): 0.02\n",
            "Epoch [9/200], Step [400/600], d_loss: 0.1340, g_loss: 5.6736, D(x): 0.95, D(G(z)): 0.04\n",
            "Epoch [9/200], Step [600/600], d_loss: 0.0913, g_loss: 6.7728, D(x): 0.97, D(G(z)): 0.03\n",
            "Epoch [10/200], Step [200/600], d_loss: 0.1855, g_loss: 5.3496, D(x): 0.93, D(G(z)): 0.02\n",
            "Epoch [10/200], Step [400/600], d_loss: 0.2513, g_loss: 7.0940, D(x): 0.92, D(G(z)): 0.07\n",
            "Epoch [10/200], Step [600/600], d_loss: 0.1285, g_loss: 6.2754, D(x): 0.97, D(G(z)): 0.05\n",
            "Epoch [11/200], Step [200/600], d_loss: 0.3445, g_loss: 6.4026, D(x): 0.87, D(G(z)): 0.02\n",
            "Epoch [11/200], Step [400/600], d_loss: 0.3044, g_loss: 5.1642, D(x): 0.98, D(G(z)): 0.18\n",
            "Epoch [11/200], Step [600/600], d_loss: 0.2605, g_loss: 5.3318, D(x): 0.93, D(G(z)): 0.06\n",
            "Epoch [12/200], Step [200/600], d_loss: 0.1823, g_loss: 5.8380, D(x): 0.92, D(G(z)): 0.03\n",
            "Epoch [12/200], Step [400/600], d_loss: 0.2068, g_loss: 4.1818, D(x): 0.94, D(G(z)): 0.06\n",
            "Epoch [12/200], Step [600/600], d_loss: 0.2555, g_loss: 4.1893, D(x): 0.96, D(G(z)): 0.10\n",
            "Epoch [13/200], Step [200/600], d_loss: 0.1807, g_loss: 5.6651, D(x): 0.93, D(G(z)): 0.01\n",
            "Epoch [13/200], Step [400/600], d_loss: 0.3270, g_loss: 4.4195, D(x): 0.93, D(G(z)): 0.06\n",
            "Epoch [13/200], Step [600/600], d_loss: 0.2025, g_loss: 7.7364, D(x): 0.95, D(G(z)): 0.05\n",
            "Epoch [14/200], Step [200/600], d_loss: 0.2074, g_loss: 5.1438, D(x): 0.94, D(G(z)): 0.05\n",
            "Epoch [14/200], Step [400/600], d_loss: 0.4134, g_loss: 4.9033, D(x): 0.96, D(G(z)): 0.11\n",
            "Epoch [14/200], Step [600/600], d_loss: 0.1942, g_loss: 7.5617, D(x): 0.93, D(G(z)): 0.02\n",
            "Epoch [15/200], Step [200/600], d_loss: 0.1750, g_loss: 7.0548, D(x): 0.95, D(G(z)): 0.05\n",
            "Epoch [15/200], Step [400/600], d_loss: 0.4106, g_loss: 2.9482, D(x): 0.90, D(G(z)): 0.09\n",
            "Epoch [15/200], Step [600/600], d_loss: 0.2110, g_loss: 4.3387, D(x): 0.94, D(G(z)): 0.08\n",
            "Epoch [16/200], Step [200/600], d_loss: 0.2387, g_loss: 5.3412, D(x): 0.92, D(G(z)): 0.02\n",
            "Epoch [16/200], Step [400/600], d_loss: 0.4041, g_loss: 4.9221, D(x): 0.95, D(G(z)): 0.19\n",
            "Epoch [16/200], Step [600/600], d_loss: 0.3631, g_loss: 5.2254, D(x): 0.92, D(G(z)): 0.14\n",
            "Epoch [17/200], Step [200/600], d_loss: 0.3618, g_loss: 4.9100, D(x): 0.86, D(G(z)): 0.02\n",
            "Epoch [17/200], Step [400/600], d_loss: 0.5099, g_loss: 5.4349, D(x): 0.89, D(G(z)): 0.11\n",
            "Epoch [17/200], Step [600/600], d_loss: 0.1687, g_loss: 4.0260, D(x): 0.95, D(G(z)): 0.07\n",
            "Epoch [18/200], Step [200/600], d_loss: 0.2798, g_loss: 4.5319, D(x): 0.90, D(G(z)): 0.05\n",
            "Epoch [18/200], Step [400/600], d_loss: 0.3645, g_loss: 2.5967, D(x): 0.87, D(G(z)): 0.11\n",
            "Epoch [18/200], Step [600/600], d_loss: 0.5127, g_loss: 3.1372, D(x): 0.84, D(G(z)): 0.10\n",
            "Epoch [19/200], Step [200/600], d_loss: 0.3234, g_loss: 3.4962, D(x): 0.88, D(G(z)): 0.08\n",
            "Epoch [19/200], Step [400/600], d_loss: 0.4898, g_loss: 3.4942, D(x): 0.91, D(G(z)): 0.20\n",
            "Epoch [19/200], Step [600/600], d_loss: 0.2331, g_loss: 3.7538, D(x): 0.97, D(G(z)): 0.15\n",
            "Epoch [20/200], Step [200/600], d_loss: 0.2924, g_loss: 6.2989, D(x): 0.87, D(G(z)): 0.04\n",
            "Epoch [20/200], Step [400/600], d_loss: 0.1806, g_loss: 4.2181, D(x): 0.94, D(G(z)): 0.08\n",
            "Epoch [20/200], Step [600/600], d_loss: 0.3555, g_loss: 3.9833, D(x): 0.96, D(G(z)): 0.18\n",
            "Epoch [21/200], Step [200/600], d_loss: 0.3707, g_loss: 5.5264, D(x): 0.90, D(G(z)): 0.09\n",
            "Epoch [21/200], Step [400/600], d_loss: 0.4852, g_loss: 3.7786, D(x): 0.85, D(G(z)): 0.09\n",
            "Epoch [21/200], Step [600/600], d_loss: 0.2858, g_loss: 4.3007, D(x): 0.91, D(G(z)): 0.07\n",
            "Epoch [22/200], Step [200/600], d_loss: 0.2734, g_loss: 3.5490, D(x): 0.91, D(G(z)): 0.10\n",
            "Epoch [22/200], Step [400/600], d_loss: 0.2116, g_loss: 3.8582, D(x): 0.91, D(G(z)): 0.05\n",
            "Epoch [22/200], Step [600/600], d_loss: 0.3820, g_loss: 4.0777, D(x): 0.92, D(G(z)): 0.17\n",
            "Epoch [23/200], Step [200/600], d_loss: 0.2013, g_loss: 5.1062, D(x): 0.97, D(G(z)): 0.13\n",
            "Epoch [23/200], Step [400/600], d_loss: 0.3090, g_loss: 4.4238, D(x): 0.91, D(G(z)): 0.05\n",
            "Epoch [23/200], Step [600/600], d_loss: 0.2456, g_loss: 4.5132, D(x): 0.93, D(G(z)): 0.09\n",
            "Epoch [24/200], Step [200/600], d_loss: 0.4812, g_loss: 3.6484, D(x): 0.83, D(G(z)): 0.09\n",
            "Epoch [24/200], Step [400/600], d_loss: 0.2877, g_loss: 4.5943, D(x): 0.96, D(G(z)): 0.16\n",
            "Epoch [24/200], Step [600/600], d_loss: 0.3935, g_loss: 4.5115, D(x): 0.87, D(G(z)): 0.13\n",
            "Epoch [25/200], Step [200/600], d_loss: 0.4380, g_loss: 3.4302, D(x): 0.88, D(G(z)): 0.15\n",
            "Epoch [25/200], Step [400/600], d_loss: 0.2308, g_loss: 4.8982, D(x): 0.90, D(G(z)): 0.03\n",
            "Epoch [25/200], Step [600/600], d_loss: 0.7929, g_loss: 3.6687, D(x): 0.95, D(G(z)): 0.38\n",
            "Epoch [26/200], Step [200/600], d_loss: 0.3564, g_loss: 3.8650, D(x): 0.88, D(G(z)): 0.09\n",
            "Epoch [26/200], Step [400/600], d_loss: 0.3886, g_loss: 4.2796, D(x): 0.85, D(G(z)): 0.07\n",
            "Epoch [26/200], Step [600/600], d_loss: 0.4304, g_loss: 2.6895, D(x): 0.89, D(G(z)): 0.15\n",
            "Epoch [27/200], Step [200/600], d_loss: 0.5815, g_loss: 3.0639, D(x): 0.84, D(G(z)): 0.15\n",
            "Epoch [27/200], Step [400/600], d_loss: 0.5794, g_loss: 3.4788, D(x): 0.81, D(G(z)): 0.14\n",
            "Epoch [27/200], Step [600/600], d_loss: 0.4124, g_loss: 3.1794, D(x): 0.85, D(G(z)): 0.09\n",
            "Epoch [28/200], Step [200/600], d_loss: 0.3801, g_loss: 2.8008, D(x): 0.89, D(G(z)): 0.10\n",
            "Epoch [28/200], Step [400/600], d_loss: 0.1936, g_loss: 4.0106, D(x): 0.94, D(G(z)): 0.09\n",
            "Epoch [28/200], Step [600/600], d_loss: 0.4709, g_loss: 3.5717, D(x): 0.85, D(G(z)): 0.11\n",
            "Epoch [29/200], Step [200/600], d_loss: 0.4072, g_loss: 3.5736, D(x): 0.87, D(G(z)): 0.10\n",
            "Epoch [29/200], Step [400/600], d_loss: 0.3375, g_loss: 2.8373, D(x): 0.91, D(G(z)): 0.15\n",
            "Epoch [29/200], Step [600/600], d_loss: 0.6018, g_loss: 3.2691, D(x): 0.91, D(G(z)): 0.27\n",
            "Epoch [30/200], Step [200/600], d_loss: 0.3925, g_loss: 4.0407, D(x): 0.94, D(G(z)): 0.18\n",
            "Epoch [30/200], Step [400/600], d_loss: 0.3063, g_loss: 3.9629, D(x): 0.93, D(G(z)): 0.13\n",
            "Epoch [30/200], Step [600/600], d_loss: 0.5444, g_loss: 5.0081, D(x): 0.78, D(G(z)): 0.03\n",
            "Epoch [31/200], Step [200/600], d_loss: 0.4021, g_loss: 2.5463, D(x): 0.91, D(G(z)): 0.16\n",
            "Epoch [31/200], Step [400/600], d_loss: 0.5924, g_loss: 3.3061, D(x): 0.89, D(G(z)): 0.25\n",
            "Epoch [31/200], Step [600/600], d_loss: 0.2868, g_loss: 3.6026, D(x): 0.91, D(G(z)): 0.11\n",
            "Epoch [32/200], Step [200/600], d_loss: 0.5021, g_loss: 2.6695, D(x): 0.89, D(G(z)): 0.21\n",
            "Epoch [32/200], Step [400/600], d_loss: 0.5028, g_loss: 4.8533, D(x): 0.84, D(G(z)): 0.09\n",
            "Epoch [32/200], Step [600/600], d_loss: 0.5753, g_loss: 4.0203, D(x): 0.75, D(G(z)): 0.04\n",
            "Epoch [33/200], Step [200/600], d_loss: 0.5992, g_loss: 3.2232, D(x): 0.77, D(G(z)): 0.06\n",
            "Epoch [33/200], Step [400/600], d_loss: 0.3639, g_loss: 3.8578, D(x): 0.87, D(G(z)): 0.10\n",
            "Epoch [33/200], Step [600/600], d_loss: 0.5067, g_loss: 2.8968, D(x): 0.80, D(G(z)): 0.08\n",
            "Epoch [34/200], Step [200/600], d_loss: 0.4667, g_loss: 3.6817, D(x): 0.82, D(G(z)): 0.06\n",
            "Epoch [34/200], Step [400/600], d_loss: 0.5170, g_loss: 3.0483, D(x): 0.83, D(G(z)): 0.10\n",
            "Epoch [34/200], Step [600/600], d_loss: 0.4427, g_loss: 3.3239, D(x): 0.84, D(G(z)): 0.14\n",
            "Epoch [35/200], Step [200/600], d_loss: 0.6901, g_loss: 2.8202, D(x): 0.81, D(G(z)): 0.21\n",
            "Epoch [35/200], Step [400/600], d_loss: 0.5735, g_loss: 1.9731, D(x): 0.87, D(G(z)): 0.23\n",
            "Epoch [35/200], Step [600/600], d_loss: 0.3553, g_loss: 3.6885, D(x): 0.94, D(G(z)): 0.16\n",
            "Epoch [36/200], Step [200/600], d_loss: 0.5962, g_loss: 3.0435, D(x): 0.80, D(G(z)): 0.15\n",
            "Epoch [36/200], Step [400/600], d_loss: 0.7800, g_loss: 2.1425, D(x): 0.82, D(G(z)): 0.30\n",
            "Epoch [36/200], Step [600/600], d_loss: 0.5977, g_loss: 3.0897, D(x): 0.82, D(G(z)): 0.18\n",
            "Epoch [37/200], Step [200/600], d_loss: 0.5886, g_loss: 2.3533, D(x): 0.83, D(G(z)): 0.22\n",
            "Epoch [37/200], Step [400/600], d_loss: 0.6756, g_loss: 2.6647, D(x): 0.80, D(G(z)): 0.17\n",
            "Epoch [37/200], Step [600/600], d_loss: 0.9053, g_loss: 2.2454, D(x): 0.70, D(G(z)): 0.20\n",
            "Epoch [38/200], Step [200/600], d_loss: 0.4795, g_loss: 2.6208, D(x): 0.81, D(G(z)): 0.12\n",
            "Epoch [38/200], Step [400/600], d_loss: 0.6383, g_loss: 3.1266, D(x): 0.79, D(G(z)): 0.13\n",
            "Epoch [38/200], Step [600/600], d_loss: 0.3674, g_loss: 3.0881, D(x): 0.88, D(G(z)): 0.15\n",
            "Epoch [39/200], Step [200/600], d_loss: 0.6081, g_loss: 2.8940, D(x): 0.76, D(G(z)): 0.13\n",
            "Epoch [39/200], Step [400/600], d_loss: 0.8420, g_loss: 3.4804, D(x): 0.67, D(G(z)): 0.04\n",
            "Epoch [39/200], Step [600/600], d_loss: 0.4777, g_loss: 2.9386, D(x): 0.89, D(G(z)): 0.23\n",
            "Epoch [40/200], Step [200/600], d_loss: 0.3995, g_loss: 3.7762, D(x): 0.88, D(G(z)): 0.11\n",
            "Epoch [40/200], Step [400/600], d_loss: 0.5887, g_loss: 2.5172, D(x): 0.89, D(G(z)): 0.25\n",
            "Epoch [40/200], Step [600/600], d_loss: 0.4309, g_loss: 2.6906, D(x): 0.91, D(G(z)): 0.18\n",
            "Epoch [41/200], Step [200/600], d_loss: 0.5232, g_loss: 2.6723, D(x): 0.82, D(G(z)): 0.17\n",
            "Epoch [41/200], Step [400/600], d_loss: 0.5019, g_loss: 2.5830, D(x): 0.79, D(G(z)): 0.13\n",
            "Epoch [41/200], Step [600/600], d_loss: 0.4538, g_loss: 3.9641, D(x): 0.85, D(G(z)): 0.15\n",
            "Epoch [42/200], Step [200/600], d_loss: 0.7460, g_loss: 2.6123, D(x): 0.87, D(G(z)): 0.29\n",
            "Epoch [42/200], Step [400/600], d_loss: 0.5282, g_loss: 3.7319, D(x): 0.92, D(G(z)): 0.25\n",
            "Epoch [42/200], Step [600/600], d_loss: 0.8071, g_loss: 2.4268, D(x): 0.82, D(G(z)): 0.27\n",
            "Epoch [43/200], Step [200/600], d_loss: 0.4905, g_loss: 3.9115, D(x): 0.89, D(G(z)): 0.19\n",
            "Epoch [43/200], Step [400/600], d_loss: 0.3707, g_loss: 3.5899, D(x): 0.89, D(G(z)): 0.15\n",
            "Epoch [43/200], Step [600/600], d_loss: 0.5923, g_loss: 2.5067, D(x): 0.84, D(G(z)): 0.21\n",
            "Epoch [44/200], Step [200/600], d_loss: 0.5329, g_loss: 3.3751, D(x): 0.92, D(G(z)): 0.25\n",
            "Epoch [44/200], Step [400/600], d_loss: 0.5599, g_loss: 2.4530, D(x): 0.80, D(G(z)): 0.15\n",
            "Epoch [44/200], Step [600/600], d_loss: 0.8082, g_loss: 2.3183, D(x): 0.73, D(G(z)): 0.20\n",
            "Epoch [45/200], Step [200/600], d_loss: 0.7146, g_loss: 2.1255, D(x): 0.78, D(G(z)): 0.20\n",
            "Epoch [45/200], Step [400/600], d_loss: 0.5578, g_loss: 2.0977, D(x): 0.86, D(G(z)): 0.23\n",
            "Epoch [45/200], Step [600/600], d_loss: 0.5191, g_loss: 2.4987, D(x): 0.85, D(G(z)): 0.18\n",
            "Epoch [46/200], Step [200/600], d_loss: 0.5362, g_loss: 2.3928, D(x): 0.83, D(G(z)): 0.16\n",
            "Epoch [46/200], Step [400/600], d_loss: 0.5951, g_loss: 2.8843, D(x): 0.81, D(G(z)): 0.19\n",
            "Epoch [46/200], Step [600/600], d_loss: 0.4858, g_loss: 3.0186, D(x): 0.80, D(G(z)): 0.11\n",
            "Epoch [47/200], Step [200/600], d_loss: 0.4868, g_loss: 2.1541, D(x): 0.82, D(G(z)): 0.16\n",
            "Epoch [47/200], Step [400/600], d_loss: 0.8451, g_loss: 2.3152, D(x): 0.82, D(G(z)): 0.31\n",
            "Epoch [47/200], Step [600/600], d_loss: 0.6979, g_loss: 2.1530, D(x): 0.80, D(G(z)): 0.24\n",
            "Epoch [48/200], Step [200/600], d_loss: 0.7043, g_loss: 2.1706, D(x): 0.88, D(G(z)): 0.31\n",
            "Epoch [48/200], Step [400/600], d_loss: 0.6992, g_loss: 2.5217, D(x): 0.80, D(G(z)): 0.22\n",
            "Epoch [48/200], Step [600/600], d_loss: 0.7051, g_loss: 2.6231, D(x): 0.72, D(G(z)): 0.14\n",
            "Epoch [49/200], Step [200/600], d_loss: 0.8438, g_loss: 2.2884, D(x): 0.72, D(G(z)): 0.23\n",
            "Epoch [49/200], Step [400/600], d_loss: 0.5628, g_loss: 2.4064, D(x): 0.80, D(G(z)): 0.17\n",
            "Epoch [49/200], Step [600/600], d_loss: 0.6046, g_loss: 1.7302, D(x): 0.87, D(G(z)): 0.29\n",
            "Epoch [50/200], Step [200/600], d_loss: 0.4841, g_loss: 2.7878, D(x): 0.86, D(G(z)): 0.21\n",
            "Epoch [50/200], Step [400/600], d_loss: 0.6676, g_loss: 2.3084, D(x): 0.74, D(G(z)): 0.16\n",
            "Epoch [50/200], Step [600/600], d_loss: 0.3713, g_loss: 4.0129, D(x): 0.84, D(G(z)): 0.09\n",
            "Epoch [51/200], Step [200/600], d_loss: 0.6205, g_loss: 3.3154, D(x): 0.77, D(G(z)): 0.12\n",
            "Epoch [51/200], Step [400/600], d_loss: 0.6048, g_loss: 2.3909, D(x): 0.83, D(G(z)): 0.24\n",
            "Epoch [51/200], Step [600/600], d_loss: 0.6670, g_loss: 1.7841, D(x): 0.80, D(G(z)): 0.21\n",
            "Epoch [52/200], Step [200/600], d_loss: 0.6585, g_loss: 2.4002, D(x): 0.80, D(G(z)): 0.22\n",
            "Epoch [52/200], Step [400/600], d_loss: 0.7700, g_loss: 2.6333, D(x): 0.71, D(G(z)): 0.13\n",
            "Epoch [52/200], Step [600/600], d_loss: 0.4815, g_loss: 2.8937, D(x): 0.80, D(G(z)): 0.09\n",
            "Epoch [53/200], Step [200/600], d_loss: 0.5870, g_loss: 2.5809, D(x): 0.83, D(G(z)): 0.23\n",
            "Epoch [53/200], Step [400/600], d_loss: 0.7058, g_loss: 1.9932, D(x): 0.92, D(G(z)): 0.33\n",
            "Epoch [53/200], Step [600/600], d_loss: 0.5794, g_loss: 2.3034, D(x): 0.91, D(G(z)): 0.30\n",
            "Epoch [54/200], Step [200/600], d_loss: 0.5754, g_loss: 2.1428, D(x): 0.77, D(G(z)): 0.15\n",
            "Epoch [54/200], Step [400/600], d_loss: 0.4784, g_loss: 3.3030, D(x): 0.81, D(G(z)): 0.11\n",
            "Epoch [54/200], Step [600/600], d_loss: 0.7203, g_loss: 2.7222, D(x): 0.86, D(G(z)): 0.30\n",
            "Epoch [55/200], Step [200/600], d_loss: 0.6858, g_loss: 2.2661, D(x): 0.77, D(G(z)): 0.15\n",
            "Epoch [55/200], Step [400/600], d_loss: 0.4792, g_loss: 3.8994, D(x): 0.79, D(G(z)): 0.05\n",
            "Epoch [55/200], Step [600/600], d_loss: 0.4672, g_loss: 2.4012, D(x): 0.82, D(G(z)): 0.12\n",
            "Epoch [56/200], Step [200/600], d_loss: 0.6976, g_loss: 2.6657, D(x): 0.81, D(G(z)): 0.23\n",
            "Epoch [56/200], Step [400/600], d_loss: 0.5157, g_loss: 2.7667, D(x): 0.83, D(G(z)): 0.16\n",
            "Epoch [56/200], Step [600/600], d_loss: 0.4272, g_loss: 3.1529, D(x): 0.82, D(G(z)): 0.09\n",
            "Epoch [57/200], Step [200/600], d_loss: 0.6931, g_loss: 2.7334, D(x): 0.78, D(G(z)): 0.20\n",
            "Epoch [57/200], Step [400/600], d_loss: 0.5613, g_loss: 2.8699, D(x): 0.78, D(G(z)): 0.12\n",
            "Epoch [57/200], Step [600/600], d_loss: 0.6293, g_loss: 3.0240, D(x): 0.82, D(G(z)): 0.23\n",
            "Epoch [58/200], Step [200/600], d_loss: 0.6995, g_loss: 2.1952, D(x): 0.76, D(G(z)): 0.22\n",
            "Epoch [58/200], Step [400/600], d_loss: 0.6129, g_loss: 2.1685, D(x): 0.78, D(G(z)): 0.20\n",
            "Epoch [58/200], Step [600/600], d_loss: 0.8119, g_loss: 2.3549, D(x): 0.72, D(G(z)): 0.20\n",
            "Epoch [59/200], Step [200/600], d_loss: 0.8527, g_loss: 2.3407, D(x): 0.70, D(G(z)): 0.21\n",
            "Epoch [59/200], Step [400/600], d_loss: 0.6062, g_loss: 1.8846, D(x): 0.80, D(G(z)): 0.19\n",
            "Epoch [59/200], Step [600/600], d_loss: 0.6819, g_loss: 2.4926, D(x): 0.80, D(G(z)): 0.24\n",
            "Epoch [60/200], Step [200/600], d_loss: 0.7265, g_loss: 1.6116, D(x): 0.78, D(G(z)): 0.24\n",
            "Epoch [60/200], Step [400/600], d_loss: 0.7047, g_loss: 2.3432, D(x): 0.73, D(G(z)): 0.17\n",
            "Epoch [60/200], Step [600/600], d_loss: 0.5359, g_loss: 2.5286, D(x): 0.84, D(G(z)): 0.21\n",
            "Epoch [61/200], Step [200/600], d_loss: 0.6920, g_loss: 2.2067, D(x): 0.77, D(G(z)): 0.25\n",
            "Epoch [61/200], Step [400/600], d_loss: 0.8149, g_loss: 2.1326, D(x): 0.69, D(G(z)): 0.20\n",
            "Epoch [61/200], Step [600/600], d_loss: 0.6382, g_loss: 2.3089, D(x): 0.74, D(G(z)): 0.13\n",
            "Epoch [62/200], Step [200/600], d_loss: 0.7041, g_loss: 2.1436, D(x): 0.72, D(G(z)): 0.18\n",
            "Epoch [62/200], Step [400/600], d_loss: 0.6461, g_loss: 2.1008, D(x): 0.74, D(G(z)): 0.14\n",
            "Epoch [62/200], Step [600/600], d_loss: 0.8305, g_loss: 2.1396, D(x): 0.69, D(G(z)): 0.23\n",
            "Epoch [63/200], Step [200/600], d_loss: 0.7319, g_loss: 2.3317, D(x): 0.79, D(G(z)): 0.27\n",
            "Epoch [63/200], Step [400/600], d_loss: 0.8990, g_loss: 2.1873, D(x): 0.83, D(G(z)): 0.38\n",
            "Epoch [63/200], Step [600/600], d_loss: 0.8271, g_loss: 2.0526, D(x): 0.80, D(G(z)): 0.32\n",
            "Epoch [64/200], Step [200/600], d_loss: 0.7988, g_loss: 1.9023, D(x): 0.69, D(G(z)): 0.19\n",
            "Epoch [64/200], Step [400/600], d_loss: 0.6394, g_loss: 1.9881, D(x): 0.85, D(G(z)): 0.29\n",
            "Epoch [64/200], Step [600/600], d_loss: 0.6314, g_loss: 2.4518, D(x): 0.83, D(G(z)): 0.25\n",
            "Epoch [65/200], Step [200/600], d_loss: 0.7640, g_loss: 1.8853, D(x): 0.79, D(G(z)): 0.27\n",
            "Epoch [65/200], Step [400/600], d_loss: 0.7382, g_loss: 1.9314, D(x): 0.81, D(G(z)): 0.29\n",
            "Epoch [65/200], Step [600/600], d_loss: 0.6966, g_loss: 2.2216, D(x): 0.79, D(G(z)): 0.24\n",
            "Epoch [66/200], Step [200/600], d_loss: 0.6805, g_loss: 2.2455, D(x): 0.75, D(G(z)): 0.20\n",
            "Epoch [66/200], Step [400/600], d_loss: 0.7220, g_loss: 2.0444, D(x): 0.82, D(G(z)): 0.30\n",
            "Epoch [66/200], Step [600/600], d_loss: 0.6874, g_loss: 2.3442, D(x): 0.73, D(G(z)): 0.18\n",
            "Epoch [67/200], Step [200/600], d_loss: 0.7748, g_loss: 2.0478, D(x): 0.72, D(G(z)): 0.16\n",
            "Epoch [67/200], Step [400/600], d_loss: 0.6931, g_loss: 2.3114, D(x): 0.80, D(G(z)): 0.29\n",
            "Epoch [67/200], Step [600/600], d_loss: 0.5984, g_loss: 2.5320, D(x): 0.77, D(G(z)): 0.15\n",
            "Epoch [68/200], Step [200/600], d_loss: 0.7119, g_loss: 2.4554, D(x): 0.75, D(G(z)): 0.21\n",
            "Epoch [68/200], Step [400/600], d_loss: 0.6979, g_loss: 2.3790, D(x): 0.74, D(G(z)): 0.20\n",
            "Epoch [68/200], Step [600/600], d_loss: 0.6483, g_loss: 1.9965, D(x): 0.81, D(G(z)): 0.25\n",
            "Epoch [69/200], Step [200/600], d_loss: 0.7052, g_loss: 2.9605, D(x): 0.84, D(G(z)): 0.26\n",
            "Epoch [69/200], Step [400/600], d_loss: 0.6043, g_loss: 1.9143, D(x): 0.82, D(G(z)): 0.24\n",
            "Epoch [69/200], Step [600/600], d_loss: 0.6055, g_loss: 2.7288, D(x): 0.75, D(G(z)): 0.13\n",
            "Epoch [70/200], Step [200/600], d_loss: 0.9154, g_loss: 1.7091, D(x): 0.73, D(G(z)): 0.29\n",
            "Epoch [70/200], Step [400/600], d_loss: 0.6382, g_loss: 1.7049, D(x): 0.85, D(G(z)): 0.29\n",
            "Epoch [70/200], Step [600/600], d_loss: 0.5957, g_loss: 2.2441, D(x): 0.81, D(G(z)): 0.24\n",
            "Epoch [71/200], Step [200/600], d_loss: 0.6909, g_loss: 2.2850, D(x): 0.83, D(G(z)): 0.27\n",
            "Epoch [71/200], Step [400/600], d_loss: 0.8212, g_loss: 2.1777, D(x): 0.79, D(G(z)): 0.32\n",
            "Epoch [71/200], Step [600/600], d_loss: 0.7857, g_loss: 2.4700, D(x): 0.76, D(G(z)): 0.24\n",
            "Epoch [72/200], Step [200/600], d_loss: 0.7865, g_loss: 1.9842, D(x): 0.79, D(G(z)): 0.31\n",
            "Epoch [72/200], Step [400/600], d_loss: 0.8965, g_loss: 1.7492, D(x): 0.76, D(G(z)): 0.29\n",
            "Epoch [72/200], Step [600/600], d_loss: 0.7998, g_loss: 2.5678, D(x): 0.75, D(G(z)): 0.25\n",
            "Epoch [73/200], Step [200/600], d_loss: 0.7386, g_loss: 2.1265, D(x): 0.76, D(G(z)): 0.24\n",
            "Epoch [73/200], Step [400/600], d_loss: 0.7772, g_loss: 1.7805, D(x): 0.76, D(G(z)): 0.27\n",
            "Epoch [73/200], Step [600/600], d_loss: 0.6425, g_loss: 1.9567, D(x): 0.82, D(G(z)): 0.27\n",
            "Epoch [74/200], Step [200/600], d_loss: 0.8505, g_loss: 2.6204, D(x): 0.75, D(G(z)): 0.26\n",
            "Epoch [74/200], Step [400/600], d_loss: 0.6967, g_loss: 1.7662, D(x): 0.80, D(G(z)): 0.27\n",
            "Epoch [74/200], Step [600/600], d_loss: 0.7897, g_loss: 2.0125, D(x): 0.74, D(G(z)): 0.25\n",
            "Epoch [75/200], Step [200/600], d_loss: 0.6137, g_loss: 2.6015, D(x): 0.76, D(G(z)): 0.18\n",
            "Epoch [75/200], Step [400/600], d_loss: 0.9882, g_loss: 1.6822, D(x): 0.68, D(G(z)): 0.30\n",
            "Epoch [75/200], Step [600/600], d_loss: 0.7752, g_loss: 3.0519, D(x): 0.73, D(G(z)): 0.24\n",
            "Epoch [76/200], Step [200/600], d_loss: 0.6740, g_loss: 2.3687, D(x): 0.73, D(G(z)): 0.21\n",
            "Epoch [76/200], Step [400/600], d_loss: 0.7816, g_loss: 2.2567, D(x): 0.74, D(G(z)): 0.27\n",
            "Epoch [76/200], Step [600/600], d_loss: 0.6355, g_loss: 2.0478, D(x): 0.86, D(G(z)): 0.30\n",
            "Epoch [77/200], Step [200/600], d_loss: 0.7205, g_loss: 2.0627, D(x): 0.81, D(G(z)): 0.31\n",
            "Epoch [77/200], Step [400/600], d_loss: 0.5987, g_loss: 2.4817, D(x): 0.80, D(G(z)): 0.20\n",
            "Epoch [77/200], Step [600/600], d_loss: 0.7693, g_loss: 2.0069, D(x): 0.75, D(G(z)): 0.26\n",
            "Epoch [78/200], Step [200/600], d_loss: 0.9333, g_loss: 1.8028, D(x): 0.72, D(G(z)): 0.28\n",
            "Epoch [78/200], Step [400/600], d_loss: 0.6779, g_loss: 2.2128, D(x): 0.80, D(G(z)): 0.24\n",
            "Epoch [78/200], Step [600/600], d_loss: 0.7404, g_loss: 1.7952, D(x): 0.75, D(G(z)): 0.23\n",
            "Epoch [79/200], Step [200/600], d_loss: 0.6528, g_loss: 2.7332, D(x): 0.77, D(G(z)): 0.21\n",
            "Epoch [79/200], Step [400/600], d_loss: 0.8280, g_loss: 2.3454, D(x): 0.73, D(G(z)): 0.25\n",
            "Epoch [79/200], Step [600/600], d_loss: 0.7397, g_loss: 2.3464, D(x): 0.78, D(G(z)): 0.27\n",
            "Epoch [80/200], Step [200/600], d_loss: 0.8451, g_loss: 2.0546, D(x): 0.72, D(G(z)): 0.26\n",
            "Epoch [80/200], Step [400/600], d_loss: 0.8151, g_loss: 2.4106, D(x): 0.74, D(G(z)): 0.25\n",
            "Epoch [80/200], Step [600/600], d_loss: 0.7307, g_loss: 1.5721, D(x): 0.76, D(G(z)): 0.26\n",
            "Epoch [81/200], Step [200/600], d_loss: 0.6743, g_loss: 2.0907, D(x): 0.77, D(G(z)): 0.23\n",
            "Epoch [81/200], Step [400/600], d_loss: 0.8091, g_loss: 1.5502, D(x): 0.72, D(G(z)): 0.22\n",
            "Epoch [81/200], Step [600/600], d_loss: 0.8870, g_loss: 2.0806, D(x): 0.68, D(G(z)): 0.22\n",
            "Epoch [82/200], Step [200/600], d_loss: 0.5766, g_loss: 2.5658, D(x): 0.79, D(G(z)): 0.19\n",
            "Epoch [82/200], Step [400/600], d_loss: 0.8190, g_loss: 2.3614, D(x): 0.74, D(G(z)): 0.28\n",
            "Epoch [82/200], Step [600/600], d_loss: 0.9778, g_loss: 2.3307, D(x): 0.64, D(G(z)): 0.11\n",
            "Epoch [83/200], Step [200/600], d_loss: 0.6065, g_loss: 2.1836, D(x): 0.80, D(G(z)): 0.23\n",
            "Epoch [83/200], Step [400/600], d_loss: 1.0358, g_loss: 1.8138, D(x): 0.73, D(G(z)): 0.33\n",
            "Epoch [83/200], Step [600/600], d_loss: 0.6390, g_loss: 3.1422, D(x): 0.82, D(G(z)): 0.26\n",
            "Epoch [84/200], Step [200/600], d_loss: 0.8160, g_loss: 1.7624, D(x): 0.70, D(G(z)): 0.24\n",
            "Epoch [84/200], Step [400/600], d_loss: 0.6631, g_loss: 1.8716, D(x): 0.83, D(G(z)): 0.29\n",
            "Epoch [84/200], Step [600/600], d_loss: 0.7540, g_loss: 2.6119, D(x): 0.72, D(G(z)): 0.19\n",
            "Epoch [85/200], Step [200/600], d_loss: 0.6705, g_loss: 2.0943, D(x): 0.76, D(G(z)): 0.22\n",
            "Epoch [85/200], Step [400/600], d_loss: 0.6500, g_loss: 1.6309, D(x): 0.77, D(G(z)): 0.20\n",
            "Epoch [85/200], Step [600/600], d_loss: 0.9114, g_loss: 2.5953, D(x): 0.70, D(G(z)): 0.27\n",
            "Epoch [86/200], Step [200/600], d_loss: 0.7852, g_loss: 2.0273, D(x): 0.73, D(G(z)): 0.24\n",
            "Epoch [86/200], Step [400/600], d_loss: 0.7314, g_loss: 1.9342, D(x): 0.75, D(G(z)): 0.24\n",
            "Epoch [86/200], Step [600/600], d_loss: 0.8173, g_loss: 1.6413, D(x): 0.76, D(G(z)): 0.29\n",
            "Epoch [87/200], Step [200/600], d_loss: 0.6933, g_loss: 2.4441, D(x): 0.69, D(G(z)): 0.15\n",
            "Epoch [87/200], Step [400/600], d_loss: 0.8854, g_loss: 1.9496, D(x): 0.84, D(G(z)): 0.38\n",
            "Epoch [87/200], Step [600/600], d_loss: 0.7905, g_loss: 2.4365, D(x): 0.76, D(G(z)): 0.25\n",
            "Epoch [88/200], Step [200/600], d_loss: 0.8647, g_loss: 2.1998, D(x): 0.69, D(G(z)): 0.25\n",
            "Epoch [88/200], Step [400/600], d_loss: 0.7609, g_loss: 2.1283, D(x): 0.78, D(G(z)): 0.26\n",
            "Epoch [88/200], Step [600/600], d_loss: 0.8773, g_loss: 1.5896, D(x): 0.72, D(G(z)): 0.28\n",
            "Epoch [89/200], Step [200/600], d_loss: 0.7927, g_loss: 1.7970, D(x): 0.83, D(G(z)): 0.34\n",
            "Epoch [89/200], Step [400/600], d_loss: 0.8185, g_loss: 1.9569, D(x): 0.80, D(G(z)): 0.33\n",
            "Epoch [89/200], Step [600/600], d_loss: 0.7326, g_loss: 1.6600, D(x): 0.79, D(G(z)): 0.29\n",
            "Epoch [90/200], Step [200/600], d_loss: 0.8315, g_loss: 2.0277, D(x): 0.75, D(G(z)): 0.29\n",
            "Epoch [90/200], Step [400/600], d_loss: 0.9539, g_loss: 2.0043, D(x): 0.73, D(G(z)): 0.36\n",
            "Epoch [90/200], Step [600/600], d_loss: 0.7856, g_loss: 1.8123, D(x): 0.74, D(G(z)): 0.27\n",
            "Epoch [91/200], Step [200/600], d_loss: 0.6437, g_loss: 1.9916, D(x): 0.82, D(G(z)): 0.27\n",
            "Epoch [91/200], Step [400/600], d_loss: 0.9255, g_loss: 2.1312, D(x): 0.64, D(G(z)): 0.24\n",
            "Epoch [91/200], Step [600/600], d_loss: 0.9625, g_loss: 1.3204, D(x): 0.70, D(G(z)): 0.29\n",
            "Epoch [92/200], Step [200/600], d_loss: 0.6475, g_loss: 1.7597, D(x): 0.77, D(G(z)): 0.21\n",
            "Epoch [92/200], Step [400/600], d_loss: 0.7195, g_loss: 1.9502, D(x): 0.76, D(G(z)): 0.26\n",
            "Epoch [92/200], Step [600/600], d_loss: 0.8218, g_loss: 1.6305, D(x): 0.74, D(G(z)): 0.30\n",
            "Epoch [93/200], Step [200/600], d_loss: 0.7977, g_loss: 1.4813, D(x): 0.74, D(G(z)): 0.28\n",
            "Epoch [93/200], Step [400/600], d_loss: 0.8349, g_loss: 1.9410, D(x): 0.77, D(G(z)): 0.31\n",
            "Epoch [93/200], Step [600/600], d_loss: 0.7513, g_loss: 1.9511, D(x): 0.71, D(G(z)): 0.18\n",
            "Epoch [94/200], Step [200/600], d_loss: 1.0932, g_loss: 2.0478, D(x): 0.75, D(G(z)): 0.39\n",
            "Epoch [94/200], Step [400/600], d_loss: 0.6693, g_loss: 2.5055, D(x): 0.81, D(G(z)): 0.27\n",
            "Epoch [94/200], Step [600/600], d_loss: 0.6540, g_loss: 1.7308, D(x): 0.79, D(G(z)): 0.26\n",
            "Epoch [95/200], Step [200/600], d_loss: 0.8561, g_loss: 2.2889, D(x): 0.70, D(G(z)): 0.27\n",
            "Epoch [95/200], Step [400/600], d_loss: 0.8679, g_loss: 1.8695, D(x): 0.73, D(G(z)): 0.29\n",
            "Epoch [95/200], Step [600/600], d_loss: 0.8231, g_loss: 2.1782, D(x): 0.65, D(G(z)): 0.17\n",
            "Epoch [96/200], Step [200/600], d_loss: 1.0481, g_loss: 1.3787, D(x): 0.68, D(G(z)): 0.34\n",
            "Epoch [96/200], Step [400/600], d_loss: 1.0322, g_loss: 1.4566, D(x): 0.73, D(G(z)): 0.37\n",
            "Epoch [96/200], Step [600/600], d_loss: 0.8796, g_loss: 1.8063, D(x): 0.70, D(G(z)): 0.24\n",
            "Epoch [97/200], Step [200/600], d_loss: 0.7735, g_loss: 2.1007, D(x): 0.70, D(G(z)): 0.21\n",
            "Epoch [97/200], Step [400/600], d_loss: 0.8339, g_loss: 1.7059, D(x): 0.78, D(G(z)): 0.31\n",
            "Epoch [97/200], Step [600/600], d_loss: 0.7357, g_loss: 1.9951, D(x): 0.74, D(G(z)): 0.24\n",
            "Epoch [98/200], Step [200/600], d_loss: 0.8949, g_loss: 1.6358, D(x): 0.65, D(G(z)): 0.20\n",
            "Epoch [98/200], Step [400/600], d_loss: 0.8429, g_loss: 1.6564, D(x): 0.73, D(G(z)): 0.28\n",
            "Epoch [98/200], Step [600/600], d_loss: 0.9098, g_loss: 2.0414, D(x): 0.71, D(G(z)): 0.27\n",
            "Epoch [99/200], Step [200/600], d_loss: 0.7398, g_loss: 1.9940, D(x): 0.76, D(G(z)): 0.26\n",
            "Epoch [99/200], Step [400/600], d_loss: 0.7629, g_loss: 1.9257, D(x): 0.83, D(G(z)): 0.33\n",
            "Epoch [99/200], Step [600/600], d_loss: 0.9848, g_loss: 1.6258, D(x): 0.75, D(G(z)): 0.37\n",
            "Epoch [100/200], Step [200/600], d_loss: 0.8393, g_loss: 2.0958, D(x): 0.76, D(G(z)): 0.31\n",
            "Epoch [100/200], Step [400/600], d_loss: 0.6674, g_loss: 2.1083, D(x): 0.77, D(G(z)): 0.22\n",
            "Epoch [100/200], Step [600/600], d_loss: 0.8517, g_loss: 1.6767, D(x): 0.79, D(G(z)): 0.35\n",
            "Epoch [101/200], Step [200/600], d_loss: 0.8026, g_loss: 1.5784, D(x): 0.77, D(G(z)): 0.29\n",
            "Epoch [101/200], Step [400/600], d_loss: 0.6588, g_loss: 1.5853, D(x): 0.81, D(G(z)): 0.29\n",
            "Epoch [101/200], Step [600/600], d_loss: 0.8217, g_loss: 1.7663, D(x): 0.70, D(G(z)): 0.25\n",
            "Epoch [102/200], Step [200/600], d_loss: 0.7932, g_loss: 1.6636, D(x): 0.70, D(G(z)): 0.20\n",
            "Epoch [102/200], Step [400/600], d_loss: 0.8939, g_loss: 1.9025, D(x): 0.71, D(G(z)): 0.29\n",
            "Epoch [102/200], Step [600/600], d_loss: 0.8040, g_loss: 2.0290, D(x): 0.75, D(G(z)): 0.27\n",
            "Epoch [103/200], Step [200/600], d_loss: 0.6702, g_loss: 2.0063, D(x): 0.76, D(G(z)): 0.23\n",
            "Epoch [103/200], Step [400/600], d_loss: 0.7739, g_loss: 1.5580, D(x): 0.76, D(G(z)): 0.27\n",
            "Epoch [103/200], Step [600/600], d_loss: 0.9434, g_loss: 2.0391, D(x): 0.74, D(G(z)): 0.35\n",
            "Epoch [104/200], Step [200/600], d_loss: 0.7960, g_loss: 1.7260, D(x): 0.70, D(G(z)): 0.21\n",
            "Epoch [104/200], Step [400/600], d_loss: 0.7765, g_loss: 1.9574, D(x): 0.78, D(G(z)): 0.31\n",
            "Epoch [104/200], Step [600/600], d_loss: 0.8118, g_loss: 1.8208, D(x): 0.77, D(G(z)): 0.33\n",
            "Epoch [105/200], Step [200/600], d_loss: 0.9830, g_loss: 1.4064, D(x): 0.72, D(G(z)): 0.35\n",
            "Epoch [105/200], Step [400/600], d_loss: 0.7490, g_loss: 1.9530, D(x): 0.74, D(G(z)): 0.25\n",
            "Epoch [105/200], Step [600/600], d_loss: 0.8646, g_loss: 1.3389, D(x): 0.75, D(G(z)): 0.32\n",
            "Epoch [106/200], Step [200/600], d_loss: 0.7808, g_loss: 2.1225, D(x): 0.70, D(G(z)): 0.22\n",
            "Epoch [106/200], Step [400/600], d_loss: 0.9450, g_loss: 1.5208, D(x): 0.78, D(G(z)): 0.36\n",
            "Epoch [106/200], Step [600/600], d_loss: 0.6626, g_loss: 1.7689, D(x): 0.77, D(G(z)): 0.24\n",
            "Epoch [107/200], Step [200/600], d_loss: 0.8329, g_loss: 2.1214, D(x): 0.70, D(G(z)): 0.24\n",
            "Epoch [107/200], Step [400/600], d_loss: 0.9456, g_loss: 1.6676, D(x): 0.73, D(G(z)): 0.34\n",
            "Epoch [107/200], Step [600/600], d_loss: 0.9355, g_loss: 1.6888, D(x): 0.68, D(G(z)): 0.27\n",
            "Epoch [108/200], Step [200/600], d_loss: 0.8925, g_loss: 1.8445, D(x): 0.72, D(G(z)): 0.31\n",
            "Epoch [108/200], Step [400/600], d_loss: 0.9023, g_loss: 1.9117, D(x): 0.68, D(G(z)): 0.24\n",
            "Epoch [108/200], Step [600/600], d_loss: 0.8489, g_loss: 2.1347, D(x): 0.69, D(G(z)): 0.24\n",
            "Epoch [109/200], Step [200/600], d_loss: 0.7196, g_loss: 1.6239, D(x): 0.77, D(G(z)): 0.25\n",
            "Epoch [109/200], Step [400/600], d_loss: 0.9615, g_loss: 2.1348, D(x): 0.66, D(G(z)): 0.23\n",
            "Epoch [109/200], Step [600/600], d_loss: 1.0874, g_loss: 1.4387, D(x): 0.77, D(G(z)): 0.41\n",
            "Epoch [110/200], Step [200/600], d_loss: 0.7793, g_loss: 1.9438, D(x): 0.74, D(G(z)): 0.24\n",
            "Epoch [110/200], Step [400/600], d_loss: 1.0337, g_loss: 1.9651, D(x): 0.61, D(G(z)): 0.20\n",
            "Epoch [110/200], Step [600/600], d_loss: 0.8825, g_loss: 1.3275, D(x): 0.75, D(G(z)): 0.36\n",
            "Epoch [111/200], Step [200/600], d_loss: 1.0463, g_loss: 1.3936, D(x): 0.78, D(G(z)): 0.39\n",
            "Epoch [111/200], Step [400/600], d_loss: 0.8629, g_loss: 1.4670, D(x): 0.75, D(G(z)): 0.33\n",
            "Epoch [111/200], Step [600/600], d_loss: 0.8297, g_loss: 1.7123, D(x): 0.69, D(G(z)): 0.25\n",
            "Epoch [112/200], Step [200/600], d_loss: 0.9988, g_loss: 1.5822, D(x): 0.62, D(G(z)): 0.22\n",
            "Epoch [112/200], Step [400/600], d_loss: 0.8776, g_loss: 1.5526, D(x): 0.77, D(G(z)): 0.33\n",
            "Epoch [112/200], Step [600/600], d_loss: 0.7077, g_loss: 1.8456, D(x): 0.74, D(G(z)): 0.23\n",
            "Epoch [113/200], Step [200/600], d_loss: 0.9032, g_loss: 1.7415, D(x): 0.76, D(G(z)): 0.36\n",
            "Epoch [113/200], Step [400/600], d_loss: 0.9256, g_loss: 1.5328, D(x): 0.66, D(G(z)): 0.28\n",
            "Epoch [113/200], Step [600/600], d_loss: 0.9966, g_loss: 1.6682, D(x): 0.69, D(G(z)): 0.28\n",
            "Epoch [114/200], Step [200/600], d_loss: 0.7759, g_loss: 2.1335, D(x): 0.74, D(G(z)): 0.25\n",
            "Epoch [114/200], Step [400/600], d_loss: 0.8008, g_loss: 1.8533, D(x): 0.72, D(G(z)): 0.23\n",
            "Epoch [114/200], Step [600/600], d_loss: 0.7428, g_loss: 1.1515, D(x): 0.76, D(G(z)): 0.27\n",
            "Epoch [115/200], Step [200/600], d_loss: 0.8266, g_loss: 1.9248, D(x): 0.67, D(G(z)): 0.20\n",
            "Epoch [115/200], Step [400/600], d_loss: 0.8172, g_loss: 1.5917, D(x): 0.80, D(G(z)): 0.35\n",
            "Epoch [115/200], Step [600/600], d_loss: 0.6496, g_loss: 1.6896, D(x): 0.80, D(G(z)): 0.26\n",
            "Epoch [116/200], Step [200/600], d_loss: 0.8158, g_loss: 1.7014, D(x): 0.71, D(G(z)): 0.23\n",
            "Epoch [116/200], Step [400/600], d_loss: 1.0783, g_loss: 1.5795, D(x): 0.71, D(G(z)): 0.38\n",
            "Epoch [116/200], Step [600/600], d_loss: 1.0358, g_loss: 1.2880, D(x): 0.64, D(G(z)): 0.28\n",
            "Epoch [117/200], Step [200/600], d_loss: 0.7483, g_loss: 1.9699, D(x): 0.79, D(G(z)): 0.30\n",
            "Epoch [117/200], Step [400/600], d_loss: 0.9348, g_loss: 1.5187, D(x): 0.72, D(G(z)): 0.34\n",
            "Epoch [117/200], Step [600/600], d_loss: 0.8553, g_loss: 1.8443, D(x): 0.68, D(G(z)): 0.24\n",
            "Epoch [118/200], Step [200/600], d_loss: 0.8315, g_loss: 1.6557, D(x): 0.75, D(G(z)): 0.31\n",
            "Epoch [118/200], Step [400/600], d_loss: 0.8636, g_loss: 1.5196, D(x): 0.72, D(G(z)): 0.28\n",
            "Epoch [118/200], Step [600/600], d_loss: 0.8406, g_loss: 1.3485, D(x): 0.73, D(G(z)): 0.28\n",
            "Epoch [119/200], Step [200/600], d_loss: 0.9142, g_loss: 1.7250, D(x): 0.69, D(G(z)): 0.28\n",
            "Epoch [119/200], Step [400/600], d_loss: 0.9619, g_loss: 1.5989, D(x): 0.66, D(G(z)): 0.25\n",
            "Epoch [119/200], Step [600/600], d_loss: 0.6788, g_loss: 1.9748, D(x): 0.76, D(G(z)): 0.23\n",
            "Epoch [120/200], Step [200/600], d_loss: 0.8986, g_loss: 1.6642, D(x): 0.70, D(G(z)): 0.29\n",
            "Epoch [120/200], Step [400/600], d_loss: 0.9340, g_loss: 1.6044, D(x): 0.75, D(G(z)): 0.32\n",
            "Epoch [120/200], Step [600/600], d_loss: 0.9605, g_loss: 1.7083, D(x): 0.65, D(G(z)): 0.26\n",
            "Epoch [121/200], Step [200/600], d_loss: 0.7673, g_loss: 1.4540, D(x): 0.77, D(G(z)): 0.30\n",
            "Epoch [121/200], Step [400/600], d_loss: 0.8308, g_loss: 2.1867, D(x): 0.74, D(G(z)): 0.29\n",
            "Epoch [121/200], Step [600/600], d_loss: 1.0822, g_loss: 1.2683, D(x): 0.70, D(G(z)): 0.37\n",
            "Epoch [122/200], Step [200/600], d_loss: 0.9291, g_loss: 1.9090, D(x): 0.68, D(G(z)): 0.26\n",
            "Epoch [122/200], Step [400/600], d_loss: 0.9099, g_loss: 1.7985, D(x): 0.69, D(G(z)): 0.27\n",
            "Epoch [122/200], Step [600/600], d_loss: 0.8898, g_loss: 1.5533, D(x): 0.70, D(G(z)): 0.28\n",
            "Epoch [123/200], Step [200/600], d_loss: 0.8576, g_loss: 1.9029, D(x): 0.74, D(G(z)): 0.30\n",
            "Epoch [123/200], Step [400/600], d_loss: 0.7686, g_loss: 1.3406, D(x): 0.75, D(G(z)): 0.29\n",
            "Epoch [123/200], Step [600/600], d_loss: 0.9492, g_loss: 1.6398, D(x): 0.65, D(G(z)): 0.24\n",
            "Epoch [124/200], Step [200/600], d_loss: 0.8811, g_loss: 1.5616, D(x): 0.69, D(G(z)): 0.25\n",
            "Epoch [124/200], Step [400/600], d_loss: 0.8830, g_loss: 1.9053, D(x): 0.64, D(G(z)): 0.21\n",
            "Epoch [124/200], Step [600/600], d_loss: 1.0024, g_loss: 1.6171, D(x): 0.61, D(G(z)): 0.18\n",
            "Epoch [125/200], Step [200/600], d_loss: 1.0678, g_loss: 2.1850, D(x): 0.66, D(G(z)): 0.29\n",
            "Epoch [125/200], Step [400/600], d_loss: 0.8039, g_loss: 1.6141, D(x): 0.71, D(G(z)): 0.26\n",
            "Epoch [125/200], Step [600/600], d_loss: 0.8318, g_loss: 1.8443, D(x): 0.82, D(G(z)): 0.36\n",
            "Epoch [126/200], Step [200/600], d_loss: 0.9819, g_loss: 1.5360, D(x): 0.71, D(G(z)): 0.32\n",
            "Epoch [126/200], Step [400/600], d_loss: 0.9256, g_loss: 1.4402, D(x): 0.76, D(G(z)): 0.36\n",
            "Epoch [126/200], Step [600/600], d_loss: 1.1754, g_loss: 1.5571, D(x): 0.57, D(G(z)): 0.23\n",
            "Epoch [127/200], Step [200/600], d_loss: 0.8177, g_loss: 2.0100, D(x): 0.66, D(G(z)): 0.19\n",
            "Epoch [127/200], Step [400/600], d_loss: 0.9038, g_loss: 2.0018, D(x): 0.70, D(G(z)): 0.31\n",
            "Epoch [127/200], Step [600/600], d_loss: 0.8080, g_loss: 1.4813, D(x): 0.72, D(G(z)): 0.28\n",
            "Epoch [128/200], Step [200/600], d_loss: 0.8498, g_loss: 2.6699, D(x): 0.63, D(G(z)): 0.16\n",
            "Epoch [128/200], Step [400/600], d_loss: 0.8858, g_loss: 2.0807, D(x): 0.71, D(G(z)): 0.26\n",
            "Epoch [128/200], Step [600/600], d_loss: 0.9631, g_loss: 1.3397, D(x): 0.69, D(G(z)): 0.33\n",
            "Epoch [129/200], Step [200/600], d_loss: 0.7054, g_loss: 1.9375, D(x): 0.72, D(G(z)): 0.20\n",
            "Epoch [129/200], Step [400/600], d_loss: 0.8765, g_loss: 1.4354, D(x): 0.69, D(G(z)): 0.26\n",
            "Epoch [129/200], Step [600/600], d_loss: 0.9277, g_loss: 1.7118, D(x): 0.71, D(G(z)): 0.30\n",
            "Epoch [130/200], Step [200/600], d_loss: 1.0349, g_loss: 1.1343, D(x): 0.75, D(G(z)): 0.41\n",
            "Epoch [130/200], Step [400/600], d_loss: 0.8421, g_loss: 1.6268, D(x): 0.70, D(G(z)): 0.28\n",
            "Epoch [130/200], Step [600/600], d_loss: 0.9608, g_loss: 1.5573, D(x): 0.67, D(G(z)): 0.32\n",
            "Epoch [131/200], Step [200/600], d_loss: 0.8622, g_loss: 1.8579, D(x): 0.67, D(G(z)): 0.25\n",
            "Epoch [131/200], Step [400/600], d_loss: 0.7777, g_loss: 1.6041, D(x): 0.78, D(G(z)): 0.30\n",
            "Epoch [131/200], Step [600/600], d_loss: 0.7486, g_loss: 1.9221, D(x): 0.74, D(G(z)): 0.25\n",
            "Epoch [132/200], Step [200/600], d_loss: 0.8914, g_loss: 1.6505, D(x): 0.73, D(G(z)): 0.31\n",
            "Epoch [132/200], Step [400/600], d_loss: 1.0197, g_loss: 1.3862, D(x): 0.73, D(G(z)): 0.38\n",
            "Epoch [132/200], Step [600/600], d_loss: 0.9101, g_loss: 1.7325, D(x): 0.65, D(G(z)): 0.23\n",
            "Epoch [133/200], Step [200/600], d_loss: 0.9779, g_loss: 1.8093, D(x): 0.61, D(G(z)): 0.21\n",
            "Epoch [133/200], Step [400/600], d_loss: 0.9627, g_loss: 1.9739, D(x): 0.69, D(G(z)): 0.28\n",
            "Epoch [133/200], Step [600/600], d_loss: 0.9568, g_loss: 1.4957, D(x): 0.69, D(G(z)): 0.30\n",
            "Epoch [134/200], Step [200/600], d_loss: 0.8946, g_loss: 2.1353, D(x): 0.71, D(G(z)): 0.28\n",
            "Epoch [134/200], Step [400/600], d_loss: 0.8795, g_loss: 1.8700, D(x): 0.70, D(G(z)): 0.28\n",
            "Epoch [134/200], Step [600/600], d_loss: 0.8556, g_loss: 1.6426, D(x): 0.71, D(G(z)): 0.25\n",
            "Epoch [135/200], Step [200/600], d_loss: 1.0223, g_loss: 1.5956, D(x): 0.69, D(G(z)): 0.32\n",
            "Epoch [135/200], Step [400/600], d_loss: 0.7553, g_loss: 1.4462, D(x): 0.78, D(G(z)): 0.32\n",
            "Epoch [135/200], Step [600/600], d_loss: 0.9491, g_loss: 1.1501, D(x): 0.79, D(G(z)): 0.41\n",
            "Epoch [136/200], Step [200/600], d_loss: 0.8772, g_loss: 2.0005, D(x): 0.68, D(G(z)): 0.25\n",
            "Epoch [136/200], Step [400/600], d_loss: 1.0271, g_loss: 1.7994, D(x): 0.64, D(G(z)): 0.30\n",
            "Epoch [136/200], Step [600/600], d_loss: 0.9080, g_loss: 0.9362, D(x): 0.65, D(G(z)): 0.27\n",
            "Epoch [137/200], Step [200/600], d_loss: 1.0120, g_loss: 1.6725, D(x): 0.67, D(G(z)): 0.32\n",
            "Epoch [137/200], Step [400/600], d_loss: 0.7896, g_loss: 1.8816, D(x): 0.77, D(G(z)): 0.33\n",
            "Epoch [137/200], Step [600/600], d_loss: 0.7669, g_loss: 1.3903, D(x): 0.80, D(G(z)): 0.34\n",
            "Epoch [138/200], Step [200/600], d_loss: 0.8606, g_loss: 1.7591, D(x): 0.72, D(G(z)): 0.29\n",
            "Epoch [138/200], Step [400/600], d_loss: 0.8782, g_loss: 1.5068, D(x): 0.68, D(G(z)): 0.25\n",
            "Epoch [138/200], Step [600/600], d_loss: 0.9884, g_loss: 1.2962, D(x): 0.68, D(G(z)): 0.33\n",
            "Epoch [139/200], Step [200/600], d_loss: 0.7474, g_loss: 1.2776, D(x): 0.73, D(G(z)): 0.25\n",
            "Epoch [139/200], Step [400/600], d_loss: 1.0180, g_loss: 1.5223, D(x): 0.65, D(G(z)): 0.30\n",
            "Epoch [139/200], Step [600/600], d_loss: 0.8115, g_loss: 2.0354, D(x): 0.68, D(G(z)): 0.22\n",
            "Epoch [140/200], Step [200/600], d_loss: 0.9387, g_loss: 1.8293, D(x): 0.70, D(G(z)): 0.31\n",
            "Epoch [140/200], Step [400/600], d_loss: 0.8322, g_loss: 1.4084, D(x): 0.72, D(G(z)): 0.26\n",
            "Epoch [140/200], Step [600/600], d_loss: 0.9936, g_loss: 1.6697, D(x): 0.63, D(G(z)): 0.24\n",
            "Epoch [141/200], Step [200/600], d_loss: 1.0279, g_loss: 1.2633, D(x): 0.74, D(G(z)): 0.42\n",
            "Epoch [141/200], Step [400/600], d_loss: 0.8218, g_loss: 1.9061, D(x): 0.71, D(G(z)): 0.28\n",
            "Epoch [141/200], Step [600/600], d_loss: 0.9070, g_loss: 1.6148, D(x): 0.77, D(G(z)): 0.38\n",
            "Epoch [142/200], Step [200/600], d_loss: 0.8398, g_loss: 1.7155, D(x): 0.63, D(G(z)): 0.19\n",
            "Epoch [142/200], Step [400/600], d_loss: 0.9739, g_loss: 1.4702, D(x): 0.68, D(G(z)): 0.32\n",
            "Epoch [142/200], Step [600/600], d_loss: 0.9738, g_loss: 1.5288, D(x): 0.70, D(G(z)): 0.30\n",
            "Epoch [143/200], Step [200/600], d_loss: 0.7778, g_loss: 1.3756, D(x): 0.74, D(G(z)): 0.26\n",
            "Epoch [143/200], Step [400/600], d_loss: 0.9970, g_loss: 1.3114, D(x): 0.71, D(G(z)): 0.34\n",
            "Epoch [143/200], Step [600/600], d_loss: 0.8275, g_loss: 1.6382, D(x): 0.69, D(G(z)): 0.23\n",
            "Epoch [144/200], Step [200/600], d_loss: 0.8024, g_loss: 1.6779, D(x): 0.73, D(G(z)): 0.27\n",
            "Epoch [144/200], Step [400/600], d_loss: 0.9922, g_loss: 1.4327, D(x): 0.64, D(G(z)): 0.31\n",
            "Epoch [144/200], Step [600/600], d_loss: 0.9740, g_loss: 1.5262, D(x): 0.70, D(G(z)): 0.36\n",
            "Epoch [145/200], Step [200/600], d_loss: 0.8617, g_loss: 1.5474, D(x): 0.75, D(G(z)): 0.32\n",
            "Epoch [145/200], Step [400/600], d_loss: 0.8503, g_loss: 1.2094, D(x): 0.73, D(G(z)): 0.31\n",
            "Epoch [145/200], Step [600/600], d_loss: 0.7845, g_loss: 1.7226, D(x): 0.72, D(G(z)): 0.25\n",
            "Epoch [146/200], Step [200/600], d_loss: 1.0292, g_loss: 1.1351, D(x): 0.70, D(G(z)): 0.35\n",
            "Epoch [146/200], Step [400/600], d_loss: 0.8999, g_loss: 1.6306, D(x): 0.72, D(G(z)): 0.30\n",
            "Epoch [146/200], Step [600/600], d_loss: 1.1234, g_loss: 1.8329, D(x): 0.62, D(G(z)): 0.28\n",
            "Epoch [147/200], Step [200/600], d_loss: 1.1201, g_loss: 1.9608, D(x): 0.60, D(G(z)): 0.31\n",
            "Epoch [147/200], Step [400/600], d_loss: 0.9620, g_loss: 1.9099, D(x): 0.69, D(G(z)): 0.30\n",
            "Epoch [147/200], Step [600/600], d_loss: 0.9045, g_loss: 1.4625, D(x): 0.66, D(G(z)): 0.23\n",
            "Epoch [148/200], Step [200/600], d_loss: 0.9894, g_loss: 1.2990, D(x): 0.72, D(G(z)): 0.38\n",
            "Epoch [148/200], Step [400/600], d_loss: 0.9611, g_loss: 1.5510, D(x): 0.78, D(G(z)): 0.40\n",
            "Epoch [148/200], Step [600/600], d_loss: 1.1157, g_loss: 1.6007, D(x): 0.62, D(G(z)): 0.26\n",
            "Epoch [149/200], Step [200/600], d_loss: 0.8800, g_loss: 1.2387, D(x): 0.74, D(G(z)): 0.33\n",
            "Epoch [149/200], Step [400/600], d_loss: 0.8564, g_loss: 1.4741, D(x): 0.80, D(G(z)): 0.37\n",
            "Epoch [149/200], Step [600/600], d_loss: 0.8413, g_loss: 1.4038, D(x): 0.68, D(G(z)): 0.26\n",
            "Epoch [150/200], Step [200/600], d_loss: 0.9986, g_loss: 1.8571, D(x): 0.69, D(G(z)): 0.31\n",
            "Epoch [150/200], Step [400/600], d_loss: 0.9599, g_loss: 1.6283, D(x): 0.67, D(G(z)): 0.29\n",
            "Epoch [150/200], Step [600/600], d_loss: 1.0654, g_loss: 1.2948, D(x): 0.77, D(G(z)): 0.46\n",
            "Epoch [151/200], Step [200/600], d_loss: 0.8666, g_loss: 1.6367, D(x): 0.68, D(G(z)): 0.24\n",
            "Epoch [151/200], Step [400/600], d_loss: 1.2133, g_loss: 1.2826, D(x): 0.72, D(G(z)): 0.45\n",
            "Epoch [151/200], Step [600/600], d_loss: 1.0405, g_loss: 1.4033, D(x): 0.69, D(G(z)): 0.35\n",
            "Epoch [152/200], Step [200/600], d_loss: 0.9832, g_loss: 1.3909, D(x): 0.76, D(G(z)): 0.37\n",
            "Epoch [152/200], Step [400/600], d_loss: 0.8505, g_loss: 1.5806, D(x): 0.67, D(G(z)): 0.24\n",
            "Epoch [152/200], Step [600/600], d_loss: 0.9167, g_loss: 1.7525, D(x): 0.65, D(G(z)): 0.22\n",
            "Epoch [153/200], Step [200/600], d_loss: 0.8270, g_loss: 2.1368, D(x): 0.74, D(G(z)): 0.28\n",
            "Epoch [153/200], Step [400/600], d_loss: 1.0019, g_loss: 1.7067, D(x): 0.63, D(G(z)): 0.25\n",
            "Epoch [153/200], Step [600/600], d_loss: 1.0364, g_loss: 2.1209, D(x): 0.65, D(G(z)): 0.25\n",
            "Epoch [154/200], Step [200/600], d_loss: 1.0774, g_loss: 1.7251, D(x): 0.64, D(G(z)): 0.30\n",
            "Epoch [154/200], Step [400/600], d_loss: 0.8886, g_loss: 1.6904, D(x): 0.71, D(G(z)): 0.30\n",
            "Epoch [154/200], Step [600/600], d_loss: 0.7749, g_loss: 1.6392, D(x): 0.73, D(G(z)): 0.28\n",
            "Epoch [155/200], Step [200/600], d_loss: 0.9396, g_loss: 1.5399, D(x): 0.68, D(G(z)): 0.29\n",
            "Epoch [155/200], Step [400/600], d_loss: 0.8433, g_loss: 1.6002, D(x): 0.72, D(G(z)): 0.30\n",
            "Epoch [155/200], Step [600/600], d_loss: 0.9216, g_loss: 1.5132, D(x): 0.66, D(G(z)): 0.28\n",
            "Epoch [156/200], Step [200/600], d_loss: 0.8155, g_loss: 1.8057, D(x): 0.69, D(G(z)): 0.24\n",
            "Epoch [156/200], Step [400/600], d_loss: 1.0546, g_loss: 1.7184, D(x): 0.63, D(G(z)): 0.27\n",
            "Epoch [156/200], Step [600/600], d_loss: 1.1394, g_loss: 1.4887, D(x): 0.62, D(G(z)): 0.34\n",
            "Epoch [157/200], Step [200/600], d_loss: 1.0666, g_loss: 1.7847, D(x): 0.60, D(G(z)): 0.24\n",
            "Epoch [157/200], Step [400/600], d_loss: 1.1069, g_loss: 1.5285, D(x): 0.65, D(G(z)): 0.34\n",
            "Epoch [157/200], Step [600/600], d_loss: 0.9326, g_loss: 1.6286, D(x): 0.68, D(G(z)): 0.29\n",
            "Epoch [158/200], Step [200/600], d_loss: 0.8461, g_loss: 1.1986, D(x): 0.73, D(G(z)): 0.30\n",
            "Epoch [158/200], Step [400/600], d_loss: 1.1741, g_loss: 1.2619, D(x): 0.62, D(G(z)): 0.34\n",
            "Epoch [158/200], Step [600/600], d_loss: 0.8546, g_loss: 1.6306, D(x): 0.79, D(G(z)): 0.37\n",
            "Epoch [159/200], Step [200/600], d_loss: 1.1178, g_loss: 1.2517, D(x): 0.68, D(G(z)): 0.36\n",
            "Epoch [159/200], Step [400/600], d_loss: 0.8773, g_loss: 1.8178, D(x): 0.66, D(G(z)): 0.23\n",
            "Epoch [159/200], Step [600/600], d_loss: 0.7000, g_loss: 1.8965, D(x): 0.76, D(G(z)): 0.25\n",
            "Epoch [160/200], Step [200/600], d_loss: 0.9841, g_loss: 1.3793, D(x): 0.64, D(G(z)): 0.29\n",
            "Epoch [160/200], Step [400/600], d_loss: 1.0094, g_loss: 1.6888, D(x): 0.64, D(G(z)): 0.28\n",
            "Epoch [160/200], Step [600/600], d_loss: 0.7681, g_loss: 1.4511, D(x): 0.76, D(G(z)): 0.30\n",
            "Epoch [161/200], Step [200/600], d_loss: 0.9675, g_loss: 1.8939, D(x): 0.63, D(G(z)): 0.24\n",
            "Epoch [161/200], Step [400/600], d_loss: 0.8071, g_loss: 1.5252, D(x): 0.63, D(G(z)): 0.18\n",
            "Epoch [161/200], Step [600/600], d_loss: 0.9234, g_loss: 1.3266, D(x): 0.73, D(G(z)): 0.36\n",
            "Epoch [162/200], Step [200/600], d_loss: 0.8438, g_loss: 1.5871, D(x): 0.65, D(G(z)): 0.21\n",
            "Epoch [162/200], Step [400/600], d_loss: 0.9186, g_loss: 1.5590, D(x): 0.71, D(G(z)): 0.33\n",
            "Epoch [162/200], Step [600/600], d_loss: 0.9076, g_loss: 1.8027, D(x): 0.69, D(G(z)): 0.30\n",
            "Epoch [163/200], Step [200/600], d_loss: 0.9752, g_loss: 1.2558, D(x): 0.61, D(G(z)): 0.25\n",
            "Epoch [163/200], Step [400/600], d_loss: 0.9338, g_loss: 1.7189, D(x): 0.71, D(G(z)): 0.33\n",
            "Epoch [163/200], Step [600/600], d_loss: 0.8556, g_loss: 1.6245, D(x): 0.69, D(G(z)): 0.27\n",
            "Epoch [164/200], Step [200/600], d_loss: 0.8962, g_loss: 1.3754, D(x): 0.70, D(G(z)): 0.32\n",
            "Epoch [164/200], Step [400/600], d_loss: 1.1158, g_loss: 1.7206, D(x): 0.62, D(G(z)): 0.32\n",
            "Epoch [164/200], Step [600/600], d_loss: 1.0247, g_loss: 2.0204, D(x): 0.62, D(G(z)): 0.28\n",
            "Epoch [165/200], Step [200/600], d_loss: 0.7837, g_loss: 1.7481, D(x): 0.76, D(G(z)): 0.29\n",
            "Epoch [165/200], Step [400/600], d_loss: 0.8725, g_loss: 1.5401, D(x): 0.68, D(G(z)): 0.27\n",
            "Epoch [165/200], Step [600/600], d_loss: 1.0953, g_loss: 1.6530, D(x): 0.59, D(G(z)): 0.27\n",
            "Epoch [166/200], Step [200/600], d_loss: 0.8369, g_loss: 1.7647, D(x): 0.79, D(G(z)): 0.35\n",
            "Epoch [166/200], Step [400/600], d_loss: 1.0312, g_loss: 1.2781, D(x): 0.66, D(G(z)): 0.32\n",
            "Epoch [166/200], Step [600/600], d_loss: 0.9514, g_loss: 1.5218, D(x): 0.71, D(G(z)): 0.32\n",
            "Epoch [167/200], Step [200/600], d_loss: 1.1202, g_loss: 1.5506, D(x): 0.65, D(G(z)): 0.34\n",
            "Epoch [167/200], Step [400/600], d_loss: 0.8729, g_loss: 1.4753, D(x): 0.67, D(G(z)): 0.28\n",
            "Epoch [167/200], Step [600/600], d_loss: 0.9427, g_loss: 1.6241, D(x): 0.69, D(G(z)): 0.32\n",
            "Epoch [168/200], Step [200/600], d_loss: 0.8718, g_loss: 1.8357, D(x): 0.74, D(G(z)): 0.31\n",
            "Epoch [168/200], Step [400/600], d_loss: 0.9973, g_loss: 1.5701, D(x): 0.64, D(G(z)): 0.29\n",
            "Epoch [168/200], Step [600/600], d_loss: 0.9321, g_loss: 1.1437, D(x): 0.77, D(G(z)): 0.38\n",
            "Epoch [169/200], Step [200/600], d_loss: 1.1043, g_loss: 1.4981, D(x): 0.62, D(G(z)): 0.31\n",
            "Epoch [169/200], Step [400/600], d_loss: 1.1760, g_loss: 1.0073, D(x): 0.63, D(G(z)): 0.38\n",
            "Epoch [169/200], Step [600/600], d_loss: 0.9966, g_loss: 1.3714, D(x): 0.66, D(G(z)): 0.31\n",
            "Epoch [170/200], Step [200/600], d_loss: 0.7342, g_loss: 1.4542, D(x): 0.72, D(G(z)): 0.25\n",
            "Epoch [170/200], Step [400/600], d_loss: 0.9315, g_loss: 1.4969, D(x): 0.63, D(G(z)): 0.23\n",
            "Epoch [170/200], Step [600/600], d_loss: 1.0208, g_loss: 1.6232, D(x): 0.64, D(G(z)): 0.26\n",
            "Epoch [171/200], Step [200/600], d_loss: 1.0110, g_loss: 1.6560, D(x): 0.60, D(G(z)): 0.24\n",
            "Epoch [171/200], Step [400/600], d_loss: 0.9340, g_loss: 1.4123, D(x): 0.66, D(G(z)): 0.27\n",
            "Epoch [171/200], Step [600/600], d_loss: 1.1033, g_loss: 1.7589, D(x): 0.59, D(G(z)): 0.30\n",
            "Epoch [172/200], Step [200/600], d_loss: 0.9946, g_loss: 1.6337, D(x): 0.65, D(G(z)): 0.31\n",
            "Epoch [172/200], Step [400/600], d_loss: 0.8709, g_loss: 2.1188, D(x): 0.71, D(G(z)): 0.30\n",
            "Epoch [172/200], Step [600/600], d_loss: 1.1027, g_loss: 1.3310, D(x): 0.66, D(G(z)): 0.35\n",
            "Epoch [173/200], Step [200/600], d_loss: 1.0951, g_loss: 1.5024, D(x): 0.61, D(G(z)): 0.31\n",
            "Epoch [173/200], Step [400/600], d_loss: 0.8895, g_loss: 1.6264, D(x): 0.72, D(G(z)): 0.31\n",
            "Epoch [173/200], Step [600/600], d_loss: 0.8779, g_loss: 1.3882, D(x): 0.68, D(G(z)): 0.29\n",
            "Epoch [174/200], Step [200/600], d_loss: 0.9859, g_loss: 1.8930, D(x): 0.62, D(G(z)): 0.28\n",
            "Epoch [174/200], Step [400/600], d_loss: 1.0635, g_loss: 1.5633, D(x): 0.72, D(G(z)): 0.41\n",
            "Epoch [174/200], Step [600/600], d_loss: 0.8341, g_loss: 1.2322, D(x): 0.74, D(G(z)): 0.30\n",
            "Epoch [175/200], Step [200/600], d_loss: 0.7265, g_loss: 1.5629, D(x): 0.77, D(G(z)): 0.28\n",
            "Epoch [175/200], Step [400/600], d_loss: 0.9793, g_loss: 1.5330, D(x): 0.67, D(G(z)): 0.31\n",
            "Epoch [175/200], Step [600/600], d_loss: 0.8535, g_loss: 1.3684, D(x): 0.74, D(G(z)): 0.34\n",
            "Epoch [176/200], Step [200/600], d_loss: 0.7696, g_loss: 1.4261, D(x): 0.74, D(G(z)): 0.28\n",
            "Epoch [176/200], Step [400/600], d_loss: 0.9720, g_loss: 1.4793, D(x): 0.68, D(G(z)): 0.32\n",
            "Epoch [176/200], Step [600/600], d_loss: 0.8573, g_loss: 1.7094, D(x): 0.74, D(G(z)): 0.32\n",
            "Epoch [177/200], Step [200/600], d_loss: 0.8941, g_loss: 1.4122, D(x): 0.78, D(G(z)): 0.37\n",
            "Epoch [177/200], Step [400/600], d_loss: 1.0705, g_loss: 1.3228, D(x): 0.63, D(G(z)): 0.28\n",
            "Epoch [177/200], Step [600/600], d_loss: 1.0897, g_loss: 1.4153, D(x): 0.68, D(G(z)): 0.38\n",
            "Epoch [178/200], Step [200/600], d_loss: 0.8673, g_loss: 1.2244, D(x): 0.68, D(G(z)): 0.30\n",
            "Epoch [178/200], Step [400/600], d_loss: 0.9698, g_loss: 1.4861, D(x): 0.73, D(G(z)): 0.36\n",
            "Epoch [178/200], Step [600/600], d_loss: 0.9815, g_loss: 1.3465, D(x): 0.68, D(G(z)): 0.33\n",
            "Epoch [179/200], Step [200/600], d_loss: 0.9749, g_loss: 1.2779, D(x): 0.63, D(G(z)): 0.25\n",
            "Epoch [179/200], Step [400/600], d_loss: 1.2095, g_loss: 1.6867, D(x): 0.59, D(G(z)): 0.36\n",
            "Epoch [179/200], Step [600/600], d_loss: 0.9512, g_loss: 1.4739, D(x): 0.66, D(G(z)): 0.31\n",
            "Epoch [180/200], Step [200/600], d_loss: 1.0875, g_loss: 1.5247, D(x): 0.64, D(G(z)): 0.33\n",
            "Epoch [180/200], Step [400/600], d_loss: 0.9775, g_loss: 1.5497, D(x): 0.69, D(G(z)): 0.34\n",
            "Epoch [180/200], Step [600/600], d_loss: 1.0200, g_loss: 1.2077, D(x): 0.64, D(G(z)): 0.32\n",
            "Epoch [181/200], Step [200/600], d_loss: 0.8870, g_loss: 1.8190, D(x): 0.64, D(G(z)): 0.21\n",
            "Epoch [181/200], Step [400/600], d_loss: 1.0532, g_loss: 1.4342, D(x): 0.69, D(G(z)): 0.36\n",
            "Epoch [181/200], Step [600/600], d_loss: 1.0004, g_loss: 1.4011, D(x): 0.68, D(G(z)): 0.34\n",
            "Epoch [182/200], Step [200/600], d_loss: 0.9206, g_loss: 1.4377, D(x): 0.75, D(G(z)): 0.37\n",
            "Epoch [182/200], Step [400/600], d_loss: 0.7592, g_loss: 1.5173, D(x): 0.71, D(G(z)): 0.25\n",
            "Epoch [182/200], Step [600/600], d_loss: 0.8556, g_loss: 1.6709, D(x): 0.72, D(G(z)): 0.32\n",
            "Epoch [183/200], Step [200/600], d_loss: 1.1306, g_loss: 1.2211, D(x): 0.61, D(G(z)): 0.32\n",
            "Epoch [183/200], Step [400/600], d_loss: 0.7327, g_loss: 1.5549, D(x): 0.76, D(G(z)): 0.29\n",
            "Epoch [183/200], Step [600/600], d_loss: 0.9844, g_loss: 1.2780, D(x): 0.68, D(G(z)): 0.33\n",
            "Epoch [184/200], Step [200/600], d_loss: 0.9393, g_loss: 1.2451, D(x): 0.70, D(G(z)): 0.33\n",
            "Epoch [184/200], Step [400/600], d_loss: 0.9424, g_loss: 1.4051, D(x): 0.65, D(G(z)): 0.24\n",
            "Epoch [184/200], Step [600/600], d_loss: 0.8571, g_loss: 1.4293, D(x): 0.70, D(G(z)): 0.31\n",
            "Epoch [185/200], Step [200/600], d_loss: 1.0354, g_loss: 1.5381, D(x): 0.62, D(G(z)): 0.32\n",
            "Epoch [185/200], Step [400/600], d_loss: 0.9467, g_loss: 1.5852, D(x): 0.72, D(G(z)): 0.34\n",
            "Epoch [185/200], Step [600/600], d_loss: 1.1304, g_loss: 1.2531, D(x): 0.61, D(G(z)): 0.31\n",
            "Epoch [186/200], Step [200/600], d_loss: 0.9020, g_loss: 1.9263, D(x): 0.70, D(G(z)): 0.29\n",
            "Epoch [186/200], Step [400/600], d_loss: 0.8991, g_loss: 1.6633, D(x): 0.65, D(G(z)): 0.26\n",
            "Epoch [186/200], Step [600/600], d_loss: 0.9049, g_loss: 1.9080, D(x): 0.71, D(G(z)): 0.31\n",
            "Epoch [187/200], Step [200/600], d_loss: 0.9395, g_loss: 1.6464, D(x): 0.64, D(G(z)): 0.25\n",
            "Epoch [187/200], Step [400/600], d_loss: 0.9699, g_loss: 1.5432, D(x): 0.74, D(G(z)): 0.39\n",
            "Epoch [187/200], Step [600/600], d_loss: 0.8231, g_loss: 1.4645, D(x): 0.69, D(G(z)): 0.27\n",
            "Epoch [188/200], Step [200/600], d_loss: 1.1413, g_loss: 1.6092, D(x): 0.61, D(G(z)): 0.32\n",
            "Epoch [188/200], Step [400/600], d_loss: 1.0792, g_loss: 0.9015, D(x): 0.75, D(G(z)): 0.45\n",
            "Epoch [188/200], Step [600/600], d_loss: 1.0073, g_loss: 1.3918, D(x): 0.64, D(G(z)): 0.30\n",
            "Epoch [189/200], Step [200/600], d_loss: 0.9942, g_loss: 1.3886, D(x): 0.61, D(G(z)): 0.25\n",
            "Epoch [189/200], Step [400/600], d_loss: 1.0493, g_loss: 1.4607, D(x): 0.68, D(G(z)): 0.36\n",
            "Epoch [189/200], Step [600/600], d_loss: 0.9254, g_loss: 1.3359, D(x): 0.73, D(G(z)): 0.36\n",
            "Epoch [190/200], Step [200/600], d_loss: 0.8343, g_loss: 1.7733, D(x): 0.73, D(G(z)): 0.27\n",
            "Epoch [190/200], Step [400/600], d_loss: 0.9731, g_loss: 1.3951, D(x): 0.65, D(G(z)): 0.31\n",
            "Epoch [190/200], Step [600/600], d_loss: 1.0074, g_loss: 1.3278, D(x): 0.66, D(G(z)): 0.32\n",
            "Epoch [191/200], Step [200/600], d_loss: 1.0054, g_loss: 1.4174, D(x): 0.60, D(G(z)): 0.24\n",
            "Epoch [191/200], Step [400/600], d_loss: 0.9293, g_loss: 1.2455, D(x): 0.67, D(G(z)): 0.27\n",
            "Epoch [191/200], Step [600/600], d_loss: 1.0028, g_loss: 1.4823, D(x): 0.64, D(G(z)): 0.30\n",
            "Epoch [192/200], Step [200/600], d_loss: 0.8461, g_loss: 1.9545, D(x): 0.64, D(G(z)): 0.22\n",
            "Epoch [192/200], Step [400/600], d_loss: 1.0482, g_loss: 1.3541, D(x): 0.66, D(G(z)): 0.31\n",
            "Epoch [192/200], Step [600/600], d_loss: 0.8450, g_loss: 1.8259, D(x): 0.70, D(G(z)): 0.26\n",
            "Epoch [193/200], Step [200/600], d_loss: 0.9166, g_loss: 1.5544, D(x): 0.68, D(G(z)): 0.29\n",
            "Epoch [193/200], Step [400/600], d_loss: 1.1194, g_loss: 1.4074, D(x): 0.54, D(G(z)): 0.25\n",
            "Epoch [193/200], Step [600/600], d_loss: 0.9332, g_loss: 1.8597, D(x): 0.66, D(G(z)): 0.29\n",
            "Epoch [194/200], Step [200/600], d_loss: 1.0191, g_loss: 1.1548, D(x): 0.69, D(G(z)): 0.36\n",
            "Epoch [194/200], Step [400/600], d_loss: 1.0828, g_loss: 1.2812, D(x): 0.68, D(G(z)): 0.37\n",
            "Epoch [194/200], Step [600/600], d_loss: 1.0123, g_loss: 1.5067, D(x): 0.72, D(G(z)): 0.39\n",
            "Epoch [195/200], Step [200/600], d_loss: 1.0365, g_loss: 1.1132, D(x): 0.78, D(G(z)): 0.46\n",
            "Epoch [195/200], Step [400/600], d_loss: 0.9628, g_loss: 1.5807, D(x): 0.71, D(G(z)): 0.34\n",
            "Epoch [195/200], Step [600/600], d_loss: 0.8458, g_loss: 1.5576, D(x): 0.78, D(G(z)): 0.35\n",
            "Epoch [196/200], Step [200/600], d_loss: 1.0845, g_loss: 1.7134, D(x): 0.58, D(G(z)): 0.26\n",
            "Epoch [196/200], Step [400/600], d_loss: 0.9463, g_loss: 1.9046, D(x): 0.76, D(G(z)): 0.36\n",
            "Epoch [196/200], Step [600/600], d_loss: 0.9811, g_loss: 1.5942, D(x): 0.63, D(G(z)): 0.28\n",
            "Epoch [197/200], Step [200/600], d_loss: 0.8125, g_loss: 1.5016, D(x): 0.71, D(G(z)): 0.28\n",
            "Epoch [197/200], Step [400/600], d_loss: 1.1204, g_loss: 1.1484, D(x): 0.62, D(G(z)): 0.35\n",
            "Epoch [197/200], Step [600/600], d_loss: 1.0433, g_loss: 1.6203, D(x): 0.64, D(G(z)): 0.31\n",
            "Epoch [198/200], Step [200/600], d_loss: 0.9256, g_loss: 1.8505, D(x): 0.72, D(G(z)): 0.33\n",
            "Epoch [198/200], Step [400/600], d_loss: 0.9200, g_loss: 1.3851, D(x): 0.66, D(G(z)): 0.29\n",
            "Epoch [198/200], Step [600/600], d_loss: 1.0703, g_loss: 1.0728, D(x): 0.76, D(G(z)): 0.44\n",
            "Epoch [199/200], Step [200/600], d_loss: 1.0142, g_loss: 1.6930, D(x): 0.68, D(G(z)): 0.34\n",
            "Epoch [199/200], Step [400/600], d_loss: 0.8823, g_loss: 1.4629, D(x): 0.63, D(G(z)): 0.22\n",
            "Epoch [199/200], Step [600/600], d_loss: 1.1047, g_loss: 1.7238, D(x): 0.66, D(G(z)): 0.35\n"
          ],
          "name": "stdout"
        }
      ]
    },
    {
      "cell_type": "code",
      "metadata": {
        "id": "rUzZw1dQ-QF1",
        "colab_type": "code",
        "colab": {
          "base_uri": "https://localhost:8080/",
          "height": 320
        },
        "outputId": "5dd09cd6-dc37-4621-ae9d-f180cf3c96be"
      },
      "source": [
        "import matplotlib.pyplot as plt\n",
        "import numpy as np\n",
        "\n",
        "plt.figure(figsize=(5, 5))\n",
        "image = np.reshape(images[0], [28, 28])\n",
        "plt.imshow(image, cmap='Greys')\n",
        "plt.show()"
      ],
      "execution_count": null,
      "outputs": [
        {
          "output_type": "display_data",
          "data": {
            "image/png": "[encoded data removed]",
            "text/plain": [
              "<Figure size 360x360 with 1 Axes>"
            ]
          },
          "metadata": {
            "tags": [],
            "needs_background": "light"
          }
        }
      ]
    },
    {
      "cell_type": "code",
      "metadata": {
        "id": "nXlYaktH9--E",
        "colab_type": "code",
        "colab": {
          "base_uri": "https://localhost:8080/",
          "height": 320
        },
        "outputId": "bf3932a2-d91d-4259-ab60-8209daabe47c"
      },
      "source": [
        "plt.figure(figsize=(5, 5))\n",
        "fake_image = fake_images.detach().numpy()\n",
        "image = fake_image[4].reshape([28, 28])\n",
        "# image = tensor.detach().numpy.\n",
        "plt.imshow(image, cmap='Greys')\n",
        "plt.show()"
      ],
      "execution_count": null,
      "outputs": [
        {
          "output_type": "display_data",
          "data": {
            "image/png": "[encoded data removed]",
            "text/plain": [
              "<Figure size 360x360 with 1 Axes>"
            ]
          },
          "metadata": {
            "tags": [],
            "needs_background": "light"
          }
        }
      ]
    },
    {
      "cell_type": "markdown",
      "metadata": {
        "id": "Ro8ONhMVn3aa",
        "colab_type": "text"
      },
      "source": [
        "## Heuristic Objective function of Genarator"
      ]
    },
    {
      "cell_type": "markdown",
      "metadata": {
        "id": "xGsjweven0--",
        "colab_type": "text"
      },
      "source": [
        "<img src = \"https://image.slidesharecdn.com/gan-170828035730/95/1-gangenerative-adversarial-network-32-638.jpg?cb=1504578141\">"
      ]
    },
    {
      "cell_type": "markdown",
      "metadata": {
        "id": "9IOMj9ctoKZS",
        "colab_type": "text"
      },
      "source": [
        "G의 objective function의 경우, 위 식과 같이 minimize시키는 것이다.\n",
        "\n",
        "하지만 이는 Practical한 입장에서 GAN을 training시킬 때 좋지 않은 방법이다. \n",
        "\n",
        "우리는 GAN의 학습 초기에 G의 성능이 좋지 않아, D(G(z))의 값이 0에 가까운 값이 나올 것이라는 것을 예상할 수 있다. \n",
        "\n",
        "즉, 초기 학습 과정에서 log(1−x) 함수 상의 x=0 근방에서 gradient를 구하여 weight을 update하게 되는데, 그림에서 볼 수 있듯이 해당 영역에서는 Gradient가 매우 작은 것을 확인할 수 있다. \n",
        "\n",
        "즉, 학습이 매우 더디게 이루어진다.\n",
        "\n"
      ]
    },
    {
      "cell_type": "markdown",
      "metadata": {
        "id": "ndA238_Uoix8",
        "colab_type": "text"
      },
      "source": [
        "<img src = \"https://image.slidesharecdn.com/gan-170828035730/95/1-gangenerative-adversarial-network-33-638.jpg?cb=1504578141\">"
      ]
    },
    {
      "cell_type": "markdown",
      "metadata": {
        "id": "6XIM5u4qos2r",
        "colab_type": "text"
      },
      "source": [
        "반면, log(x) 함수의 경우는 다르다. \n",
        "\n",
        "log(x) 함수의 경우 x=0 근방에서의 gradient가 매우 커서 학습 초기에 training이 매우 잘 될 것이라는 것을 유추할 수 있다. \n",
        "\n",
        "또한, 학습이 진행됨에 따라 G가 가짜 데이터를 잘 만들 수 있도록 학습될 것이고, 이에 따라 D(G(z))의 값이 점점 더 1에 가까워지게 될 것이다. \n",
        "\n",
        "log(x) 함수를 보면 x=0 근방에서는 Gradient가 매우 크다가 x=1에 가까워 질수록 Gradient가 점점 줄어든다는 것을 확인할 수 있다.\n",
        "\n",
        "즉, G의 목적함수를 다음과 같이 log(x)로 나타낸 함수로 바꾸면 초기에는 학습 속도를 높이고, 후기에는 학습 속도를 조절하여 줄일 수 있게 되어 매우 효율적인 학습이 가능하다. "
      ]
    },
    {
      "cell_type": "markdown",
      "metadata": {
        "id": "OiLx0ni8Bh9h",
        "colab_type": "text"
      },
      "source": [
        "## DCGAN"
      ]
    },
    {
      "cell_type": "markdown",
      "metadata": {
        "id": "Pk79xPMVCo5I",
        "colab_type": "text"
      },
      "source": [
        "- 이름에서 알 수 있듯이 Convolutional 구조를 GAN에 녹여 넣은 것\n",
        "\n",
        "- Ian Goodfellow가 GAN을 발표한 이후로 많은 분야에 GAN이 연구되었지만 그 때마다 항상 불안정한 구조로 인한 문제가 따라붙었다. 그래서 GAN을 다룬 논문들을 보면 하나같이 이 부분에 대한 어려움을 언급하고, NIPS 2016에서 Tutorial이나 workshop 세션에서도 큰 주제로 다룬 부분이 바로 이 \"GAN의 안정화\"이다.\n",
        "\n",
        "- DCGAN은 굉장한 결과를 보여주며 이후에 나오는 대다수의 GAN 구조는 전부 다 어떤 식으로든 DCGAN 구조를 사용했다고 한다."
      ]
    },
    {
      "cell_type": "markdown",
      "metadata": {
        "id": "Q8MMZKAzqqQq",
        "colab_type": "text"
      },
      "source": [
        "## DCGAN의 특징"
      ]
    },
    {
      "cell_type": "markdown",
      "metadata": {
        "id": "g5tKN21-qmTI",
        "colab_type": "text"
      },
      "source": [
        "<img src = \"https://image.slidesharecdn.com/gan-170828035730/95/1-gangenerative-adversarial-network-38-638.jpg?cb=1504578141\">"
      ]
    },
    {
      "cell_type": "markdown",
      "metadata": {
        "id": "bCj4zjtEqup-",
        "colab_type": "text"
      },
      "source": [
        " - 이미지의 산술적인 연산이 가능해짐\n",
        " - word2vec에서 'king' - 'man' + 'woman' = 'queen'이 나왔던 것과 비슷 \n",
        " - ‘안경을 쓴 남자’ - ‘안경을 쓰지 않은 남자’ + ‘안경을 쓰지 않은 여자' = ‘안경을 쓴 여자'\n",
        " - GAN 생성자의 결과물을 우리가 원하는 데로 마음껏 조작할 수 있다는 가능성을 확인한 것이며, 단순한 데이터의 분류가 아닌 새로운 것을 창조할 능력을 가지게 된 것을 의미"
      ]
    },
    {
      "cell_type": "markdown",
      "metadata": {
        "id": "IeHkT8nsDL5Q",
        "colab_type": "text"
      },
      "source": [
        "## DCGAN의 구조"
      ]
    },
    {
      "cell_type": "markdown",
      "metadata": {
        "id": "iUjlvufxDEFe",
        "colab_type": "text"
      },
      "source": [
        "<img src = \"https://2.bp.blogspot.com/-oMyhHfxOqiE/WKF4KlVYWJI/AAAAAAAABRs/6BDIypy1hn0U8MGRFxfVaXOcQDO7vX1cQCK4B/s1600/dcgan-architecture.PNG\">"
      ]
    },
    {
      "cell_type": "markdown",
      "metadata": {
        "id": "v3kxTpYvDQku",
        "colab_type": "text"
      },
      "source": [
        "- 이미지를 generate하기 위해서는 차원을 늘려나가야 하므로, max pooling과 같이 미분이 되지 않는 부분을 convolution으로 대체하여 \"all convolutional net\" 사용 "
      ]
    },
    {
      "cell_type": "code",
      "metadata": {
        "id": "w8NdpB6eEjXB",
        "colab_type": "code",
        "colab": {}
      },
      "source": [
        "from __future__ import print_function\n",
        "import argparse\n",
        "import os\n",
        "import random\n",
        "\n",
        "import torch\n",
        "import torch.nn as nn\n",
        "import torch.nn.parallel\n",
        "import torch.backends.cudnn as cudnn\n",
        "import torch.optim as optim\n",
        "import torch.utils.data\n",
        "import torchvision.datasets as dset\n",
        "import torchvision.transforms as transforms\n",
        "import torchvision.utils as vutils\n",
        "from torch.autograd import Variable\n",
        "\n",
        "cudnn.benchmark = True"
      ],
      "execution_count": null,
      "outputs": []
    },
    {
      "cell_type": "code",
      "metadata": {
        "id": "2gH5yzEREaz_",
        "colab_type": "code",
        "colab": {}
      },
      "source": [
        "class Generator(nn.Module):\n",
        "    def __init__(self, args):\n",
        "        super(Generator, self).__init__()\n",
        "        self.main = nn.Sequential(\n",
        "            # input is Z, going into a convolution\n",
        "            nn.ConvTranspose2d(in_channels = args.nz, out_channels = args.ngf * 8, kernel_size = 4,stride = 1, padding = 0, bias=False),\n",
        "            nn.BatchNorm2d(args.ngf * 8),\n",
        "            nn.ReLU(True),\n",
        "            # state size. (ngf*8) x 4 x 4\n",
        "            nn.ConvTranspose2d(args.ngf * 8, args.ngf * 4, 4, 2, 1, bias=False),\n",
        "            nn.BatchNorm2d(args.ngf * 4),\n",
        "            nn.ReLU(True),\n",
        "            # state size. (ngf*4) x 8 x 8\n",
        "            nn.ConvTranspose2d(args.ngf * 4, args.ngf * 2, 4, 2, 1, bias=False),\n",
        "            nn.BatchNorm2d(args.ngf * 2),\n",
        "            nn.ReLU(True),\n",
        "            # state size. (ngf*2) x 16 x 16\n",
        "            nn.ConvTranspose2d(args.ngf * 2, args.ngf, 4, 2, 1, bias=False),\n",
        "            nn.BatchNorm2d(args.ngf),\n",
        "            nn.ReLU(True),\n",
        "            # state size. (ngf) x 32 x 32\n",
        "            nn.ConvTranspose2d(args.ngf, args.nc, 4, 2, 1, bias=False),\n",
        "            nn.Tanh()\n",
        "            # state size. (nc) x 64 x 64\n",
        "        )\n",
        "\n",
        "    def forward(self, input):\n",
        "          output = self.main(input)\n",
        "          return output"
      ],
      "execution_count": null,
      "outputs": []
    },
    {
      "cell_type": "code",
      "metadata": {
        "id": "klI2G7AzruvH",
        "colab_type": "code",
        "colab": {}
      },
      "source": [
        "class Discriminator(nn.Module):\n",
        "    def __init__(self, args):\n",
        "        super(Discriminator, self).__init__()\n",
        "        self.main = nn.Sequential(\n",
        "            # input is (nc) x 64 x 64\n",
        "            nn.Conv2d(in_channels= args.nc, out_channels= args.ndf, kernel_size= 4,stride = 2,padding = 1, bias=False),\n",
        "            nn.LeakyReLU(0.2, inplace=True),\n",
        "            # state size. (ndf) x 32 x 32\n",
        "            nn.Conv2d(args.ndf, args.ndf * 2, 4, 2, 1, bias=False),\n",
        "            nn.BatchNorm2d(args.ndf * 2),\n",
        "            nn.LeakyReLU(0.2, inplace=True),\n",
        "            # state size. (ndf*2) x 16 x 16\n",
        "            nn.Conv2d(args.ndf * 2, args.ndf * 4, 4, 2, 1, bias=False),\n",
        "            nn.BatchNorm2d(args.ndf * 4),\n",
        "            nn.LeakyReLU(0.2, inplace=True),\n",
        "            # state size. (ndf*4) x 8 x 8\n",
        "            nn.Conv2d(args.ndf * 4, args.ndf * 8, 4, 2, 1, bias=False),\n",
        "            nn.BatchNorm2d(args.ndf * 8),\n",
        "            nn.LeakyReLU(0.2, inplace=True),\n",
        "            # state size. (ndf*8) x 4 x 4\n",
        "            nn.Conv2d(args.ndf * 8, 1, 4, 1, 0, bias=False),\n",
        "            nn.Sigmoid()\n",
        "        )\n",
        "\n",
        "    def forward(self, input):\n",
        "      \n",
        "        output = self.main(input)\n",
        "        return output.view(-1, 1).squeeze(1)"
      ],
      "execution_count": null,
      "outputs": []
    },
    {
      "cell_type": "code",
      "metadata": {
        "id": "f6ye7OLtEpTr",
        "colab_type": "code",
        "colab": {}
      },
      "source": [
        "# custom weights initialization called on netG and netD\n",
        "\n",
        "def weights_init(m):\n",
        "    classname = m.__class__.__name__\n",
        "    if classname.find('Conv') != -1:\n",
        "        m.weight.data.normal_(0.0, 0.02)\n",
        "    elif classname.find('BatchNorm') != -1:\n",
        "        m.weight.data.normal_(1.0, 0.02)\n",
        "        m.bias.data.fill_(0)"
      ],
      "execution_count": null,
      "outputs": []
    },
    {
      "cell_type": "code",
      "metadata": {
        "id": "RzeKzLLMEnoN",
        "colab_type": "code",
        "colab": {
          "base_uri": "https://localhost:8080/",
          "height": 35
        },
        "outputId": "d136e915-aefe-48e9-9131-c48b909ad6e3"
      },
      "source": [
        "# hyperparameter\n",
        "\n",
        "paser = argparse.ArgumentParser()\n",
        "\n",
        "args = paser.parse_args(\"\")\n",
        "args.device = 'cuda'\n",
        "args.n_epochs = 50 # number of epochs of training\n",
        "args.batch_size = 64 # size of batches\n",
        "args.lr = 0.0002 # adam learning rate\n",
        "args.b1 = 0.5 # adam: decay of first order momentum of gradient\n",
        "args.b2 = 0.999 # adam: decay of first order momentum of gradient\n",
        "args.nz = 100 # dimensionality of the latent space\n",
        "args.ngf = 64 # number of generator filters\n",
        "args.ndf = 64 # number of discriminator filters\n",
        "args.nc = 3\n",
        "args.print_every = 50\n",
        "\n",
        "cudnn.benchmark = True\n",
        "\n",
        "#set manual seed to a constant get a consistent output\n",
        "manualSeed = random.randint(1, 10000)\n",
        "print(\"Random Seed: \", manualSeed)\n",
        "random.seed(manualSeed)\n",
        "torch.manual_seed(manualSeed)\n",
        "\n",
        "device = 'cuda' if torch.cuda.is_available() else 'cpu'"
      ],
      "execution_count": null,
      "outputs": [
        {
          "output_type": "stream",
          "text": [
            "Random Seed:  7760\n"
          ],
          "name": "stdout"
        }
      ]
    },
    {
      "cell_type": "code",
      "metadata": {
        "id": "kdV_pSj3ETig",
        "colab_type": "code",
        "colab": {
          "base_uri": "https://localhost:8080/",
          "height": 85,
          "referenced_widgets": [
            "7459014e83ba483eb92d4f17903f2778",
            "ec88f33b9d3f40fe91b970739f16b186",
            "7d6a474279e749759585ffe457a8f39a",
            "f9f66f277d2746b0a2acdf2f82aa4d4e",
            "58d2862f33b44f669726a5033896a6c9",
            "1205543155354fa0badd2a97adb446a8",
            "b5dfaa08b6254ac8adaa01dfa41c84d9",
            "8ee6863462c843ca9e504f19b7247d4d"
          ]
        },
        "outputId": "452ee14d-6757-44f1-d959-5c1f86bf087e"
      },
      "source": [
        "#loading the dataset\n",
        "dataset = dset.CIFAR10(root=\"../../data/mnist\", download=True,\n",
        "                           transform=transforms.Compose([\n",
        "                               transforms.Resize(64),\n",
        "                               transforms.ToTensor(),\n",
        "                               transforms.Normalize((0.5, 0.5, 0.5), (0.5, 0.5, 0.5)),\n",
        "                           ]))\n",
        "\n",
        "dataloader = torch.utils.data.DataLoader(dataset, batch_size=args.batch_size,\n",
        "                                         shuffle=True, num_workers=2)\n",
        "\n",
        "#checking the availability of cuda devices\n",
        "device = 'cuda' if torch.cuda.is_available() else 'cpu'\n",
        "\n",
        "# set model\n",
        "netG = Generator(args).to(device)\n",
        "netG.apply(weights_init)\n",
        "\n",
        "netD = Discriminator(args).to(device)\n",
        "netD.apply(weights_init)\n",
        "\n",
        "# set loss\n",
        "criterion = nn.BCELoss()\n",
        "\n",
        " # Optimizers\n",
        "optimizer_G = optim.Adam(netG.parameters(), lr=args.lr, betas=(args.b1, args.b2))\n",
        "optimizer_D = optim.Adam(netD.parameters(), lr=args.lr, betas=(args.b1, args.b2))\n",
        "\n",
        "cuda = True if torch.cuda.is_available() else False\n",
        "Tensor = torch.cuda.FloatTensor if cuda else torch.FloatTensor"
      ],
      "execution_count": null,
      "outputs": [
        {
          "output_type": "stream",
          "text": [
            "Downloading https://www.cs.toronto.edu/~kriz/cifar-10-python.tar.gz to ../../data/mnist/cifar-10-python.tar.gz\n"
          ],
          "name": "stdout"
        },
        {
          "output_type": "display_data",
          "data": {
            "application/vnd.jupyter.widget-view+json": {
              "model_id": "7459014e83ba483eb92d4f17903f2778",
              "version_minor": 0,
              "version_major": 2
            },
            "text/plain": [
              "HBox(children=(FloatProgress(value=1.0, bar_style='info', max=1.0), HTML(value='')))"
            ]
          },
          "metadata": {
            "tags": []
          }
        },
        {
          "output_type": "stream",
          "text": [
            "Extracting ../../data/mnist/cifar-10-python.tar.gz to ../../data/mnist\n"
          ],
          "name": "stdout"
        }
      ]
    },
    {
      "cell_type": "code",
      "metadata": {
        "id": "4xmvSFQuIgGj",
        "colab_type": "code",
        "colab": {}
      },
      "source": [
        "# ----------\n",
        "#  Training\n",
        "# ----------\n",
        "\n",
        "g_loss = []\n",
        "d_loss = []\n",
        "\n",
        "for epoch in range(args.n_epochs):\n",
        "    for i, data in enumerate(dataloader, 0):\n",
        "        \n",
        "        real_img = data[0].to(device)\n",
        "        batch_size = real_img.size(0)\n",
        "\n",
        "        label = Variable(Tensor(batch_size).fill_(1.0), requires_grad=False)\n",
        "        fake_label = Variable(Tensor(batch_size).fill_(0.0), requires_grad=False)\n",
        "\n",
        "        ############################\n",
        "        # part-1 Update D network: maximize log(D(x)) + log(1 - D(G(z)))\n",
        "        ###########################\n",
        "        # train with real\n",
        "        netD.zero_grad()\n",
        "        output = netD(real_img)\n",
        "        errD_real = criterion(output, label) # log(D(x))\n",
        "        errD_real.backward()\n",
        "        D_x = output.mean().item()\n",
        "\n",
        "        # train with fake\n",
        "        noise = torch.randn(batch_size, args.nz, 1, 1, device=device)\n",
        "        fake_img = netG(noise)\n",
        "        output = netD(fake_img.detach())\n",
        "        errD_fake = criterion(output, fake_label) # log(1 - D(G(z)))\n",
        "        errD_fake.backward()\n",
        "        D_G_z1 = output.mean().item()\n",
        "        errD = errD_real + errD_fake\n",
        "        optimizer_D.step()\n",
        "\n",
        "        ############################\n",
        "        # part-2 Update G network: maximize log(D(G(z)))\n",
        "        ###########################\n",
        "        netG.zero_grad()\n",
        "        output = netD(fake_img)\n",
        "        errG = criterion(output, label) # log(D(G(z)))\n",
        "        errG.backward()\n",
        "        D_G_z2 = output.mean().item()\n",
        "        optimizer_G.step()\n",
        "        if i  %  args.print_every == 0:\n",
        "          print('[%d/%d][%d/%d] Loss_D: %.4f Loss_G: %.4f D(x): %.4f D(G(z)): %.4f / %.4f' % (epoch, args.n_epochs, i, len(dataloader), errD.item(), errG.item(), D_x, D_G_z1, D_G_z2))\n",
        "        \n",
        "        #save the output\n",
        "        if i % 300 == 0:\n",
        "            print('saving the output')\n",
        "            vutils.save_image(real_img,'real/real_samples.png',normalize=True)\n",
        "            fake_img = netG(fixed_noise)\n",
        "            vutils.save_image(fake_img.detach(),'fake/fake_samples_epoch_%03d.png' % (epoch),normalize=True)"
      ],
      "execution_count": null,
      "outputs": []
    },
    {
      "cell_type": "markdown",
      "metadata": {
        "id": "fUjtVMvDBn1V",
        "colab_type": "text"
      },
      "source": [
        "**PyTorch**-GAN] (https://github.com/eriklindernoren/PyTorch-GAN) 에서 다양한 Generative adversarial networks 확인 가능"
      ]
    },
    {
      "cell_type": "code",
      "metadata": {
        "id": "ttECTBwTBo6b",
        "colab_type": "code",
        "colab": {}
      },
      "source": [
        ""
      ],
      "execution_count": null,
      "outputs": []
    }
  ]
}