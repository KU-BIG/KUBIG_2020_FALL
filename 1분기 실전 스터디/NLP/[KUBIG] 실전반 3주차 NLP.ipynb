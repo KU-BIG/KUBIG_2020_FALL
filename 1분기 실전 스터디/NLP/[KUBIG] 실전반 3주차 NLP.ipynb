{
 "cells": [
  {
   "cell_type": "markdown",
   "metadata": {},
   "source": [
    "# Code Review\n",
    "이 코드는 https://wikidocs.net/21667 사이트의 코드를 가져와 리뷰한 것입니다."
   ]
  },
  {
   "cell_type": "code",
   "execution_count": 1,
   "metadata": {},
   "outputs": [
    {
     "name": "stderr",
     "output_type": "stream",
     "text": [
      "C:\\anaconda\\lib\\site-packages\\jpype\\_core.py:210: UserWarning: \n",
      "-------------------------------------------------------------------------------\n",
      "Deprecated: convertStrings was not specified when starting the JVM. The default\n",
      "behavior in JPype will be False starting in JPype 0.8. The recommended setting\n",
      "for new code is convertStrings=False.  The legacy value of True was assumed for\n",
      "this session. If you are a user of an application that reported this warning,\n",
      "please file a ticket with the developer.\n",
      "-------------------------------------------------------------------------------\n",
      "\n",
      "  \"\"\")\n"
     ]
    },
    {
     "name": "stdout",
     "output_type": "stream",
     "text": [
      "{'정부': 0, '가': 1, '발표': 2, '하는': 3, '물가상승률': 4, '과': 5, '소비자': 6, '느끼는': 7, '은': 8, '다르다': 9}\n"
     ]
    }
   ],
   "source": [
    "# 카운트 기반의 단어 표현(BoW)\n",
    "from konlpy.tag import Okt\n",
    "import re  \n",
    "okt=Okt()  \n",
    "\n",
    "token=re.sub(\"(\\.)\",\"\",\"정부가 발표하는 물가상승률과 소비자가 느끼는 물가상승률은 다르다.\")  \n",
    "# 정규 표현식을 통해 온점을 제거하는 정제 작업입니다.  \n",
    "token=okt.morphs(token)  \n",
    "# OKT 형태소 분석기를 통해 토큰화 작업을 수행한 뒤에, token에다가 넣습니다.  \n",
    "\n",
    "word2index={}  \n",
    "bow=[]  \n",
    "for voca in token:  \n",
    "         if voca not in word2index.keys():  \n",
    "             word2index[voca]=len(word2index)  \n",
    "# token을 읽으면서, word2index에 없는 (not in) 단어는 새로 추가하고, 이미 있는 단어는 넘깁니다.   \n",
    "             bow.insert(len(word2index)-1,1)\n",
    "# BoW 전체에 전부 기본값 1을 넣어줍니다. 단어의 개수는 최소 1개 이상이기 때문입니다.  \n",
    "         else:\n",
    "            index=word2index.get(voca)\n",
    "# 재등장하는 단어의 인덱스를 받아옵니다.\n",
    "            bow[index]=bow[index]+1\n",
    "# 재등장한 단어는 해당하는 인덱스의 위치에 1을 더해줍니다. (단어의 개수를 세는 것입니다.)  \n",
    "print(word2index)"
   ]
  },
  {
   "cell_type": "code",
   "execution_count": 3,
   "metadata": {},
   "outputs": [
    {
     "name": "stdout",
     "output_type": "stream",
     "text": [
      "['정부', '가', '발표', '하는', '물가상승률', '과', '소비자', '가', '느끼는', '물가상승률', '은', '다르다']\n",
      "[1, 2, 1, 1, 2, 1, 1, 1, 1, 1]\n"
     ]
    }
   ],
   "source": [
    "print(token)\n",
    "print(bow)"
   ]
  },
  {
   "cell_type": "code",
   "execution_count": 4,
   "metadata": {},
   "outputs": [
    {
     "name": "stdout",
     "output_type": "stream",
     "text": [
      "[[1 1 2 1 2 1]]\n",
      "{'you': 4, 'know': 1, 'want': 3, 'your': 5, 'love': 2, 'because': 0}\n"
     ]
    }
   ],
   "source": [
    "from sklearn.feature_extraction.text import CountVectorizer\n",
    "corpus = ['you know I want your love. because I love you.']\n",
    "vector = CountVectorizer()\n",
    "print(vector.fit_transform(corpus).toarray()) # 코퍼스로부터 각 단어의 빈도 수를 기록한다.\n",
    "print(vector.vocabulary_) # 각 단어의 인덱스가 어떻게 부여되었는지를 보여준다."
   ]
  },
  {
   "cell_type": "code",
   "execution_count": 5,
   "metadata": {},
   "outputs": [
    {
     "name": "stdout",
     "output_type": "stream",
     "text": [
      "[[1 1 1 1 1]]\n",
      "{'family': 1, 'important': 2, 'thing': 4, 'it': 3, 'everything': 0}\n"
     ]
    }
   ],
   "source": [
    "# 직접 불용어 입력하기\n",
    "text=[\"Family is not an important thing. It's everything.\"]\n",
    "vect = CountVectorizer(stop_words=[\"the\", \"a\", \"an\", \"is\", \"not\"])\n",
    "print(vect.fit_transform(text).toarray()) \n",
    "print(vect.vocabulary_)"
   ]
  },
  {
   "cell_type": "code",
   "execution_count": 6,
   "metadata": {},
   "outputs": [],
   "source": [
    "# Tensor의 Embedding 활용하기\n",
    "from tensorflow.keras.preprocessing.text import Tokenizer\n",
    "from tensorflow.keras.preprocessing.sequence import pad_sequences\n",
    "import numpy as np\n",
    "sentences = ['nice great best amazing', 'stop lies', 'pitiful nerd', 'excellent work', 'supreme quality', 'bad', 'highly respectable']\n",
    "y_train = [1, 0, 0, 1, 1, 0, 1]"
   ]
  },
  {
   "cell_type": "code",
   "execution_count": 8,
   "metadata": {},
   "outputs": [
    {
     "name": "stdout",
     "output_type": "stream",
     "text": [
      "{'nice': 1, 'great': 2, 'best': 3, 'amazing': 4, 'stop': 5, 'lies': 6, 'pitiful': 7, 'nerd': 8, 'excellent': 9, 'work': 10, 'supreme': 11, 'quality': 12, 'bad': 13, 'highly': 14, 'respectable': 15}\n"
     ]
    }
   ],
   "source": [
    "t = Tokenizer()\n",
    "t.fit_on_texts(sentences)\n",
    "vocab_size = len(t.word_index) + 1\n",
    "\n",
    "print(t.word_index)"
   ]
  },
  {
   "cell_type": "code",
   "execution_count": 11,
   "metadata": {},
   "outputs": [
    {
     "name": "stdout",
     "output_type": "stream",
     "text": [
      "[[1, 2, 3, 4], [5, 6], [7, 8], [9, 10], [11, 12], [13], [14, 15]]\n",
      "4\n",
      "[[ 1  2  3  4]\n",
      " [ 5  6  0  0]\n",
      " [ 7  8  0  0]\n",
      " [ 9 10  0  0]\n",
      " [11 12  0  0]\n",
      " [13  0  0  0]\n",
      " [14 15  0  0]]\n"
     ]
    }
   ],
   "source": [
    "X_encoded = t.texts_to_sequences(sentences)\n",
    "print(X_encoded)\n",
    "\n",
    "max_len=max(len(l) for l in X_encoded)\n",
    "print(max_len)\n",
    "\n",
    "X_train=pad_sequences(X_encoded, maxlen=max_len, padding='post')\n",
    "y_train=np.array(y_train)\n",
    "print(X_train)"
   ]
  },
  {
   "cell_type": "code",
   "execution_count": 12,
   "metadata": {},
   "outputs": [],
   "source": [
    "from tensorflow.keras.models import Sequential\n",
    "from tensorflow.keras.layers import Dense, Embedding, Flatten\n",
    "\n",
    "model = Sequential()\n",
    "model.add(Embedding(vocab_size, 4, input_length=max_len)) # 모든 임베딩 벡터는 4차원.\n",
    "model.add(Flatten()) # Dense의 입력으로 넣기위함.\n",
    "model.add(Dense(1, activation='sigmoid'))"
   ]
  },
  {
   "cell_type": "code",
   "execution_count": 13,
   "metadata": {},
   "outputs": [
    {
     "name": "stdout",
     "output_type": "stream",
     "text": [
      "Train on 7 samples\n",
      "Epoch 1/100\n",
      "7/7 - 5s - loss: 0.6879 - acc: 0.7143\n",
      "Epoch 2/100\n",
      "7/7 - 0s - loss: 0.6866 - acc: 0.7143\n",
      "Epoch 3/100\n",
      "7/7 - 0s - loss: 0.6852 - acc: 0.8571\n",
      "Epoch 4/100\n",
      "7/7 - 0s - loss: 0.6839 - acc: 0.8571\n",
      "Epoch 5/100\n",
      "7/7 - 0s - loss: 0.6825 - acc: 0.8571\n",
      "Epoch 6/100\n",
      "7/7 - 0s - loss: 0.6812 - acc: 0.8571\n",
      "Epoch 7/100\n",
      "7/7 - 0s - loss: 0.6798 - acc: 0.8571\n",
      "Epoch 8/100\n",
      "7/7 - 0s - loss: 0.6785 - acc: 0.8571\n",
      "Epoch 9/100\n",
      "7/7 - 0s - loss: 0.6771 - acc: 0.8571\n",
      "Epoch 10/100\n",
      "7/7 - 0s - loss: 0.6758 - acc: 0.8571\n",
      "Epoch 11/100\n",
      "7/7 - 0s - loss: 0.6744 - acc: 0.8571\n",
      "Epoch 12/100\n",
      "7/7 - 0s - loss: 0.6730 - acc: 0.8571\n",
      "Epoch 13/100\n",
      "7/7 - 0s - loss: 0.6717 - acc: 0.8571\n",
      "Epoch 14/100\n",
      "7/7 - 0s - loss: 0.6703 - acc: 1.0000\n",
      "Epoch 15/100\n",
      "7/7 - 0s - loss: 0.6689 - acc: 1.0000\n",
      "Epoch 16/100\n",
      "7/7 - 0s - loss: 0.6676 - acc: 1.0000\n",
      "Epoch 17/100\n",
      "7/7 - 0s - loss: 0.6662 - acc: 1.0000\n",
      "Epoch 18/100\n",
      "7/7 - 0s - loss: 0.6648 - acc: 1.0000\n",
      "Epoch 19/100\n",
      "7/7 - 0s - loss: 0.6634 - acc: 1.0000\n",
      "Epoch 20/100\n",
      "7/7 - 0s - loss: 0.6620 - acc: 1.0000\n",
      "Epoch 21/100\n",
      "7/7 - 0s - loss: 0.6606 - acc: 1.0000\n",
      "Epoch 22/100\n",
      "7/7 - 0s - loss: 0.6592 - acc: 1.0000\n",
      "Epoch 23/100\n",
      "7/7 - 0s - loss: 0.6578 - acc: 1.0000\n",
      "Epoch 24/100\n",
      "7/7 - 0s - loss: 0.6564 - acc: 1.0000\n",
      "Epoch 25/100\n",
      "7/7 - 0s - loss: 0.6550 - acc: 1.0000\n",
      "Epoch 26/100\n",
      "7/7 - 0s - loss: 0.6535 - acc: 1.0000\n",
      "Epoch 27/100\n",
      "7/7 - 0s - loss: 0.6521 - acc: 1.0000\n",
      "Epoch 28/100\n",
      "7/7 - 0s - loss: 0.6507 - acc: 1.0000\n",
      "Epoch 29/100\n",
      "7/7 - 0s - loss: 0.6492 - acc: 1.0000\n",
      "Epoch 30/100\n",
      "7/7 - 0s - loss: 0.6477 - acc: 1.0000\n",
      "Epoch 31/100\n",
      "7/7 - 0s - loss: 0.6463 - acc: 1.0000\n",
      "Epoch 32/100\n",
      "7/7 - 0s - loss: 0.6448 - acc: 1.0000\n",
      "Epoch 33/100\n",
      "7/7 - 0s - loss: 0.6433 - acc: 1.0000\n",
      "Epoch 34/100\n",
      "7/7 - 0s - loss: 0.6418 - acc: 1.0000\n",
      "Epoch 35/100\n",
      "7/7 - 0s - loss: 0.6403 - acc: 1.0000\n",
      "Epoch 36/100\n",
      "7/7 - 0s - loss: 0.6388 - acc: 1.0000\n",
      "Epoch 37/100\n",
      "7/7 - 0s - loss: 0.6372 - acc: 1.0000\n",
      "Epoch 38/100\n",
      "7/7 - 0s - loss: 0.6357 - acc: 1.0000\n",
      "Epoch 39/100\n",
      "7/7 - 0s - loss: 0.6342 - acc: 1.0000\n",
      "Epoch 40/100\n",
      "7/7 - 0s - loss: 0.6326 - acc: 1.0000\n",
      "Epoch 41/100\n",
      "7/7 - 0s - loss: 0.6310 - acc: 1.0000\n",
      "Epoch 42/100\n",
      "7/7 - 0s - loss: 0.6295 - acc: 1.0000\n",
      "Epoch 43/100\n",
      "7/7 - 0s - loss: 0.6279 - acc: 1.0000\n",
      "Epoch 44/100\n",
      "7/7 - 0s - loss: 0.6263 - acc: 1.0000\n",
      "Epoch 45/100\n",
      "7/7 - 0s - loss: 0.6247 - acc: 1.0000\n",
      "Epoch 46/100\n",
      "7/7 - 0s - loss: 0.6231 - acc: 1.0000\n",
      "Epoch 47/100\n",
      "7/7 - 0s - loss: 0.6214 - acc: 1.0000\n",
      "Epoch 48/100\n",
      "7/7 - 0s - loss: 0.6198 - acc: 1.0000\n",
      "Epoch 49/100\n",
      "7/7 - 0s - loss: 0.6182 - acc: 1.0000\n",
      "Epoch 50/100\n",
      "7/7 - 0s - loss: 0.6165 - acc: 1.0000\n",
      "Epoch 51/100\n",
      "7/7 - 0s - loss: 0.6149 - acc: 1.0000\n",
      "Epoch 52/100\n",
      "7/7 - 0s - loss: 0.6132 - acc: 1.0000\n",
      "Epoch 53/100\n",
      "7/7 - 0s - loss: 0.6115 - acc: 1.0000\n",
      "Epoch 54/100\n",
      "7/7 - 0s - loss: 0.6098 - acc: 1.0000\n",
      "Epoch 55/100\n",
      "7/7 - 0s - loss: 0.6081 - acc: 1.0000\n",
      "Epoch 56/100\n",
      "7/7 - 0s - loss: 0.6064 - acc: 1.0000\n",
      "Epoch 57/100\n",
      "7/7 - 0s - loss: 0.6047 - acc: 1.0000\n",
      "Epoch 58/100\n",
      "7/7 - 0s - loss: 0.6030 - acc: 1.0000\n",
      "Epoch 59/100\n",
      "7/7 - 0s - loss: 0.6012 - acc: 1.0000\n",
      "Epoch 60/100\n",
      "7/7 - 0s - loss: 0.5995 - acc: 1.0000\n",
      "Epoch 61/100\n",
      "7/7 - 0s - loss: 0.5977 - acc: 1.0000\n",
      "Epoch 62/100\n",
      "7/7 - 0s - loss: 0.5960 - acc: 1.0000\n",
      "Epoch 63/100\n",
      "7/7 - 0s - loss: 0.5942 - acc: 1.0000\n",
      "Epoch 64/100\n",
      "7/7 - 0s - loss: 0.5924 - acc: 1.0000\n",
      "Epoch 65/100\n",
      "7/7 - 0s - loss: 0.5906 - acc: 1.0000\n",
      "Epoch 66/100\n",
      "7/7 - 0s - loss: 0.5888 - acc: 1.0000\n",
      "Epoch 67/100\n",
      "7/7 - 0s - loss: 0.5870 - acc: 1.0000\n",
      "Epoch 68/100\n",
      "7/7 - 0s - loss: 0.5852 - acc: 1.0000\n",
      "Epoch 69/100\n",
      "7/7 - 0s - loss: 0.5834 - acc: 1.0000\n",
      "Epoch 70/100\n",
      "7/7 - 0s - loss: 0.5816 - acc: 1.0000\n",
      "Epoch 71/100\n",
      "7/7 - 0s - loss: 0.5797 - acc: 1.0000\n",
      "Epoch 72/100\n",
      "7/7 - 0s - loss: 0.5779 - acc: 1.0000\n",
      "Epoch 73/100\n",
      "7/7 - 0s - loss: 0.5760 - acc: 1.0000\n",
      "Epoch 74/100\n",
      "7/7 - 0s - loss: 0.5742 - acc: 1.0000\n",
      "Epoch 75/100\n",
      "7/7 - 0s - loss: 0.5723 - acc: 1.0000\n",
      "Epoch 76/100\n",
      "7/7 - 0s - loss: 0.5704 - acc: 1.0000\n",
      "Epoch 77/100\n",
      "7/7 - 0s - loss: 0.5686 - acc: 1.0000\n",
      "Epoch 78/100\n",
      "7/7 - 0s - loss: 0.5667 - acc: 1.0000\n",
      "Epoch 79/100\n",
      "7/7 - 0s - loss: 0.5648 - acc: 1.0000\n",
      "Epoch 80/100\n",
      "7/7 - 0s - loss: 0.5629 - acc: 1.0000\n",
      "Epoch 81/100\n",
      "7/7 - 0s - loss: 0.5610 - acc: 1.0000\n",
      "Epoch 82/100\n",
      "7/7 - 0s - loss: 0.5590 - acc: 1.0000\n",
      "Epoch 83/100\n",
      "7/7 - 0s - loss: 0.5571 - acc: 1.0000\n",
      "Epoch 84/100\n",
      "7/7 - 0s - loss: 0.5552 - acc: 1.0000\n",
      "Epoch 85/100\n",
      "7/7 - 0s - loss: 0.5533 - acc: 1.0000\n",
      "Epoch 86/100\n",
      "7/7 - 0s - loss: 0.5513 - acc: 1.0000\n",
      "Epoch 87/100\n",
      "7/7 - 0s - loss: 0.5494 - acc: 1.0000\n",
      "Epoch 88/100\n",
      "7/7 - 0s - loss: 0.5474 - acc: 1.0000\n",
      "Epoch 89/100\n",
      "7/7 - 0s - loss: 0.5455 - acc: 1.0000\n",
      "Epoch 90/100\n",
      "7/7 - 0s - loss: 0.5435 - acc: 1.0000\n",
      "Epoch 91/100\n",
      "7/7 - 0s - loss: 0.5415 - acc: 1.0000\n",
      "Epoch 92/100\n",
      "7/7 - 0s - loss: 0.5396 - acc: 1.0000\n",
      "Epoch 93/100\n",
      "7/7 - 0s - loss: 0.5376 - acc: 1.0000\n",
      "Epoch 94/100\n",
      "7/7 - 0s - loss: 0.5356 - acc: 1.0000\n",
      "Epoch 95/100\n",
      "7/7 - 0s - loss: 0.5336 - acc: 1.0000\n",
      "Epoch 96/100\n",
      "7/7 - 0s - loss: 0.5316 - acc: 1.0000\n",
      "Epoch 97/100\n",
      "7/7 - 0s - loss: 0.5296 - acc: 1.0000\n",
      "Epoch 98/100\n",
      "7/7 - 0s - loss: 0.5276 - acc: 1.0000\n",
      "Epoch 99/100\n",
      "7/7 - 0s - loss: 0.5256 - acc: 1.0000\n",
      "Epoch 100/100\n",
      "7/7 - 0s - loss: 0.5236 - acc: 1.0000\n"
     ]
    },
    {
     "data": {
      "text/plain": [
       "<tensorflow.python.keras.callbacks.History at 0x197e7bbba8>"
      ]
     },
     "execution_count": 13,
     "metadata": {},
     "output_type": "execute_result"
    }
   ],
   "source": [
    "model.compile(optimizer='adam', loss='binary_crossentropy', metrics=['acc'])\n",
    "model.fit(X_train, y_train, epochs=100, verbose=2)"
   ]
  },
  {
   "cell_type": "code",
   "execution_count": 16,
   "metadata": {},
   "outputs": [
    {
     "name": "stdout",
     "output_type": "stream",
     "text": [
      "['the', '-0.038194', '-0.24487', '0.72812', '-0.39961', '0.083172', '0.043953', '-0.39141', '0.3344', '-0.57545', '0.087459', '0.28787', '-0.06731', '0.30906', '-0.26384', '-0.13231', '-0.20757', '0.33395', '-0.33848', '-0.31743', '-0.48336', '0.1464', '-0.37304', '0.34577', '0.052041', '0.44946', '-0.46971', '0.02628', '-0.54155', '-0.15518', '-0.14107', '-0.039722', '0.28277', '0.14393', '0.23464', '-0.31021', '0.086173', '0.20397', '0.52624', '0.17164', '-0.082378', '-0.71787', '-0.41531', '0.20335', '-0.12763', '0.41367', '0.55187', '0.57908', '-0.33477', '-0.36559', '-0.54857', '-0.062892', '0.26584', '0.30205', '0.99775', '-0.80481', '-3.0243', '0.01254', '-0.36942', '2.2167', '0.72201', '-0.24978', '0.92136', '0.034514', '0.46745', '1.1079', '-0.19358', '-0.074575', '0.23353', '-0.052062', '-0.22044', '0.057162', '-0.15806', '-0.30798', '-0.41625', '0.37972', '0.15006', '-0.53212', '-0.2055', '-1.2526', '0.071624', '0.70565', '0.49744', '-0.42063', '0.26148', '-1.538', '-0.30223', '-0.073438', '-0.28312', '0.37104', '-0.25217', '0.016215', '-0.017099', '-0.38984', '0.87424', '-0.72569', '-0.51058', '-0.52028', '-0.1459', '0.8278', '0.27062']\n",
      "the\n",
      "[',', '-0.10767', '0.11053', '0.59812', '-0.54361', '0.67396', '0.10663', '0.038867', '0.35481', '0.06351', '-0.094189', '0.15786', '-0.81665', '0.14172', '0.21939', '0.58505', '-0.52158', '0.22783', '-0.16642', '-0.68228', '0.3587', '0.42568', '0.19021', '0.91963', '0.57555', '0.46185', '0.42363', '-0.095399', '-0.42749', '-0.16567', '-0.056842', '-0.29595', '0.26037', '-0.26606', '-0.070404', '-0.27662', '0.15821', '0.69825', '0.43081', '0.27952', '-0.45437', '-0.33801', '-0.58184', '0.22364', '-0.5778', '-0.26862', '-0.20425', '0.56394', '-0.58524', '-0.14365', '-0.64218', '0.0054697', '-0.35248', '0.16162', '1.1796', '-0.47674', '-2.7553', '-0.1321', '-0.047729', '1.0655', '1.1034', '-0.2208', '0.18669', '0.13177', '0.15117', '0.7131', '-0.35215', '0.91348', '0.61783', '0.70992', '0.23955', '-0.14571', '-0.37859', '-0.045959', '-0.47368', '0.2385', '0.20536', '-0.18996', '0.32507', '-1.1112', '-0.36341', '0.98679', '-0.084776', '-0.54008', '0.11726', '-1.0194', '-0.24424', '0.12771', '0.013884', '0.080374', '-0.35414', '0.34951', '-0.7226', '0.37549', '0.4441', '-0.99059', '0.61214', '-0.35111', '-0.83155', '0.45293', '0.082577']\n",
      ",\n"
     ]
    }
   ],
   "source": [
    "# glove 활용 embedding\n",
    "n=0\n",
    "f = open('glove.6B.100d.txt', encoding=\"utf8\")\n",
    "\n",
    "for line in f:\n",
    "    word_vector = line.split() # 각 줄을 읽어와서 word_vector에 저장.\n",
    "    print(word_vector) # 각 줄을 출력\n",
    "    word = word_vector[0] # word_vector에서 첫번째 값만 저장\n",
    "    print(word) # word_vector의 첫번째 값만 출력\n",
    "    n=n+1\n",
    "    if n==2:\n",
    "        break\n",
    "f.close()"
   ]
  },
  {
   "cell_type": "code",
   "execution_count": 17,
   "metadata": {},
   "outputs": [
    {
     "name": "stdout",
     "output_type": "stream",
     "text": [
      "400000개의 Embedding vector가 있습니다.\n"
     ]
    }
   ],
   "source": [
    "import numpy as np\n",
    "embedding_dict = dict()\n",
    "f = open('glove.6B.100d.txt', encoding=\"utf8\")\n",
    "\n",
    "for line in f:\n",
    "    word_vector = line.split()\n",
    "    word = word_vector[0]\n",
    "    word_vector_arr = np.asarray(word_vector[1:], dtype='float32') # 100개의 값을 가지는 array로 변환\n",
    "    embedding_dict[word] = word_vector_arr\n",
    "f.close()\n",
    "print('%s개의 Embedding vector가 있습니다.' % len(embedding_dict))"
   ]
  },
  {
   "cell_type": "code",
   "execution_count": 23,
   "metadata": {},
   "outputs": [
    {
     "name": "stdout",
     "output_type": "stream",
     "text": [
      "[-0.18554    0.047152   0.34867   -0.23114   -0.26083    0.63108\n",
      "  0.55687    0.61622   -0.15437   -0.38381    0.12445   -0.26999\n",
      " -0.29196    0.1125     0.36035    0.70689   -0.33891   -0.2695\n",
      "  0.17481    0.97048    0.23014    0.63168   -0.24543   -0.7289\n",
      "  0.32517   -0.21118   -0.80354   -0.59863   -0.10182   -0.87826\n",
      " -0.80162    0.20999    0.64598   -0.38239    0.64512    0.73046\n",
      " -0.19881    0.35717    0.19135   -0.43686    0.75956   -0.66431\n",
      "  0.34509   -1.0383    -0.50491    0.19976   -0.041208   0.16952\n",
      "  0.17821   -0.84249    0.21992   -0.16474   -0.24669    0.34117\n",
      " -0.59713   -2.3434     0.31484    0.69668    0.53368   -0.62857\n",
      " -0.197      0.52241   -1.5903    -0.16475    0.62553   -0.094116\n",
      "  0.0070705  0.22617   -0.45698   -0.53268    0.11573   -0.19052\n",
      "  0.28086   -0.5591     0.35291    0.42552    0.47334   -0.41046\n",
      "  0.47275    0.22753   -0.097073  -0.11809   -0.25613   -0.10689\n",
      " -1.2788    -0.085504   0.20205    0.23338   -0.52939   -0.49492\n",
      "  0.15289   -0.31324    0.41248   -0.10425   -0.65246    0.48348\n",
      " -0.54844    0.095473  -0.1142     0.32743  ]\n",
      "100\n"
     ]
    }
   ],
   "source": [
    "print(embedding_dict['nice'])\n",
    "print(len(embedding_dict['respectable']))"
   ]
  },
  {
   "cell_type": "code",
   "execution_count": 19,
   "metadata": {},
   "outputs": [
    {
     "data": {
      "text/plain": [
       "(16, 100)"
      ]
     },
     "execution_count": 19,
     "metadata": {},
     "output_type": "execute_result"
    }
   ],
   "source": [
    "embedding_matrix = np.zeros((vocab_size, 100))\n",
    "# 단어 집합 크기의 행과 100개의 열을 가지는 행렬 생성. 값은 전부 0으로 채워진다.\n",
    "np.shape(embedding_matrix)"
   ]
  },
  {
   "cell_type": "code",
   "execution_count": 20,
   "metadata": {},
   "outputs": [
    {
     "name": "stdout",
     "output_type": "stream",
     "text": [
      "dict_items([('nice', 1), ('great', 2), ('best', 3), ('amazing', 4), ('stop', 5), ('lies', 6), ('pitiful', 7), ('nerd', 8), ('excellent', 9), ('work', 10), ('supreme', 11), ('quality', 12), ('bad', 13), ('highly', 14), ('respectable', 15)])\n"
     ]
    }
   ],
   "source": [
    "print(t.word_index.items())"
   ]
  },
  {
   "cell_type": "code",
   "execution_count": 24,
   "metadata": {},
   "outputs": [],
   "source": [
    "for word, i in t.word_index.items(): # 훈련 데이터의 단어 집합에서 단어를 1개씩 꺼내온다\n",
    "    temp = embedding_dict.get(word) # 단어(key) 해당되는 임베딩 벡터의 100개의 값(value)를 임시 변수에 저장\n",
    "    if temp is not None:\n",
    "        embedding_matrix[i] = temp # 임수 변수의 값을 단어와 맵핑되는 인덱스의 행에 삽입"
   ]
  },
  {
   "cell_type": "code",
   "execution_count": 25,
   "metadata": {},
   "outputs": [],
   "source": [
    "from tensorflow.keras.models import Sequential\n",
    "from tensorflow.keras.layers import Dense, Embedding, Flatten\n",
    "\n",
    "model = Sequential()\n",
    "e = Embedding(vocab_size, 100, weights=[embedding_matrix], input_length=max_len, trainable=False)"
   ]
  },
  {
   "cell_type": "code",
   "execution_count": 26,
   "metadata": {},
   "outputs": [
    {
     "name": "stdout",
     "output_type": "stream",
     "text": [
      "Train on 7 samples\n",
      "Epoch 1/100\n",
      "7/7 - 2s - loss: 0.6841 - acc: 0.5714\n",
      "Epoch 2/100\n",
      "7/7 - 0s - loss: 0.6670 - acc: 0.7143\n",
      "Epoch 3/100\n",
      "7/7 - 0s - loss: 0.6504 - acc: 0.7143\n",
      "Epoch 4/100\n",
      "7/7 - 0s - loss: 0.6342 - acc: 0.7143\n",
      "Epoch 5/100\n",
      "7/7 - 0s - loss: 0.6185 - acc: 0.7143\n",
      "Epoch 6/100\n",
      "7/7 - 0s - loss: 0.6033 - acc: 0.7143\n",
      "Epoch 7/100\n",
      "7/7 - 0s - loss: 0.5885 - acc: 0.7143\n",
      "Epoch 8/100\n",
      "7/7 - 0s - loss: 0.5741 - acc: 0.7143\n",
      "Epoch 9/100\n",
      "7/7 - 0s - loss: 0.5601 - acc: 0.7143\n",
      "Epoch 10/100\n",
      "7/7 - 0s - loss: 0.5465 - acc: 0.7143\n",
      "Epoch 11/100\n",
      "7/7 - 0s - loss: 0.5333 - acc: 0.7143\n",
      "Epoch 12/100\n",
      "7/7 - 0s - loss: 0.5205 - acc: 0.7143\n",
      "Epoch 13/100\n",
      "7/7 - 0s - loss: 0.5080 - acc: 0.7143\n",
      "Epoch 14/100\n",
      "7/7 - 0s - loss: 0.4959 - acc: 0.7143\n",
      "Epoch 15/100\n",
      "7/7 - 0s - loss: 0.4841 - acc: 0.7143\n",
      "Epoch 16/100\n",
      "7/7 - 0s - loss: 0.4726 - acc: 0.7143\n",
      "Epoch 17/100\n",
      "7/7 - 0s - loss: 0.4614 - acc: 0.7143\n",
      "Epoch 18/100\n",
      "7/7 - 0s - loss: 0.4506 - acc: 0.7143\n",
      "Epoch 19/100\n",
      "7/7 - 0s - loss: 0.4400 - acc: 0.7143\n",
      "Epoch 20/100\n",
      "7/7 - 0s - loss: 0.4297 - acc: 0.8571\n",
      "Epoch 21/100\n",
      "7/7 - 0s - loss: 0.4197 - acc: 0.8571\n",
      "Epoch 22/100\n",
      "7/7 - 0s - loss: 0.4100 - acc: 0.8571\n",
      "Epoch 23/100\n",
      "7/7 - 0s - loss: 0.4005 - acc: 0.8571\n",
      "Epoch 24/100\n",
      "7/7 - 0s - loss: 0.3913 - acc: 0.8571\n",
      "Epoch 25/100\n",
      "7/7 - 0s - loss: 0.3823 - acc: 0.8571\n",
      "Epoch 26/100\n",
      "7/7 - 0s - loss: 0.3736 - acc: 0.8571\n",
      "Epoch 27/100\n",
      "7/7 - 0s - loss: 0.3651 - acc: 0.8571\n",
      "Epoch 28/100\n",
      "7/7 - 0s - loss: 0.3568 - acc: 0.8571\n",
      "Epoch 29/100\n",
      "7/7 - 0s - loss: 0.3488 - acc: 1.0000\n",
      "Epoch 30/100\n",
      "7/7 - 0s - loss: 0.3410 - acc: 1.0000\n",
      "Epoch 31/100\n",
      "7/7 - 0s - loss: 0.3334 - acc: 1.0000\n",
      "Epoch 32/100\n",
      "7/7 - 0s - loss: 0.3260 - acc: 1.0000\n",
      "Epoch 33/100\n",
      "7/7 - 0s - loss: 0.3188 - acc: 1.0000\n",
      "Epoch 34/100\n",
      "7/7 - 0s - loss: 0.3119 - acc: 1.0000\n",
      "Epoch 35/100\n",
      "7/7 - 0s - loss: 0.3051 - acc: 1.0000\n",
      "Epoch 36/100\n",
      "7/7 - 0s - loss: 0.2985 - acc: 1.0000\n",
      "Epoch 37/100\n",
      "7/7 - 0s - loss: 0.2921 - acc: 1.0000\n",
      "Epoch 38/100\n",
      "7/7 - 0s - loss: 0.2859 - acc: 1.0000\n",
      "Epoch 39/100\n",
      "7/7 - 0s - loss: 0.2798 - acc: 1.0000\n",
      "Epoch 40/100\n",
      "7/7 - 0s - loss: 0.2739 - acc: 1.0000\n",
      "Epoch 41/100\n",
      "7/7 - 0s - loss: 0.2682 - acc: 1.0000\n",
      "Epoch 42/100\n",
      "7/7 - 0s - loss: 0.2626 - acc: 1.0000\n",
      "Epoch 43/100\n",
      "7/7 - 0s - loss: 0.2572 - acc: 1.0000\n",
      "Epoch 44/100\n",
      "7/7 - 0s - loss: 0.2520 - acc: 1.0000\n",
      "Epoch 45/100\n",
      "7/7 - 0s - loss: 0.2469 - acc: 1.0000\n",
      "Epoch 46/100\n",
      "7/7 - 0s - loss: 0.2419 - acc: 1.0000\n",
      "Epoch 47/100\n",
      "7/7 - 0s - loss: 0.2371 - acc: 1.0000\n",
      "Epoch 48/100\n",
      "7/7 - 0s - loss: 0.2324 - acc: 1.0000\n",
      "Epoch 49/100\n",
      "7/7 - 0s - loss: 0.2279 - acc: 1.0000\n",
      "Epoch 50/100\n",
      "7/7 - 0s - loss: 0.2234 - acc: 1.0000\n",
      "Epoch 51/100\n",
      "7/7 - 0s - loss: 0.2191 - acc: 1.0000\n",
      "Epoch 52/100\n",
      "7/7 - 0s - loss: 0.2149 - acc: 1.0000\n",
      "Epoch 53/100\n",
      "7/7 - 0s - loss: 0.2108 - acc: 1.0000\n",
      "Epoch 54/100\n",
      "7/7 - 0s - loss: 0.2069 - acc: 1.0000\n",
      "Epoch 55/100\n",
      "7/7 - 0s - loss: 0.2030 - acc: 1.0000\n",
      "Epoch 56/100\n",
      "7/7 - 0s - loss: 0.1993 - acc: 1.0000\n",
      "Epoch 57/100\n",
      "7/7 - 0s - loss: 0.1956 - acc: 1.0000\n",
      "Epoch 58/100\n",
      "7/7 - 0s - loss: 0.1920 - acc: 1.0000\n",
      "Epoch 59/100\n",
      "7/7 - 0s - loss: 0.1886 - acc: 1.0000\n",
      "Epoch 60/100\n",
      "7/7 - 0s - loss: 0.1852 - acc: 1.0000\n",
      "Epoch 61/100\n",
      "7/7 - 0s - loss: 0.1819 - acc: 1.0000\n",
      "Epoch 62/100\n",
      "7/7 - 0s - loss: 0.1787 - acc: 1.0000\n",
      "Epoch 63/100\n",
      "7/7 - 0s - loss: 0.1756 - acc: 1.0000\n",
      "Epoch 64/100\n",
      "7/7 - 0s - loss: 0.1726 - acc: 1.0000\n",
      "Epoch 65/100\n",
      "7/7 - 0s - loss: 0.1696 - acc: 1.0000\n",
      "Epoch 66/100\n",
      "7/7 - 0s - loss: 0.1667 - acc: 1.0000\n",
      "Epoch 67/100\n",
      "7/7 - 0s - loss: 0.1639 - acc: 1.0000\n",
      "Epoch 68/100\n",
      "7/7 - 0s - loss: 0.1612 - acc: 1.0000\n",
      "Epoch 69/100\n",
      "7/7 - 0s - loss: 0.1585 - acc: 1.0000\n",
      "Epoch 70/100\n",
      "7/7 - 0s - loss: 0.1559 - acc: 1.0000\n",
      "Epoch 71/100\n",
      "7/7 - 0s - loss: 0.1534 - acc: 1.0000\n",
      "Epoch 72/100\n",
      "7/7 - 0s - loss: 0.1509 - acc: 1.0000\n",
      "Epoch 73/100\n",
      "7/7 - 0s - loss: 0.1485 - acc: 1.0000\n",
      "Epoch 74/100\n",
      "7/7 - 0s - loss: 0.1462 - acc: 1.0000\n",
      "Epoch 75/100\n",
      "7/7 - 0s - loss: 0.1439 - acc: 1.0000\n",
      "Epoch 76/100\n",
      "7/7 - 0s - loss: 0.1416 - acc: 1.0000\n",
      "Epoch 77/100\n",
      "7/7 - 0s - loss: 0.1395 - acc: 1.0000\n",
      "Epoch 78/100\n",
      "7/7 - 0s - loss: 0.1373 - acc: 1.0000\n",
      "Epoch 79/100\n",
      "7/7 - 0s - loss: 0.1352 - acc: 1.0000\n",
      "Epoch 80/100\n",
      "7/7 - 0s - loss: 0.1332 - acc: 1.0000\n",
      "Epoch 81/100\n",
      "7/7 - 0s - loss: 0.1312 - acc: 1.0000\n",
      "Epoch 82/100\n",
      "7/7 - 0s - loss: 0.1293 - acc: 1.0000\n",
      "Epoch 83/100\n",
      "7/7 - 0s - loss: 0.1274 - acc: 1.0000\n",
      "Epoch 84/100\n",
      "7/7 - 0s - loss: 0.1255 - acc: 1.0000\n",
      "Epoch 85/100\n",
      "7/7 - 0s - loss: 0.1237 - acc: 1.0000\n",
      "Epoch 86/100\n",
      "7/7 - 0s - loss: 0.1220 - acc: 1.0000\n",
      "Epoch 87/100\n",
      "7/7 - 0s - loss: 0.1202 - acc: 1.0000\n",
      "Epoch 88/100\n",
      "7/7 - 0s - loss: 0.1185 - acc: 1.0000\n",
      "Epoch 89/100\n",
      "7/7 - 0s - loss: 0.1169 - acc: 1.0000\n",
      "Epoch 90/100\n",
      "7/7 - 0s - loss: 0.1153 - acc: 1.0000\n",
      "Epoch 91/100\n",
      "7/7 - 0s - loss: 0.1137 - acc: 1.0000\n",
      "Epoch 92/100\n",
      "7/7 - 0s - loss: 0.1121 - acc: 1.0000\n",
      "Epoch 93/100\n",
      "7/7 - 0s - loss: 0.1106 - acc: 1.0000\n",
      "Epoch 94/100\n",
      "7/7 - 0s - loss: 0.1091 - acc: 1.0000\n",
      "Epoch 95/100\n",
      "7/7 - 0s - loss: 0.1077 - acc: 1.0000\n",
      "Epoch 96/100\n",
      "7/7 - 0s - loss: 0.1063 - acc: 1.0000\n",
      "Epoch 97/100\n",
      "7/7 - 0s - loss: 0.1049 - acc: 1.0000\n",
      "Epoch 98/100\n",
      "7/7 - 0s - loss: 0.1035 - acc: 1.0000\n",
      "Epoch 99/100\n",
      "7/7 - 0s - loss: 0.1022 - acc: 1.0000\n",
      "Epoch 100/100\n",
      "7/7 - 0s - loss: 0.1009 - acc: 1.0000\n"
     ]
    },
    {
     "data": {
      "text/plain": [
       "<tensorflow.python.keras.callbacks.History at 0x1906634940>"
      ]
     },
     "execution_count": 26,
     "metadata": {},
     "output_type": "execute_result"
    }
   ],
   "source": [
    "model.add(e)\n",
    "model.add(Flatten())\n",
    "model.add(Dense(1, activation='sigmoid'))\n",
    "model.compile(optimizer='adam', loss='binary_crossentropy', metrics=['acc'])\n",
    "model.fit(X_train, y_train, epochs=100, verbose=2)"
   ]
  },
  {
   "cell_type": "code",
   "execution_count": null,
   "metadata": {},
   "outputs": [],
   "source": []
  }
 ],
 "metadata": {
  "kernelspec": {
   "display_name": "Python 3",
   "language": "python",
   "name": "python3"
  },
  "language_info": {
   "codemirror_mode": {
    "name": "ipython",
    "version": 3
   },
   "file_extension": ".py",
   "mimetype": "text/x-python",
   "name": "python",
   "nbconvert_exporter": "python",
   "pygments_lexer": "ipython3",
   "version": "3.6.10"
  }
 },
 "nbformat": 4,
 "nbformat_minor": 4
}
