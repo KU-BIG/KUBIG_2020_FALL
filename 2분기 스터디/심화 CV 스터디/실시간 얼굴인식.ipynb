{
 "cells": [
  {
   "cell_type": "code",
   "execution_count": 1,
   "metadata": {},
   "outputs": [
    {
     "name": "stdout",
     "output_type": "stream",
     "text": [
      "Requirement already satisfied: numpy==1.19.3 in c:\\users\\user\\anaconda3\\envs\\notebook\\lib\\site-packages (1.19.3)\n",
      "Requirement already satisfied: opencv-python in c:\\users\\user\\anaconda3\\envs\\notebook\\lib\\site-packages (4.5.1.48)\n",
      "Requirement already satisfied: numpy>=1.19.3 in c:\\users\\user\\anaconda3\\envs\\notebook\\lib\\site-packages (from opencv-python) (1.19.3)\n"
     ]
    }
   ],
   "source": [
    "!pip install numpy==1.19.3\n",
    "import numpy as np\n",
    "!pip install opencv-python\n",
    "import cv2\n",
    "\n",
    "xml = 'C:/Users/USER/Desktop/Data Science/OpenCV/opencv-master/opencv-master/data/haarcascades/haarcascade_frontalface_default.xml'\n",
    "face_cascade = cv2.CascadeClassifier(xml)"
   ]
  },
  {
   "cell_type": "code",
   "execution_count": 2,
   "metadata": {},
   "outputs": [
    {
     "data": {
      "text/plain": [
       "'readNetFromTorch()\\nNet cv::dnn::readNetFromTorch\\t(\\tconst String & \\tmodel,\\nbool \\tisBinary = true,\\nbool \\tevaluate = true \\n)\\t\\t\\nPython:\\nretval\\t=\\tcv.dnn.readNetFromTorch(\\tmodel[, isBinary[, evaluate]]\\t)\\n'"
      ]
     },
     "execution_count": 2,
     "metadata": {},
     "output_type": "execute_result"
    }
   ],
   "source": [
    "cv2.__version__\n",
    "\"\"\"readNetFromTorch()\n",
    "Net cv::dnn::readNetFromTorch\t(\tconst String & \tmodel,\n",
    "bool \tisBinary = true,\n",
    "bool \tevaluate = true \n",
    ")\t\t\n",
    "Python:\n",
    "retval\t=\tcv.dnn.readNetFromTorch(\tmodel[, isBinary[, evaluate]]\t)\n",
    "\"\"\""
   ]
  },
  {
   "cell_type": "code",
   "execution_count": 9,
   "metadata": {},
   "outputs": [
    {
     "name": "stdout",
     "output_type": "stream",
     "text": [
      "width 640, height 480, fps 30.0\n"
     ]
    }
   ],
   "source": [
    "cap = cv2.VideoCapture(0) # 노트북 웹캠을 카메라로 사용\n",
    "\n",
    "# 정수 형태로 변환하기 위해 round\n",
    "w = round(cap.get(cv2.CAP_PROP_FRAME_WIDTH))\n",
    "h = round(cap.get(cv2.CAP_PROP_FRAME_HEIGHT))\n",
    "fps = cap.get(cv2.CAP_PROP_FPS) # 카메라에 따라 값이 정상적, 비정상적\n",
    "print('width {0}, height {1}, fps {2}'.format(w, h, fps))\n",
    "\n",
    "fourcc = cv2.VideoWriter_fourcc(*'DIVX')\n",
    "out = cv2.VideoWriter('Face Detection.avi', fourcc, fps, (w, h))\n",
    "delay = round(1000/fps)\n",
    "\n",
    "# 제대로 열렸는지 확인\n",
    "if not out.isOpened():\n",
    "    print('File open failed!')\n",
    "    cap.release()\n",
    "    sys.exit()\n",
    "\n",
    "while(True):\n",
    "    ret, frame = cap.read()\n",
    "    frame = cv2.flip(frame, 1) # 좌우 대칭\n",
    "    gray = cv2.cvtColor(frame, cv2.COLOR_BGR2GRAY)\n",
    "\n",
    "    faces = face_cascade.detectMultiScale(gray,1.05, 5)\n",
    "    #print(\"Number of faces detected: \" + str(len(faces)))\n",
    "    \n",
    "    if not ret:             #ret이 False면 중지\n",
    "        break\n",
    "    \n",
    "    if len(faces):\n",
    "        for (x,y,w,h) in faces:\n",
    "            cv2.rectangle(frame,(x,y),(x+w,y+h),(255,0,0),2)\n",
    "    if(ret) :\n",
    "        gray = cv2.cvtColor(frame,  cv2.COLOR_BGR2GRAY)    # 입력 받은 화면 Gray로 변환\n",
    "        \n",
    "        out.write(frame)\n",
    "        \n",
    "        cv2.imshow('frame_color', frame)    # 컬러 화면 출력\n",
    "       # cv2.imshow('frame_gray', gray)    # Gray 화면 출력\n",
    "        \n",
    "        \n",
    "        \n",
    "    if cv2.waitKey(1) == 27:\n",
    "            break\n",
    "\n",
    "cap.release()\n",
    "out.release()\n",
    "cv2.destroyAllWindows()"
   ]
  },
  {
   "cell_type": "code",
   "execution_count": 6,
   "metadata": {},
   "outputs": [],
   "source": [
    "# 노트북 웹캠에서 받아오는 영상을 저장하기\n",
    "\n",
    "# 기본 카메라 객체 생성\n",
    "cap = cv2.VideoCapture(0)\n",
    "\n",
    "# 열렸는지 확인\n",
    "if not cap.isOpened():\n",
    "    print(\"Camera open failed!\")\n",
    "    sys.exit()\n",
    "\n",
    "# 웹캠의 속성 값을 받아오기\n",
    "# 정수 형태로 변환하기 위해 round\n",
    "w = round(cap.get(cv2.CAP_PROP_FRAME_WIDTH))\n",
    "h = round(cap.get(cv2.CAP_PROP_FRAME_HEIGHT))\n",
    "fps = cap.get(cv2.CAP_PROP_FPS) # 카메라에 따라 값이 정상적, 비정상적\n",
    "\n",
    "# fourcc 값 받아오기, *는 문자를 풀어쓰는 방식, *'DIVX' == 'D', 'I', 'V', 'X'\n",
    "fourcc = cv2.VideoWriter_fourcc(*'DIVX')\n",
    "\n",
    "# 1프레임과 다음 프레임 사이의 간격 설정\n",
    "delay = round(1000/fps)\n",
    "\n",
    "# 웹캠으로 찰영한 영상을 저장하기\n",
    "# cv2.VideoWriter 객체 생성, 기존에 받아온 속성값 입력\n",
    "out = cv2.VideoWriter('Test Video.avi', fourcc, fps, (w, h))\n",
    "\n",
    "# 제대로 열렸는지 확인\n",
    "if not out.isOpened():\n",
    "    print('File open failed!')\n",
    "    cap.release()\n",
    "    sys.exit()\n",
    "while True:                 # 무한 루프\n",
    "    ret, frame = cap.read() # 카메라의 ret, frame 값 받아오기\n",
    "\n",
    "    if not ret:             #ret이 False면 중지\n",
    "        break\n",
    "\n",
    "    inversed = ~frame # 반전\n",
    "\n",
    "    edge = cv2.Canny(frame, 50, 150) # 윤곽선\n",
    "\n",
    "    # 윤곽선은 그레이스케일 영상이므로 저장이 안된다. 컬러 영상으로 변경\n",
    "    edge_color = cv2.cvtColor(edge, cv2.COLOR_GRAY2BGR)\n",
    "\n",
    "    out.write(frame) # 영상 데이터만 저장. 소리는 X\n",
    "\n",
    "    cv2.imshow('frame', frame)\n",
    "    cv2.imshow('inversed', inversed)\n",
    "    cv2.imshow('edge', edge)\n",
    "\n",
    "    if cv2.waitKey(delay) == 27: # esc를 누르면 강제 종료\n",
    "        break\n",
    "\n",
    "cap.release()\n",
    "out.release()\n",
    "cv2.destroyAllWindows()"
   ]
  },
  {
   "cell_type": "code",
   "execution_count": 7,
   "metadata": {},
   "outputs": [
    {
     "name": "stdout",
     "output_type": "stream",
     "text": [
      "width :640, height : 480\n"
     ]
    }
   ],
   "source": [
    "import cv2\n",
    "\n",
    "cap = cv2.VideoCapture(0)\n",
    "\n",
    "print('width :%d, height : %d' % (cap.get(3), cap.get(4)))\n",
    "\n",
    "while(True):\n",
    "    ret, frame = cap.read()    # Read 결과와 frame\n",
    "\n",
    "    if(ret) :\n",
    "        gray = cv2.cvtColor(frame,  cv2.COLOR_BGR2GRAY)    # 입력 받은 화면 Gray로 변환\n",
    "\n",
    "        cv2.imshow('frame_color', frame)    # 컬러 화면 출력\n",
    "        cv2.imshow('frame_gray', gray)    # Gray 화면 출력\n",
    "        if cv2.waitKey(1) == ord('q'):\n",
    "            break\n",
    "cap.release()\n",
    "cv2.destroyAllWindows()"
   ]
  },
  {
   "cell_type": "code",
   "execution_count": null,
   "metadata": {},
   "outputs": [],
   "source": [
    "#동영상 저장하기 - cv2.VideoWriter 클래스\n",
    " #cv2.VideoWriter 클래스를 이용해서 영상을 저장하는 방법을 알아보겠습니다.\n",
    "\n",
    " #OpenCV에서는 cv2.VideoWriter 클래스를 이용하여 일련의 프레임을 동영상 파일로 저장할 수 있습니다.\n",
    "\n",
    " #일련의 프레임은 모두 크기와 데이터 타입이 같아야 합니다.\n",
    "\n",
    " # cv2.VideoWriter(filename, fourcc, fps, frameSize, isColor=None) -> retval\n",
    "\n",
    " #또한 Fourcc (4-문자 코드, four character code)를 지정해줘야 합니다.\n",
    "\n",
    " #Fourcc는 동영상 파일의 코덱, 압축 방식, 색상, 픽셀 포맷 등을 정의하는 정수 값입니다.\n",
    "\n",
    "# https://deep-learning-study.tistory.com/108\n"
   ]
  },
  {
   "cell_type": "code",
   "execution_count": 8,
   "metadata": {},
   "outputs": [
    {
     "name": "stdout",
     "output_type": "stream",
     "text": [
      "width 1280.0, height 720.0, fps 29.97002997002997\n"
     ]
    }
   ],
   "source": [
    "#재생할 파일 \n",
    "VIDEO_FILE_PATH = 'C:/Users/USER/Desktop/Data Science/Goodfellow.mp4'\n",
    "\n",
    "# 동영상 파일 열기\n",
    "cap = cv2.VideoCapture(VIDEO_FILE_PATH)\n",
    "\n",
    "#잘 열렸는지 확인\n",
    "if cap.isOpened() == False:\n",
    "    print ('Can\\'t open the video (%d)' % (VIDEO_FILE_PATH))\n",
    "    exit()\n",
    "\n",
    "titles = ['orig']\n",
    "#윈도우 생성 및 사이즈 변경\n",
    "for t in titles:\n",
    "    cv2.namedWindow(t)\n",
    "\n",
    "#재생할 파일의 넓이 얻기\n",
    "width = cap.get(cv2.CAP_PROP_FRAME_WIDTH)\n",
    "#재생할 파일의 높이 얻기\n",
    "height = cap.get(cv2.CAP_PROP_FRAME_HEIGHT)\n",
    "#재생할 파일의 프레임 레이트 얻기\n",
    "fps = cap.get(cv2.CAP_PROP_FPS)\n",
    "\n",
    "print('width {0}, height {1}, fps {2}'.format(width, height, fps))\n",
    "\n",
    "#XVID가 제일 낫다고 함.\n",
    "#linux 계열 DIVX, XVID, MJPG, X264, WMV1, WMV2.\n",
    "#windows 계열 DIVX\n",
    "#저장할 비디오 코덱\n",
    "fourcc = cv2.VideoWriter_fourcc(*'DIVX')\n",
    "#저장할 파일 이름\n",
    "filename = 'sprite_with_face_detect.avi'\n",
    "\n",
    "#파일 stream 생성\n",
    "out = cv2.VideoWriter(filename, fourcc, fps, (int(width), int(height)))\n",
    "#filename : 파일 이름\n",
    "#fourcc : 코덱\n",
    "#fps : 초당 프레임 수\n",
    "#width : 넓이\n",
    "#height : 높이\n",
    "\n",
    "#얼굴 인식용\n",
    "xml = 'C:/Users/USER/Desktop/Data Science/OpenCV/opencv-master/opencv-master/data/haarcascades/haarcascade_frontalface_default.xml'\n",
    "face_cascade = cv2.CascadeClassifier(xml)\n",
    "\n",
    "\n",
    "while(True):\n",
    "    #파일로 부터 이미지 얻기\n",
    "    ret, frame = cap.read()\n",
    "    #더 이상 이미지가 없으면 종료\n",
    "    #재생 다 됨\n",
    "    if frame is None:\n",
    "        break;\n",
    "\n",
    "    #얼굴인식 영상 처리\n",
    "    grayframe = cv2.cvtColor(frame, cv2.COLOR_BGR2GRAY)\n",
    "    blur =  cv2.GaussianBlur(grayframe,(5,5), 0)\n",
    "    faces = face_cascade.detectMultiScale(blur, 1.8, 2, 0, (50, 50))\n",
    "\n",
    "    #원본 이미지에 얼굴 인식된 부분 표시\n",
    "    for (x,y,w,h) in faces:\n",
    "        cx = int(x+(w/2))\n",
    "        cy = int(y+(h/2))\n",
    "        cr = int(w/2)\n",
    "        cv2.circle(frame,(cx,cy),cr,(0,255,0),3)\n",
    "\n",
    "    # 얼굴 인식된 이미지 화면 표시\n",
    "    cv2.imshow(titles[0],frame)\n",
    "\n",
    "    # 인식된 이미지 파일로 저장\n",
    "    out.write(frame)\n",
    "\n",
    "    #1ms 동안 키입력 대기\n",
    "    if cv2.waitKey(1) == 27:\n",
    "        break;\n",
    "\n",
    "\n",
    "#재생 파일 종료\n",
    "cap.release()\n",
    "#저장 파일 종료\n",
    "out.release()\n",
    "#윈도우 종료\n",
    "cv2.destroyAllWindows()"
   ]
  },
  {
   "cell_type": "code",
   "execution_count": null,
   "metadata": {},
   "outputs": [],
   "source": []
  }
 ],
 "metadata": {
  "kernelspec": {
   "display_name": "Python 3",
   "language": "python",
   "name": "python3"
  },
  "language_info": {
   "codemirror_mode": {
    "name": "ipython",
    "version": 3
   },
   "file_extension": ".py",
   "mimetype": "text/x-python",
   "name": "python",
   "nbconvert_exporter": "python",
   "pygments_lexer": "ipython3",
   "version": "3.9.1"
  }
 },
 "nbformat": 4,
 "nbformat_minor": 2
}
