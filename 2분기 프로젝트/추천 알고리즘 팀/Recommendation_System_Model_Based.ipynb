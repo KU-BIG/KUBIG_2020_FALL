{
  "nbformat": 4,
  "nbformat_minor": 0,
  "metadata": {
    "kernelspec": {
      "display_name": "Python 3",
      "language": "python",
      "name": "python3"
    },
    "language_info": {
      "codemirror_mode": {
        "name": "ipython",
        "version": 3
      },
      "file_extension": ".py",
      "mimetype": "text/x-python",
      "name": "python",
      "nbconvert_exporter": "python",
      "pygments_lexer": "ipython3",
      "version": "3.8.3"
    },
    "colab": {
      "name": "Recommendation System-Model Based.ipynb",
      "provenance": []
    }
  },
  "cells": [
    {
      "cell_type": "code",
      "metadata": {
        "id": "kbHF6n9mI5T9"
      },
      "source": [
        "import pandas as pd\n",
        "import numpy as np\n",
        "import matplotlib.pyplot as plt\n",
        "import seaborn as sns\n",
        "from scipy import stats\n",
        "from ast import literal_eval\n",
        "from sklearn.feature_extraction.text import TfidfVectorizer, CountVectorizer\n",
        "from sklearn.metrics.pairwise import linear_kernel, cosine_similarity\n",
        "from nltk.stem.snowball import SnowballStemmer\n",
        "from nltk.stem.wordnet import WordNetLemmatizer\n",
        "from nltk.corpus import wordnet\n",
        "from surprise import Reader, Dataset, SVD, accuracy\n",
        "from sklearn.decomposition import TruncatedSVD\n",
        "from scipy.sparse.linalg import svds"
      ],
      "execution_count": null,
      "outputs": []
    },
    {
      "cell_type": "code",
      "metadata": {
        "scrolled": true,
        "id": "K_fdY0uoI5T-",
        "outputId": "71982298-8844-4f5f-a8a9-09f3ef22fc30"
      },
      "source": [
        "rating_data = pd.read_csv(\"./ratings_new.csv\")\n",
        "movie_data = pd.read_csv(\"./movies.csv\")\n",
        "rating_data.head()"
      ],
      "execution_count": null,
      "outputs": [
        {
          "output_type": "execute_result",
          "data": {
            "text/html": [
              "<div>\n",
              "<style scoped>\n",
              "    .dataframe tbody tr th:only-of-type {\n",
              "        vertical-align: middle;\n",
              "    }\n",
              "\n",
              "    .dataframe tbody tr th {\n",
              "        vertical-align: top;\n",
              "    }\n",
              "\n",
              "    .dataframe thead th {\n",
              "        text-align: right;\n",
              "    }\n",
              "</style>\n",
              "<table border=\"1\" class=\"dataframe\">\n",
              "  <thead>\n",
              "    <tr style=\"text-align: right;\">\n",
              "      <th></th>\n",
              "      <th>userId</th>\n",
              "      <th>movieId</th>\n",
              "      <th>rating</th>\n",
              "      <th>timestamp</th>\n",
              "    </tr>\n",
              "  </thead>\n",
              "  <tbody>\n",
              "    <tr>\n",
              "      <th>0</th>\n",
              "      <td>1</td>\n",
              "      <td>31</td>\n",
              "      <td>2.5</td>\n",
              "      <td>1260759144</td>\n",
              "    </tr>\n",
              "    <tr>\n",
              "      <th>1</th>\n",
              "      <td>1</td>\n",
              "      <td>1029</td>\n",
              "      <td>3.0</td>\n",
              "      <td>1260759179</td>\n",
              "    </tr>\n",
              "    <tr>\n",
              "      <th>2</th>\n",
              "      <td>1</td>\n",
              "      <td>1061</td>\n",
              "      <td>3.0</td>\n",
              "      <td>1260759182</td>\n",
              "    </tr>\n",
              "    <tr>\n",
              "      <th>3</th>\n",
              "      <td>1</td>\n",
              "      <td>1129</td>\n",
              "      <td>2.0</td>\n",
              "      <td>1260759185</td>\n",
              "    </tr>\n",
              "    <tr>\n",
              "      <th>4</th>\n",
              "      <td>1</td>\n",
              "      <td>1172</td>\n",
              "      <td>4.0</td>\n",
              "      <td>1260759205</td>\n",
              "    </tr>\n",
              "  </tbody>\n",
              "</table>\n",
              "</div>"
            ],
            "text/plain": [
              "   userId  movieId  rating   timestamp\n",
              "0       1       31     2.5  1260759144\n",
              "1       1     1029     3.0  1260759179\n",
              "2       1     1061     3.0  1260759182\n",
              "3       1     1129     2.0  1260759185\n",
              "4       1     1172     4.0  1260759205"
            ]
          },
          "metadata": {
            "tags": []
          },
          "execution_count": 10
        }
      ]
    },
    {
      "cell_type": "code",
      "metadata": {
        "id": "hbPqGl99I5UC",
        "outputId": "16d5e442-0f58-4522-83c0-68aab679a0a9"
      },
      "source": [
        "movie_data.head()"
      ],
      "execution_count": null,
      "outputs": [
        {
          "output_type": "execute_result",
          "data": {
            "text/html": [
              "<div>\n",
              "<style scoped>\n",
              "    .dataframe tbody tr th:only-of-type {\n",
              "        vertical-align: middle;\n",
              "    }\n",
              "\n",
              "    .dataframe tbody tr th {\n",
              "        vertical-align: top;\n",
              "    }\n",
              "\n",
              "    .dataframe thead th {\n",
              "        text-align: right;\n",
              "    }\n",
              "</style>\n",
              "<table border=\"1\" class=\"dataframe\">\n",
              "  <thead>\n",
              "    <tr style=\"text-align: right;\">\n",
              "      <th></th>\n",
              "      <th>movieId</th>\n",
              "      <th>title</th>\n",
              "      <th>genres</th>\n",
              "    </tr>\n",
              "  </thead>\n",
              "  <tbody>\n",
              "    <tr>\n",
              "      <th>0</th>\n",
              "      <td>1</td>\n",
              "      <td>Toy Story (1995)</td>\n",
              "      <td>Adventure|Animation|Children|Comedy|Fantasy</td>\n",
              "    </tr>\n",
              "    <tr>\n",
              "      <th>1</th>\n",
              "      <td>2</td>\n",
              "      <td>Jumanji (1995)</td>\n",
              "      <td>Adventure|Children|Fantasy</td>\n",
              "    </tr>\n",
              "    <tr>\n",
              "      <th>2</th>\n",
              "      <td>3</td>\n",
              "      <td>Grumpier Old Men (1995)</td>\n",
              "      <td>Comedy|Romance</td>\n",
              "    </tr>\n",
              "    <tr>\n",
              "      <th>3</th>\n",
              "      <td>4</td>\n",
              "      <td>Waiting to Exhale (1995)</td>\n",
              "      <td>Comedy|Drama|Romance</td>\n",
              "    </tr>\n",
              "    <tr>\n",
              "      <th>4</th>\n",
              "      <td>5</td>\n",
              "      <td>Father of the Bride Part II (1995)</td>\n",
              "      <td>Comedy</td>\n",
              "    </tr>\n",
              "  </tbody>\n",
              "</table>\n",
              "</div>"
            ],
            "text/plain": [
              "   movieId                               title  \\\n",
              "0        1                    Toy Story (1995)   \n",
              "1        2                      Jumanji (1995)   \n",
              "2        3             Grumpier Old Men (1995)   \n",
              "3        4            Waiting to Exhale (1995)   \n",
              "4        5  Father of the Bride Part II (1995)   \n",
              "\n",
              "                                        genres  \n",
              "0  Adventure|Animation|Children|Comedy|Fantasy  \n",
              "1                   Adventure|Children|Fantasy  \n",
              "2                               Comedy|Romance  \n",
              "3                         Comedy|Drama|Romance  \n",
              "4                                       Comedy  "
            ]
          },
          "metadata": {
            "tags": []
          },
          "execution_count": 11
        }
      ]
    },
    {
      "cell_type": "code",
      "metadata": {
        "id": "1jFosrCBI5UC",
        "outputId": "0b250b30-21ff-4499-d9e0-d56a35b1b7d8"
      },
      "source": [
        "print(movie_data.shape) #영화 데이터 45466개\n",
        "print(rating_data.shape) #영화 평점 데이터 26024289개"
      ],
      "execution_count": null,
      "outputs": [
        {
          "output_type": "stream",
          "text": [
            "(9125, 3)\n",
            "(100004, 4)\n"
          ],
          "name": "stdout"
        }
      ]
    },
    {
      "cell_type": "markdown",
      "metadata": {
        "id": "GEgqhhyBI5UC"
      },
      "source": [
        "# 특정 영화와 비슷한 영화 추천"
      ]
    },
    {
      "cell_type": "code",
      "metadata": {
        "id": "SLcmL1qII5UD",
        "outputId": "ed3215fd-43bd-46de-b8c3-1df219c63922"
      },
      "source": [
        "rating_data.drop('timestamp',axis=1,inplace=True)\n",
        "movie_data.drop('genres',axis=1,inplace=True) #timestamep, genre는 모델 기반 필터링에 필요 없으므로 제거\n",
        "print(rating_data.head())\n",
        "print(movie_data.head())"
      ],
      "execution_count": null,
      "outputs": [
        {
          "output_type": "stream",
          "text": [
            "   userId  movieId  rating\n",
            "0       1       31     2.5\n",
            "1       1     1029     3.0\n",
            "2       1     1061     3.0\n",
            "3       1     1129     2.0\n",
            "4       1     1172     4.0\n",
            "   movieId                               title\n",
            "0        1                    Toy Story (1995)\n",
            "1        2                      Jumanji (1995)\n",
            "2        3             Grumpier Old Men (1995)\n",
            "3        4            Waiting to Exhale (1995)\n",
            "4        5  Father of the Bride Part II (1995)\n"
          ],
          "name": "stdout"
        }
      ]
    },
    {
      "cell_type": "code",
      "metadata": {
        "id": "CEoHr_fGI5UD",
        "outputId": "fb23b93f-91f5-4667-c0b3-79bc39596dcc"
      },
      "source": [
        "user_movie_data = pd.merge(rating_data,movie_data,on='movieId')\n",
        "print(user_movie_data.head()) #데이터 결합\n",
        "print(user_movie_data.shape) #특정 유저가 평점을 매긴 영화의 제목이 무엇인지 알 수 있음"
      ],
      "execution_count": null,
      "outputs": [
        {
          "output_type": "stream",
          "text": [
            "   userId  movieId  rating                   title\n",
            "0       1       31     2.5  Dangerous Minds (1995)\n",
            "1       7       31     3.0  Dangerous Minds (1995)\n",
            "2      31       31     4.0  Dangerous Minds (1995)\n",
            "3      32       31     4.0  Dangerous Minds (1995)\n",
            "4      36       31     3.0  Dangerous Minds (1995)\n",
            "(100004, 4)\n"
          ],
          "name": "stdout"
        }
      ]
    },
    {
      "cell_type": "code",
      "metadata": {
        "id": "Bl7gRdTuI5UD",
        "outputId": "2814b072-7f69-4a5e-8f78-c7784f18eb26"
      },
      "source": [
        "user_movie_rating=user_movie_data.pivot_table('rating',index='userId',columns='title').fillna(0) #pivot table로 변경(행: user, 열: movie, value: 평점)\n",
        "print(user_movie_rating.head())\n",
        "print(user_movie_rating.shape) #사용자-영화 평점 데이터로 변환, 결측치는 0으로 처리"
      ],
      "execution_count": null,
      "outputs": [
        {
          "output_type": "stream",
          "text": [
            "title   \"Great Performances\" Cats (1998)  $9.99 (2008)  \\\n",
            "userId                                                   \n",
            "1                                    0.0           0.0   \n",
            "2                                    0.0           0.0   \n",
            "3                                    0.0           0.0   \n",
            "4                                    0.0           0.0   \n",
            "5                                    0.0           0.0   \n",
            "\n",
            "title   'Hellboy': The Seeds of Creation (2004)  \\\n",
            "userId                                            \n",
            "1                                           0.0   \n",
            "2                                           0.0   \n",
            "3                                           0.0   \n",
            "4                                           0.0   \n",
            "5                                           0.0   \n",
            "\n",
            "title   'Neath the Arizona Skies (1934)  'Round Midnight (1986)  \\\n",
            "userId                                                            \n",
            "1                                   0.0                     0.0   \n",
            "2                                   0.0                     0.0   \n",
            "3                                   0.0                     0.0   \n",
            "4                                   0.0                     0.0   \n",
            "5                                   0.0                     0.0   \n",
            "\n",
            "title   'Salem's Lot (2004)  'Til There Was You (1997)  'burbs, The (1989)  \\\n",
            "userId                                                                       \n",
            "1                       0.0                        0.0                 0.0   \n",
            "2                       0.0                        0.0                 0.0   \n",
            "3                       0.0                        0.0                 0.0   \n",
            "4                       0.0                        0.0                 0.0   \n",
            "5                       0.0                        0.0                 0.0   \n",
            "\n",
            "title   'night Mother (1986)  (500) Days of Summer (2009)  ...  Zulu (1964)  \\\n",
            "userId                                                     ...                \n",
            "1                        0.0                          0.0  ...          0.0   \n",
            "2                        0.0                          0.0  ...          0.0   \n",
            "3                        0.0                          0.0  ...          0.0   \n",
            "4                        0.0                          0.0  ...          0.0   \n",
            "5                        0.0                          0.0  ...          0.0   \n",
            "\n",
            "title   Zulu (2013)  [REC] (2007)  eXistenZ (1999)  \\\n",
            "userId                                               \n",
            "1               0.0           0.0              0.0   \n",
            "2               0.0           0.0              0.0   \n",
            "3               0.0           0.0              0.0   \n",
            "4               0.0           0.0              0.0   \n",
            "5               0.0           0.0              0.0   \n",
            "\n",
            "title   loudQUIETloud: A Film About the Pixies (2006)  xXx (2002)  \\\n",
            "userId                                                              \n",
            "1                                                 0.0         0.0   \n",
            "2                                                 0.0         0.0   \n",
            "3                                                 0.0         0.0   \n",
            "4                                                 0.0         0.0   \n",
            "5                                                 0.0         0.0   \n",
            "\n",
            "title   xXx: State of the Union (2005)  ¡Three Amigos! (1986)  \\\n",
            "userId                                                          \n",
            "1                                  0.0                    0.0   \n",
            "2                                  0.0                    0.0   \n",
            "3                                  0.0                    0.0   \n",
            "4                                  0.0                    0.0   \n",
            "5                                  0.0                    0.0   \n",
            "\n",
            "title   À nous la liberté (Freedom for Us) (1931)  İtirazım Var (2014)  \n",
            "userId                                                                  \n",
            "1                                             0.0                  0.0  \n",
            "2                                             0.0                  0.0  \n",
            "3                                             0.0                  0.0  \n",
            "4                                             0.0                  0.0  \n",
            "5                                             0.0                  0.0  \n",
            "\n",
            "[5 rows x 9064 columns]\n",
            "(671, 9064)\n"
          ],
          "name": "stdout"
        }
      ]
    },
    {
      "cell_type": "code",
      "metadata": {
        "id": "Z8_r945jI5UE"
      },
      "source": [
        "movie_user_rating = user_movie_rating.values.T #Transpose를 통해 영화-사용자 데이터로 변환"
      ],
      "execution_count": null,
      "outputs": []
    },
    {
      "cell_type": "code",
      "metadata": {
        "id": "-1kJs0hmI5UE",
        "outputId": "e1490d99-39dc-42cf-a5ee-78b3d74a08a7"
      },
      "source": [
        "#TruncatedSVD 이용\n",
        "SVD = TruncatedSVD(n_components=12) #latent=12\n",
        "matrix = SVD.fit_transform(movie_user_rating)\n",
        "matrix.shape #9064개의 영화 데이터가 12개의 어떤 요소의 값을 갖는다."
      ],
      "execution_count": null,
      "outputs": [
        {
          "output_type": "execute_result",
          "data": {
            "text/plain": [
              "(9064, 12)"
            ]
          },
          "metadata": {
            "tags": []
          },
          "execution_count": 17
        }
      ]
    },
    {
      "cell_type": "code",
      "metadata": {
        "id": "gnaY_xbTI5UE",
        "outputId": "b92482d0-9bf1-4f5f-fb25-bc2e31d5c056"
      },
      "source": [
        "cor = np.corrcoef(matrix) #피어슨 상관계수 -> '특정 영화'와 관련해 상관계수가 높은 영화를 뽑음\n",
        "movie_title = user_movie_rating.columns\n",
        "movie_title_list = list(movie_title)\n",
        "coffey_hands = movie_title_list.index(\"Toy Story (1995)\")\n",
        "cor_coffey_hands = cor[coffey_hands]\n",
        "list(movie_title[(cor_coffey_hands >= 0.9)])[:50]"
      ],
      "execution_count": null,
      "outputs": [
        {
          "output_type": "execute_result",
          "data": {
            "text/plain": [
              "['Before Sunrise (1995)', 'Sleepers (1996)', 'Toy Story (1995)']"
            ]
          },
          "metadata": {
            "tags": []
          },
          "execution_count": 18
        }
      ]
    },
    {
      "cell_type": "markdown",
      "metadata": {
        "id": "VqU9Ra0gI5UF"
      },
      "source": [
        "# 사용자 개인 영화 히스토리 기반"
      ]
    },
    {
      "cell_type": "code",
      "metadata": {
        "id": "g-ImjvlrI5UF",
        "outputId": "42235846-2eb7-479d-c507-52c98e501c24"
      },
      "source": [
        "df_user_movie_ratings = rating_data.pivot(\n",
        "index='userId',\n",
        "columns='movieId',\n",
        "values='rating').fillna(0)\n",
        "print(df_user_movie_ratings.head()) #사용자별 각 영화 평점 데이터\n",
        "print(df_user_movie_ratings.shape)"
      ],
      "execution_count": null,
      "outputs": [
        {
          "output_type": "stream",
          "text": [
            "movieId  1       2       3       4       5       6       7       8       \\\n",
            "userId                                                                    \n",
            "1           0.0     0.0     0.0     0.0     0.0     0.0     0.0     0.0   \n",
            "2           0.0     0.0     0.0     0.0     0.0     0.0     0.0     0.0   \n",
            "3           0.0     0.0     0.0     0.0     0.0     0.0     0.0     0.0   \n",
            "4           0.0     0.0     0.0     0.0     0.0     0.0     0.0     0.0   \n",
            "5           0.0     0.0     4.0     0.0     0.0     0.0     0.0     0.0   \n",
            "\n",
            "movieId  9       10      ...  161084  161155  161594  161830  161918  161944  \\\n",
            "userId                   ...                                                   \n",
            "1           0.0     0.0  ...     0.0     0.0     0.0     0.0     0.0     0.0   \n",
            "2           0.0     4.0  ...     0.0     0.0     0.0     0.0     0.0     0.0   \n",
            "3           0.0     0.0  ...     0.0     0.0     0.0     0.0     0.0     0.0   \n",
            "4           0.0     4.0  ...     0.0     0.0     0.0     0.0     0.0     0.0   \n",
            "5           0.0     0.0  ...     0.0     0.0     0.0     0.0     0.0     0.0   \n",
            "\n",
            "movieId  162376  162542  162672  163949  \n",
            "userId                                   \n",
            "1           0.0     0.0     0.0     0.0  \n",
            "2           0.0     0.0     0.0     0.0  \n",
            "3           0.0     0.0     0.0     0.0  \n",
            "4           0.0     0.0     0.0     0.0  \n",
            "5           0.0     0.0     0.0     0.0  \n",
            "\n",
            "[5 rows x 9066 columns]\n",
            "(671, 9066)\n"
          ],
          "name": "stdout"
        }
      ]
    },
    {
      "cell_type": "code",
      "metadata": {
        "id": "K6nJ0b-9I5UF",
        "outputId": "0e9a375d-a436-4a13-933d-972bf8846312"
      },
      "source": [
        "#671명의 사용자들이 매긴 각각의 평균 평점\n",
        "matrix = df_user_movie_ratings.values #이전의 pivot table을 matrix로 변경\n",
        "user_ratings_mean = np.mean(matrix,axis=1)\n",
        "#평점-사용자에서 사용자의 평균 영화 평점\n",
        "matrix_user_mean = matrix - user_ratings_mean.reshape(-1,1) #사용자-영화 평점에서 사용자의 평균 평점을 뺀 값\n",
        "pd.DataFrame(matrix_user_mean,columns=df_user_movie_ratings.columns).head() #영화-사용자 평점 데이터"
      ],
      "execution_count": null,
      "outputs": [
        {
          "output_type": "execute_result",
          "data": {
            "text/html": [
              "<div>\n",
              "<style scoped>\n",
              "    .dataframe tbody tr th:only-of-type {\n",
              "        vertical-align: middle;\n",
              "    }\n",
              "\n",
              "    .dataframe tbody tr th {\n",
              "        vertical-align: top;\n",
              "    }\n",
              "\n",
              "    .dataframe thead th {\n",
              "        text-align: right;\n",
              "    }\n",
              "</style>\n",
              "<table border=\"1\" class=\"dataframe\">\n",
              "  <thead>\n",
              "    <tr style=\"text-align: right;\">\n",
              "      <th>movieId</th>\n",
              "      <th>1</th>\n",
              "      <th>2</th>\n",
              "      <th>3</th>\n",
              "      <th>4</th>\n",
              "      <th>5</th>\n",
              "      <th>6</th>\n",
              "      <th>7</th>\n",
              "      <th>8</th>\n",
              "      <th>9</th>\n",
              "      <th>10</th>\n",
              "      <th>...</th>\n",
              "      <th>161084</th>\n",
              "      <th>161155</th>\n",
              "      <th>161594</th>\n",
              "      <th>161830</th>\n",
              "      <th>161918</th>\n",
              "      <th>161944</th>\n",
              "      <th>162376</th>\n",
              "      <th>162542</th>\n",
              "      <th>162672</th>\n",
              "      <th>163949</th>\n",
              "    </tr>\n",
              "  </thead>\n",
              "  <tbody>\n",
              "    <tr>\n",
              "      <th>0</th>\n",
              "      <td>-0.005625</td>\n",
              "      <td>-0.005625</td>\n",
              "      <td>-0.005625</td>\n",
              "      <td>-0.005625</td>\n",
              "      <td>-0.005625</td>\n",
              "      <td>-0.005625</td>\n",
              "      <td>-0.005625</td>\n",
              "      <td>-0.005625</td>\n",
              "      <td>-0.005625</td>\n",
              "      <td>-0.005625</td>\n",
              "      <td>...</td>\n",
              "      <td>-0.005625</td>\n",
              "      <td>-0.005625</td>\n",
              "      <td>-0.005625</td>\n",
              "      <td>-0.005625</td>\n",
              "      <td>-0.005625</td>\n",
              "      <td>-0.005625</td>\n",
              "      <td>-0.005625</td>\n",
              "      <td>-0.005625</td>\n",
              "      <td>-0.005625</td>\n",
              "      <td>-0.005625</td>\n",
              "    </tr>\n",
              "    <tr>\n",
              "      <th>1</th>\n",
              "      <td>-0.029230</td>\n",
              "      <td>-0.029230</td>\n",
              "      <td>-0.029230</td>\n",
              "      <td>-0.029230</td>\n",
              "      <td>-0.029230</td>\n",
              "      <td>-0.029230</td>\n",
              "      <td>-0.029230</td>\n",
              "      <td>-0.029230</td>\n",
              "      <td>-0.029230</td>\n",
              "      <td>3.970770</td>\n",
              "      <td>...</td>\n",
              "      <td>-0.029230</td>\n",
              "      <td>-0.029230</td>\n",
              "      <td>-0.029230</td>\n",
              "      <td>-0.029230</td>\n",
              "      <td>-0.029230</td>\n",
              "      <td>-0.029230</td>\n",
              "      <td>-0.029230</td>\n",
              "      <td>-0.029230</td>\n",
              "      <td>-0.029230</td>\n",
              "      <td>-0.029230</td>\n",
              "    </tr>\n",
              "    <tr>\n",
              "      <th>2</th>\n",
              "      <td>-0.020075</td>\n",
              "      <td>-0.020075</td>\n",
              "      <td>-0.020075</td>\n",
              "      <td>-0.020075</td>\n",
              "      <td>-0.020075</td>\n",
              "      <td>-0.020075</td>\n",
              "      <td>-0.020075</td>\n",
              "      <td>-0.020075</td>\n",
              "      <td>-0.020075</td>\n",
              "      <td>-0.020075</td>\n",
              "      <td>...</td>\n",
              "      <td>-0.020075</td>\n",
              "      <td>-0.020075</td>\n",
              "      <td>-0.020075</td>\n",
              "      <td>-0.020075</td>\n",
              "      <td>-0.020075</td>\n",
              "      <td>-0.020075</td>\n",
              "      <td>-0.020075</td>\n",
              "      <td>-0.020075</td>\n",
              "      <td>-0.020075</td>\n",
              "      <td>-0.020075</td>\n",
              "    </tr>\n",
              "    <tr>\n",
              "      <th>3</th>\n",
              "      <td>-0.097838</td>\n",
              "      <td>-0.097838</td>\n",
              "      <td>-0.097838</td>\n",
              "      <td>-0.097838</td>\n",
              "      <td>-0.097838</td>\n",
              "      <td>-0.097838</td>\n",
              "      <td>-0.097838</td>\n",
              "      <td>-0.097838</td>\n",
              "      <td>-0.097838</td>\n",
              "      <td>3.902162</td>\n",
              "      <td>...</td>\n",
              "      <td>-0.097838</td>\n",
              "      <td>-0.097838</td>\n",
              "      <td>-0.097838</td>\n",
              "      <td>-0.097838</td>\n",
              "      <td>-0.097838</td>\n",
              "      <td>-0.097838</td>\n",
              "      <td>-0.097838</td>\n",
              "      <td>-0.097838</td>\n",
              "      <td>-0.097838</td>\n",
              "      <td>-0.097838</td>\n",
              "    </tr>\n",
              "    <tr>\n",
              "      <th>4</th>\n",
              "      <td>-0.043128</td>\n",
              "      <td>-0.043128</td>\n",
              "      <td>3.956872</td>\n",
              "      <td>-0.043128</td>\n",
              "      <td>-0.043128</td>\n",
              "      <td>-0.043128</td>\n",
              "      <td>-0.043128</td>\n",
              "      <td>-0.043128</td>\n",
              "      <td>-0.043128</td>\n",
              "      <td>-0.043128</td>\n",
              "      <td>...</td>\n",
              "      <td>-0.043128</td>\n",
              "      <td>-0.043128</td>\n",
              "      <td>-0.043128</td>\n",
              "      <td>-0.043128</td>\n",
              "      <td>-0.043128</td>\n",
              "      <td>-0.043128</td>\n",
              "      <td>-0.043128</td>\n",
              "      <td>-0.043128</td>\n",
              "      <td>-0.043128</td>\n",
              "      <td>-0.043128</td>\n",
              "    </tr>\n",
              "  </tbody>\n",
              "</table>\n",
              "<p>5 rows × 9066 columns</p>\n",
              "</div>"
            ],
            "text/plain": [
              "movieId    1         2         3         4         5         6         7       \\\n",
              "0       -0.005625 -0.005625 -0.005625 -0.005625 -0.005625 -0.005625 -0.005625   \n",
              "1       -0.029230 -0.029230 -0.029230 -0.029230 -0.029230 -0.029230 -0.029230   \n",
              "2       -0.020075 -0.020075 -0.020075 -0.020075 -0.020075 -0.020075 -0.020075   \n",
              "3       -0.097838 -0.097838 -0.097838 -0.097838 -0.097838 -0.097838 -0.097838   \n",
              "4       -0.043128 -0.043128  3.956872 -0.043128 -0.043128 -0.043128 -0.043128   \n",
              "\n",
              "movieId    8         9         10      ...    161084    161155    161594  \\\n",
              "0       -0.005625 -0.005625 -0.005625  ... -0.005625 -0.005625 -0.005625   \n",
              "1       -0.029230 -0.029230  3.970770  ... -0.029230 -0.029230 -0.029230   \n",
              "2       -0.020075 -0.020075 -0.020075  ... -0.020075 -0.020075 -0.020075   \n",
              "3       -0.097838 -0.097838  3.902162  ... -0.097838 -0.097838 -0.097838   \n",
              "4       -0.043128 -0.043128 -0.043128  ... -0.043128 -0.043128 -0.043128   \n",
              "\n",
              "movieId    161830    161918    161944    162376    162542    162672    163949  \n",
              "0       -0.005625 -0.005625 -0.005625 -0.005625 -0.005625 -0.005625 -0.005625  \n",
              "1       -0.029230 -0.029230 -0.029230 -0.029230 -0.029230 -0.029230 -0.029230  \n",
              "2       -0.020075 -0.020075 -0.020075 -0.020075 -0.020075 -0.020075 -0.020075  \n",
              "3       -0.097838 -0.097838 -0.097838 -0.097838 -0.097838 -0.097838 -0.097838  \n",
              "4       -0.043128 -0.043128 -0.043128 -0.043128 -0.043128 -0.043128 -0.043128  \n",
              "\n",
              "[5 rows x 9066 columns]"
            ]
          },
          "metadata": {
            "tags": []
          },
          "execution_count": 20
        }
      ]
    },
    {
      "cell_type": "code",
      "metadata": {
        "id": "p2c8Mkr1I5UF",
        "outputId": "257265ca-e2db-4d5c-99e8-a8418ef2dc91"
      },
      "source": [
        "#SVD 이용, U행렬, sigma행렬, V 전치 행렬 반환\n",
        "U, sigma, Vt = svds(matrix_user_mean, k=12)\n",
        "print(U.shape)\n",
        "print(sigma.shape)\n",
        "print(Vt.shape)"
      ],
      "execution_count": null,
      "outputs": [
        {
          "output_type": "stream",
          "text": [
            "(671, 12)\n",
            "(12,)\n",
            "(12, 9066)\n"
          ],
          "name": "stdout"
        }
      ]
    },
    {
      "cell_type": "code",
      "metadata": {
        "id": "PGG12I9aI5UG",
        "outputId": "258fc404-f163-44e6-b6e9-91d5f8b5cb5a"
      },
      "source": [
        "#sigma 행렬은 0이 포함되지 않은 값으로만 구성. 이를 대칭행렬로 변환\n",
        "sigma = np.diag(sigma)\n",
        "sigma.shape"
      ],
      "execution_count": null,
      "outputs": [
        {
          "output_type": "execute_result",
          "data": {
            "text/plain": [
              "(12, 12)"
            ]
          },
          "metadata": {
            "tags": []
          },
          "execution_count": 22
        }
      ]
    },
    {
      "cell_type": "code",
      "metadata": {
        "id": "mD0NXAJqI5UH",
        "outputId": "e9ecf456-ac45-4514-894d-f152672b5d22"
      },
      "source": [
        "sigma[0]"
      ],
      "execution_count": null,
      "outputs": [
        {
          "output_type": "execute_result",
          "data": {
            "text/plain": [
              "array([105.72437051,   0.        ,   0.        ,   0.        ,\n",
              "         0.        ,   0.        ,   0.        ,   0.        ,\n",
              "         0.        ,   0.        ,   0.        ,   0.        ])"
            ]
          },
          "metadata": {
            "tags": []
          },
          "execution_count": 23
        }
      ]
    },
    {
      "cell_type": "code",
      "metadata": {
        "id": "60BvdOeCI5UH"
      },
      "source": [
        "#SVD를 적용해 분해한 행렬을 원본 행렬로 복구(U,Sigma,Vt 내적)\n",
        "svd_user_predicted_ratings = np.dot(np.dot(U,sigma),Vt) + user_ratings_mean.reshape(-1,1)"
      ],
      "execution_count": null,
      "outputs": []
    },
    {
      "cell_type": "code",
      "metadata": {
        "id": "_7KWvBVxI5UH",
        "outputId": "b5fc8e42-5c0a-490e-82dc-18506fa6a629"
      },
      "source": [
        "df_svd_preds = pd.DataFrame(svd_user_predicted_ratings,columns=df_user_movie_ratings.columns)\n",
        "df_svd_preds.head()"
      ],
      "execution_count": null,
      "outputs": [
        {
          "output_type": "execute_result",
          "data": {
            "text/html": [
              "<div>\n",
              "<style scoped>\n",
              "    .dataframe tbody tr th:only-of-type {\n",
              "        vertical-align: middle;\n",
              "    }\n",
              "\n",
              "    .dataframe tbody tr th {\n",
              "        vertical-align: top;\n",
              "    }\n",
              "\n",
              "    .dataframe thead th {\n",
              "        text-align: right;\n",
              "    }\n",
              "</style>\n",
              "<table border=\"1\" class=\"dataframe\">\n",
              "  <thead>\n",
              "    <tr style=\"text-align: right;\">\n",
              "      <th>movieId</th>\n",
              "      <th>1</th>\n",
              "      <th>2</th>\n",
              "      <th>3</th>\n",
              "      <th>4</th>\n",
              "      <th>5</th>\n",
              "      <th>6</th>\n",
              "      <th>7</th>\n",
              "      <th>8</th>\n",
              "      <th>9</th>\n",
              "      <th>10</th>\n",
              "      <th>...</th>\n",
              "      <th>161084</th>\n",
              "      <th>161155</th>\n",
              "      <th>161594</th>\n",
              "      <th>161830</th>\n",
              "      <th>161918</th>\n",
              "      <th>161944</th>\n",
              "      <th>162376</th>\n",
              "      <th>162542</th>\n",
              "      <th>162672</th>\n",
              "      <th>163949</th>\n",
              "    </tr>\n",
              "  </thead>\n",
              "  <tbody>\n",
              "    <tr>\n",
              "      <th>0</th>\n",
              "      <td>-0.079686</td>\n",
              "      <td>0.021779</td>\n",
              "      <td>-0.013837</td>\n",
              "      <td>-0.005870</td>\n",
              "      <td>-0.028877</td>\n",
              "      <td>0.032371</td>\n",
              "      <td>0.000715</td>\n",
              "      <td>-0.004428</td>\n",
              "      <td>-0.005219</td>\n",
              "      <td>0.038195</td>\n",
              "      <td>...</td>\n",
              "      <td>-0.004324</td>\n",
              "      <td>-0.004352</td>\n",
              "      <td>0.010478</td>\n",
              "      <td>-0.004256</td>\n",
              "      <td>-0.003944</td>\n",
              "      <td>-0.005674</td>\n",
              "      <td>0.018157</td>\n",
              "      <td>-0.005575</td>\n",
              "      <td>-0.005297</td>\n",
              "      <td>-0.003766</td>\n",
              "    </tr>\n",
              "    <tr>\n",
              "      <th>1</th>\n",
              "      <td>1.428452</td>\n",
              "      <td>1.608841</td>\n",
              "      <td>0.529476</td>\n",
              "      <td>0.168278</td>\n",
              "      <td>0.520809</td>\n",
              "      <td>1.107473</td>\n",
              "      <td>0.529719</td>\n",
              "      <td>0.089376</td>\n",
              "      <td>0.296270</td>\n",
              "      <td>1.970031</td>\n",
              "      <td>...</td>\n",
              "      <td>0.013227</td>\n",
              "      <td>-0.002275</td>\n",
              "      <td>0.020680</td>\n",
              "      <td>-0.005245</td>\n",
              "      <td>-0.007644</td>\n",
              "      <td>-0.021019</td>\n",
              "      <td>0.031243</td>\n",
              "      <td>-0.000957</td>\n",
              "      <td>-0.000753</td>\n",
              "      <td>0.026901</td>\n",
              "    </tr>\n",
              "    <tr>\n",
              "      <th>2</th>\n",
              "      <td>0.977246</td>\n",
              "      <td>0.396971</td>\n",
              "      <td>0.000299</td>\n",
              "      <td>0.027444</td>\n",
              "      <td>0.021287</td>\n",
              "      <td>0.141458</td>\n",
              "      <td>-0.057134</td>\n",
              "      <td>0.031633</td>\n",
              "      <td>-0.012538</td>\n",
              "      <td>0.383576</td>\n",
              "      <td>...</td>\n",
              "      <td>0.002761</td>\n",
              "      <td>0.004907</td>\n",
              "      <td>-0.014190</td>\n",
              "      <td>-0.000251</td>\n",
              "      <td>-0.006007</td>\n",
              "      <td>-0.003189</td>\n",
              "      <td>-0.026916</td>\n",
              "      <td>0.014637</td>\n",
              "      <td>0.013287</td>\n",
              "      <td>-0.005741</td>\n",
              "    </tr>\n",
              "    <tr>\n",
              "      <th>3</th>\n",
              "      <td>1.870844</td>\n",
              "      <td>1.169993</td>\n",
              "      <td>0.252202</td>\n",
              "      <td>0.094831</td>\n",
              "      <td>-0.181713</td>\n",
              "      <td>-0.511953</td>\n",
              "      <td>-0.027820</td>\n",
              "      <td>-0.143080</td>\n",
              "      <td>0.013247</td>\n",
              "      <td>1.461694</td>\n",
              "      <td>...</td>\n",
              "      <td>0.026412</td>\n",
              "      <td>-0.027245</td>\n",
              "      <td>0.054681</td>\n",
              "      <td>0.018450</td>\n",
              "      <td>0.034544</td>\n",
              "      <td>-0.035740</td>\n",
              "      <td>0.088889</td>\n",
              "      <td>-0.019365</td>\n",
              "      <td>-0.017113</td>\n",
              "      <td>0.066559</td>\n",
              "    </tr>\n",
              "    <tr>\n",
              "      <th>4</th>\n",
              "      <td>1.182777</td>\n",
              "      <td>0.924903</td>\n",
              "      <td>0.075998</td>\n",
              "      <td>0.061505</td>\n",
              "      <td>0.602680</td>\n",
              "      <td>-0.159825</td>\n",
              "      <td>0.339925</td>\n",
              "      <td>0.081534</td>\n",
              "      <td>-0.079666</td>\n",
              "      <td>0.535018</td>\n",
              "      <td>...</td>\n",
              "      <td>-0.029124</td>\n",
              "      <td>-0.029357</td>\n",
              "      <td>0.009064</td>\n",
              "      <td>-0.029092</td>\n",
              "      <td>-0.030890</td>\n",
              "      <td>-0.057453</td>\n",
              "      <td>0.026344</td>\n",
              "      <td>-0.024027</td>\n",
              "      <td>-0.024614</td>\n",
              "      <td>-0.032752</td>\n",
              "    </tr>\n",
              "  </tbody>\n",
              "</table>\n",
              "<p>5 rows × 9066 columns</p>\n",
              "</div>"
            ],
            "text/plain": [
              "movieId    1         2         3         4         5         6         7       \\\n",
              "0       -0.079686  0.021779 -0.013837 -0.005870 -0.028877  0.032371  0.000715   \n",
              "1        1.428452  1.608841  0.529476  0.168278  0.520809  1.107473  0.529719   \n",
              "2        0.977246  0.396971  0.000299  0.027444  0.021287  0.141458 -0.057134   \n",
              "3        1.870844  1.169993  0.252202  0.094831 -0.181713 -0.511953 -0.027820   \n",
              "4        1.182777  0.924903  0.075998  0.061505  0.602680 -0.159825  0.339925   \n",
              "\n",
              "movieId    8         9         10      ...    161084    161155    161594  \\\n",
              "0       -0.004428 -0.005219  0.038195  ... -0.004324 -0.004352  0.010478   \n",
              "1        0.089376  0.296270  1.970031  ...  0.013227 -0.002275  0.020680   \n",
              "2        0.031633 -0.012538  0.383576  ...  0.002761  0.004907 -0.014190   \n",
              "3       -0.143080  0.013247  1.461694  ...  0.026412 -0.027245  0.054681   \n",
              "4        0.081534 -0.079666  0.535018  ... -0.029124 -0.029357  0.009064   \n",
              "\n",
              "movieId    161830    161918    161944    162376    162542    162672    163949  \n",
              "0       -0.004256 -0.003944 -0.005674  0.018157 -0.005575 -0.005297 -0.003766  \n",
              "1       -0.005245 -0.007644 -0.021019  0.031243 -0.000957 -0.000753  0.026901  \n",
              "2       -0.000251 -0.006007 -0.003189 -0.026916  0.014637  0.013287 -0.005741  \n",
              "3        0.018450  0.034544 -0.035740  0.088889 -0.019365 -0.017113  0.066559  \n",
              "4       -0.029092 -0.030890 -0.057453  0.026344 -0.024027 -0.024614 -0.032752  \n",
              "\n",
              "[5 rows x 9066 columns]"
            ]
          },
          "metadata": {
            "tags": []
          },
          "execution_count": 25
        }
      ]
    },
    {
      "cell_type": "markdown",
      "metadata": {
        "id": "fveShU21I5UI"
      },
      "source": [
        "함수 설정 : 인자로 사용자 아이디, 영화 정보, 평점 테이블  \n",
        "사용자 아이디에 SVD로 나온 결과의 영화 평점이 가장 높은 데이터 순으로 정렬  \n",
        "사용자가 본 데이터를 제외  \n",
        "사용자가 안 본 영화에서 높은 평점 예측된 것 추천"
      ]
    },
    {
      "cell_type": "code",
      "metadata": {
        "id": "nODKWZhgI5UI"
      },
      "source": [
        "def recommend_movies(df_svd_preds,user_id,ori_movies_df,ori_ratings_df,num_recommendations=10):\n",
        "    user_row_number = user_id -1\n",
        "    sorted_user_predictions = df_svd_preds.iloc[user_row_number].sort_values(ascending=False) #영화 평점이 높은 순으로 정렬\n",
        "    user_data = ori_ratings_df[ori_ratings_df.userId == user_id]\n",
        "    user_history = user_data.merge(ori_movies_df,on='movieId').sort_values(['rating'],ascending=False) #평점 데이터의 userid 데이터와 원본 영화 데이터 결합\n",
        "    recommendations = ori_movies_df[~ori_movies_df['movieId'].isin(user_history['movieId'])] #원본 영화 데이터에서 사용자가 본 영화 데이터 제외\n",
        "    recommendations = recommendations.merge(pd.DataFrame(sorted_user_predictions).reset_index(),on='movieId')\n",
        "    recommendations = recommendations.rename(columns={user_row_number:'Predictions'}).sort_values('Predictions',ascending=False).iloc[:num_recommendations,:]\n",
        "    \n",
        "    return user_history,recommendations"
      ],
      "execution_count": null,
      "outputs": []
    },
    {
      "cell_type": "code",
      "metadata": {
        "id": "nR-pSsV2I5UI",
        "outputId": "fe337b99-e14b-474e-d48c-db4e04e8c93a"
      },
      "source": [
        "already_rated,predictions = recommend_movies(df_svd_preds,15,movie_data,rating_data,10)\n",
        "already_rated.head(10)"
      ],
      "execution_count": null,
      "outputs": [
        {
          "output_type": "execute_result",
          "data": {
            "text/html": [
              "<div>\n",
              "<style scoped>\n",
              "    .dataframe tbody tr th:only-of-type {\n",
              "        vertical-align: middle;\n",
              "    }\n",
              "\n",
              "    .dataframe tbody tr th {\n",
              "        vertical-align: top;\n",
              "    }\n",
              "\n",
              "    .dataframe thead th {\n",
              "        text-align: right;\n",
              "    }\n",
              "</style>\n",
              "<table border=\"1\" class=\"dataframe\">\n",
              "  <thead>\n",
              "    <tr style=\"text-align: right;\">\n",
              "      <th></th>\n",
              "      <th>userId</th>\n",
              "      <th>movieId</th>\n",
              "      <th>rating</th>\n",
              "      <th>title</th>\n",
              "    </tr>\n",
              "  </thead>\n",
              "  <tbody>\n",
              "    <tr>\n",
              "      <th>659</th>\n",
              "      <td>15</td>\n",
              "      <td>3300</td>\n",
              "      <td>5.0</td>\n",
              "      <td>Pitch Black (2000)</td>\n",
              "    </tr>\n",
              "    <tr>\n",
              "      <th>778</th>\n",
              "      <td>15</td>\n",
              "      <td>3996</td>\n",
              "      <td>5.0</td>\n",
              "      <td>Crouching Tiger, Hidden Dragon (Wo hu cang lon...</td>\n",
              "    </tr>\n",
              "    <tr>\n",
              "      <th>495</th>\n",
              "      <td>15</td>\n",
              "      <td>2395</td>\n",
              "      <td>5.0</td>\n",
              "      <td>Rushmore (1998)</td>\n",
              "    </tr>\n",
              "    <tr>\n",
              "      <th>757</th>\n",
              "      <td>15</td>\n",
              "      <td>3915</td>\n",
              "      <td>5.0</td>\n",
              "      <td>Girlfight (2000)</td>\n",
              "    </tr>\n",
              "    <tr>\n",
              "      <th>759</th>\n",
              "      <td>15</td>\n",
              "      <td>3948</td>\n",
              "      <td>5.0</td>\n",
              "      <td>Meet the Parents (2000)</td>\n",
              "    </tr>\n",
              "    <tr>\n",
              "      <th>760</th>\n",
              "      <td>15</td>\n",
              "      <td>3949</td>\n",
              "      <td>5.0</td>\n",
              "      <td>Requiem for a Dream (2000)</td>\n",
              "    </tr>\n",
              "    <tr>\n",
              "      <th>143</th>\n",
              "      <td>15</td>\n",
              "      <td>593</td>\n",
              "      <td>5.0</td>\n",
              "      <td>Silence of the Lambs, The (1991)</td>\n",
              "    </tr>\n",
              "    <tr>\n",
              "      <th>769</th>\n",
              "      <td>15</td>\n",
              "      <td>3983</td>\n",
              "      <td>5.0</td>\n",
              "      <td>You Can Count on Me (2000)</td>\n",
              "    </tr>\n",
              "    <tr>\n",
              "      <th>171</th>\n",
              "      <td>15</td>\n",
              "      <td>800</td>\n",
              "      <td>5.0</td>\n",
              "      <td>Lone Star (1996)</td>\n",
              "    </tr>\n",
              "    <tr>\n",
              "      <th>187</th>\n",
              "      <td>15</td>\n",
              "      <td>912</td>\n",
              "      <td>5.0</td>\n",
              "      <td>Casablanca (1942)</td>\n",
              "    </tr>\n",
              "  </tbody>\n",
              "</table>\n",
              "</div>"
            ],
            "text/plain": [
              "     userId  movieId  rating  \\\n",
              "659      15     3300     5.0   \n",
              "778      15     3996     5.0   \n",
              "495      15     2395     5.0   \n",
              "757      15     3915     5.0   \n",
              "759      15     3948     5.0   \n",
              "760      15     3949     5.0   \n",
              "143      15      593     5.0   \n",
              "769      15     3983     5.0   \n",
              "171      15      800     5.0   \n",
              "187      15      912     5.0   \n",
              "\n",
              "                                                 title  \n",
              "659                                 Pitch Black (2000)  \n",
              "778  Crouching Tiger, Hidden Dragon (Wo hu cang lon...  \n",
              "495                                    Rushmore (1998)  \n",
              "757                                   Girlfight (2000)  \n",
              "759                            Meet the Parents (2000)  \n",
              "760                         Requiem for a Dream (2000)  \n",
              "143                   Silence of the Lambs, The (1991)  \n",
              "769                         You Can Count on Me (2000)  \n",
              "171                                   Lone Star (1996)  \n",
              "187                                  Casablanca (1942)  "
            ]
          },
          "metadata": {
            "tags": []
          },
          "execution_count": 27
        }
      ]
    },
    {
      "cell_type": "code",
      "metadata": {
        "id": "bwzs5l66I5UI",
        "outputId": "6fff8a29-5e33-46aa-ee6e-90bf202ec8ae"
      },
      "source": [
        "predictions #영화 추천 및 예측 평점"
      ],
      "execution_count": null,
      "outputs": [
        {
          "output_type": "execute_result",
          "data": {
            "text/html": [
              "<div>\n",
              "<style scoped>\n",
              "    .dataframe tbody tr th:only-of-type {\n",
              "        vertical-align: middle;\n",
              "    }\n",
              "\n",
              "    .dataframe tbody tr th {\n",
              "        vertical-align: top;\n",
              "    }\n",
              "\n",
              "    .dataframe thead th {\n",
              "        text-align: right;\n",
              "    }\n",
              "</style>\n",
              "<table border=\"1\" class=\"dataframe\">\n",
              "  <thead>\n",
              "    <tr style=\"text-align: right;\">\n",
              "      <th></th>\n",
              "      <th>movieId</th>\n",
              "      <th>title</th>\n",
              "      <th>Predictions</th>\n",
              "    </tr>\n",
              "  </thead>\n",
              "  <tbody>\n",
              "    <tr>\n",
              "      <th>662</th>\n",
              "      <td>1080</td>\n",
              "      <td>Monty Python's Life of Brian (1979)</td>\n",
              "      <td>3.231573</td>\n",
              "    </tr>\n",
              "    <tr>\n",
              "      <th>669</th>\n",
              "      <td>1090</td>\n",
              "      <td>Platoon (1986)</td>\n",
              "      <td>3.031839</td>\n",
              "    </tr>\n",
              "    <tr>\n",
              "      <th>224</th>\n",
              "      <td>348</td>\n",
              "      <td>Bullets Over Broadway (1994)</td>\n",
              "      <td>2.967341</td>\n",
              "    </tr>\n",
              "    <tr>\n",
              "      <th>515</th>\n",
              "      <td>852</td>\n",
              "      <td>Tin Cup (1996)</td>\n",
              "      <td>2.918055</td>\n",
              "    </tr>\n",
              "    <tr>\n",
              "      <th>486</th>\n",
              "      <td>805</td>\n",
              "      <td>Time to Kill, A (1996)</td>\n",
              "      <td>2.851778</td>\n",
              "    </tr>\n",
              "    <tr>\n",
              "      <th>413</th>\n",
              "      <td>653</td>\n",
              "      <td>Dragonheart (1996)</td>\n",
              "      <td>2.783178</td>\n",
              "    </tr>\n",
              "    <tr>\n",
              "      <th>216</th>\n",
              "      <td>337</td>\n",
              "      <td>What's Eating Gilbert Grape (1993)</td>\n",
              "      <td>2.730816</td>\n",
              "    </tr>\n",
              "    <tr>\n",
              "      <th>422</th>\n",
              "      <td>671</td>\n",
              "      <td>Mystery Science Theater 3000: The Movie (1996)</td>\n",
              "      <td>2.721821</td>\n",
              "    </tr>\n",
              "    <tr>\n",
              "      <th>240</th>\n",
              "      <td>376</td>\n",
              "      <td>River Wild, The (1994)</td>\n",
              "      <td>2.673036</td>\n",
              "    </tr>\n",
              "    <tr>\n",
              "      <th>33</th>\n",
              "      <td>58</td>\n",
              "      <td>Postman, The (Postino, Il) (1994)</td>\n",
              "      <td>2.637897</td>\n",
              "    </tr>\n",
              "  </tbody>\n",
              "</table>\n",
              "</div>"
            ],
            "text/plain": [
              "     movieId                                           title  Predictions\n",
              "662     1080             Monty Python's Life of Brian (1979)     3.231573\n",
              "669     1090                                  Platoon (1986)     3.031839\n",
              "224      348                    Bullets Over Broadway (1994)     2.967341\n",
              "515      852                                  Tin Cup (1996)     2.918055\n",
              "486      805                          Time to Kill, A (1996)     2.851778\n",
              "413      653                              Dragonheart (1996)     2.783178\n",
              "216      337              What's Eating Gilbert Grape (1993)     2.730816\n",
              "422      671  Mystery Science Theater 3000: The Movie (1996)     2.721821\n",
              "240      376                          River Wild, The (1994)     2.673036\n",
              "33        58               Postman, The (Postino, Il) (1994)     2.637897"
            ]
          },
          "metadata": {
            "tags": []
          },
          "execution_count": 28
        }
      ]
    },
    {
      "cell_type": "markdown",
      "metadata": {
        "id": "HtH4akJxI5UI"
      },
      "source": [
        "latent factor 이용하는 방법  \n",
        "-정확하게 장르에 맞게 특성을 추출하기 어려울 수도 있을 듯  \n",
        "-지난 프로젝트에서 추출된 latent factor가 해석 불가능하다는 어려움\n",
        "-> 잠재 요인은 명확히 무엇인지 알 수 없음\n",
        "\n",
        "-> scalability와 속도에 있어서 장점이 있으나 전체 데이터셋을 이용하는 것이 아니라 여기서 SVD와 같은 모델을 이용했기 때문에 다른 추천 시스템에 비해 정확성이 떨어질 수 있다."
      ]
    },
    {
      "cell_type": "markdown",
      "metadata": {
        "id": "MGj12wHiI5UI"
      },
      "source": [
        "평점 외에 러닝타임이나 출연 배우 등의 변수를 고려하는 방법  \n",
        " -> 일반적인 MF 모델에서는 쉽지 않을 수도..  \n",
        " -> 평점 외에 다른 변수를 추가하려면 딥러닝 모델이나 FM(Factorization Machine) 모델을 이용  \n",
        " -> 또는 MF 모델을 여러 개 만들어 조합하는 방법  "
      ]
    },
    {
      "cell_type": "code",
      "metadata": {
        "id": "grJqBQ8zI5UI"
      },
      "source": [
        ""
      ],
      "execution_count": null,
      "outputs": []
    }
  ]
}